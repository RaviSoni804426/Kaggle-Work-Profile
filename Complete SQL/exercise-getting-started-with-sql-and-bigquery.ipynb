{
 "cells": [
  {
   "cell_type": "markdown",
   "id": "f2489b5f",
   "metadata": {
    "papermill": {
     "duration": 0.004519,
     "end_time": "2025-04-30T09:38:39.711134",
     "exception": false,
     "start_time": "2025-04-30T09:38:39.706615",
     "status": "completed"
    },
    "tags": []
   },
   "source": [
    "**This notebook is an exercise in the [SQL](https://www.kaggle.com/learn/intro-to-sql) course.  You can reference the tutorial at [this link](https://www.kaggle.com/dansbecker/getting-started-with-sql-and-bigquery).**\n",
    "\n",
    "---\n"
   ]
  },
  {
   "cell_type": "markdown",
   "id": "7f1725d3",
   "metadata": {
    "papermill": {
     "duration": 0.00392,
     "end_time": "2025-04-30T09:38:39.719484",
     "exception": false,
     "start_time": "2025-04-30T09:38:39.715564",
     "status": "completed"
    },
    "tags": []
   },
   "source": [
    "# Introduction\n",
    "\n",
    "The first test of your new data exploration skills uses data describing crime in the city of Chicago.\n",
    "\n",
    "Before you get started, run the following cell. It sets up the automated feedback system to review your answers."
   ]
  },
  {
   "cell_type": "code",
   "execution_count": 1,
   "id": "3a847964",
   "metadata": {
    "execution": {
     "iopub.execute_input": "2025-04-30T09:38:39.728321Z",
     "iopub.status.busy": "2025-04-30T09:38:39.727962Z",
     "iopub.status.idle": "2025-04-30T09:38:58.232441Z",
     "shell.execute_reply": "2025-04-30T09:38:58.231464Z"
    },
    "papermill": {
     "duration": 18.510575,
     "end_time": "2025-04-30T09:38:58.233956",
     "exception": false,
     "start_time": "2025-04-30T09:38:39.723381",
     "status": "completed"
    },
    "tags": []
   },
   "outputs": [
    {
     "name": "stderr",
     "output_type": "stream",
     "text": [
      "/usr/local/lib/python3.11/dist-packages/learntools/sql/ex1.py:64: SyntaxWarning: assertion is always true, perhaps remove parentheses?\n",
      "  assert (type(fields_for_plotting[0] == str), \"The first item in `fields_for_plotting` should be a string.\")\n",
      "/usr/local/lib/python3.11/dist-packages/learntools/sql/ex1.py:65: SyntaxWarning: assertion is always true, perhaps remove parentheses?\n",
      "  assert (type(fields_for_plotting[1] == str), \"The second item in `fields_for_plotting` should be a string.\")\n"
     ]
    },
    {
     "name": "stdout",
     "output_type": "stream",
     "text": [
      "Using Kaggle's public dataset BigQuery integration.\n",
      "Setup Complete\n"
     ]
    }
   ],
   "source": [
    "# Set up feedack system\n",
    "from learntools.core import binder\n",
    "binder.bind(globals())\n",
    "from learntools.sql.ex1 import *\n",
    "print(\"Setup Complete\")"
   ]
  },
  {
   "cell_type": "markdown",
   "id": "aab2497f",
   "metadata": {
    "papermill": {
     "duration": 0.003635,
     "end_time": "2025-04-30T09:38:58.241785",
     "exception": false,
     "start_time": "2025-04-30T09:38:58.238150",
     "status": "completed"
    },
    "tags": []
   },
   "source": [
    "Use the next code cell to fetch the dataset."
   ]
  },
  {
   "cell_type": "code",
   "execution_count": 2,
   "id": "69cfcaca",
   "metadata": {
    "execution": {
     "iopub.execute_input": "2025-04-30T09:38:58.250776Z",
     "iopub.status.busy": "2025-04-30T09:38:58.250324Z",
     "iopub.status.idle": "2025-04-30T09:38:58.535729Z",
     "shell.execute_reply": "2025-04-30T09:38:58.534916Z"
    },
    "papermill": {
     "duration": 0.291929,
     "end_time": "2025-04-30T09:38:58.537497",
     "exception": false,
     "start_time": "2025-04-30T09:38:58.245568",
     "status": "completed"
    },
    "tags": []
   },
   "outputs": [
    {
     "name": "stdout",
     "output_type": "stream",
     "text": [
      "Using Kaggle's public dataset BigQuery integration.\n"
     ]
    }
   ],
   "source": [
    "from google.cloud import bigquery\n",
    "\n",
    "# Create a \"Client\" object\n",
    "client = bigquery.Client()\n",
    "\n",
    "# Construct a reference to the \"chicago_crime\" dataset\n",
    "dataset_ref = client.dataset(\"chicago_crime\", project=\"bigquery-public-data\")\n",
    "\n",
    "# API request - fetch the dataset\n",
    "dataset = client.get_dataset(dataset_ref)"
   ]
  },
  {
   "cell_type": "markdown",
   "id": "9102b1f5",
   "metadata": {
    "papermill": {
     "duration": 0.003455,
     "end_time": "2025-04-30T09:38:58.544930",
     "exception": false,
     "start_time": "2025-04-30T09:38:58.541475",
     "status": "completed"
    },
    "tags": []
   },
   "source": [
    "# Exercises\n",
    "\n",
    "### 1) Count tables in the dataset\n",
    "\n",
    "How many tables are in the Chicago Crime dataset?"
   ]
  },
  {
   "cell_type": "code",
   "execution_count": 3,
   "id": "d6a2a01a",
   "metadata": {
    "execution": {
     "iopub.execute_input": "2025-04-30T09:38:58.553519Z",
     "iopub.status.busy": "2025-04-30T09:38:58.553232Z",
     "iopub.status.idle": "2025-04-30T09:38:58.729281Z",
     "shell.execute_reply": "2025-04-30T09:38:58.728255Z"
    },
    "papermill": {
     "duration": 0.182053,
     "end_time": "2025-04-30T09:38:58.730754",
     "exception": false,
     "start_time": "2025-04-30T09:38:58.548701",
     "status": "completed"
    },
    "tags": []
   },
   "outputs": [
    {
     "name": "stdout",
     "output_type": "stream",
     "text": [
      "1\n"
     ]
    }
   ],
   "source": [
    "# Write the code you need here to figure out the answer\n",
    "# List all the tables in the \"chicago_crime\" dataset\n",
    "tables = list(client.list_tables(dataset))\n",
    "\n",
    "# Print number of tables in the dataset\n",
    "print(len(tables))"
   ]
  },
  {
   "cell_type": "code",
   "execution_count": 4,
   "id": "fd97ca30",
   "metadata": {
    "execution": {
     "iopub.execute_input": "2025-04-30T09:38:58.740289Z",
     "iopub.status.busy": "2025-04-30T09:38:58.739892Z",
     "iopub.status.idle": "2025-04-30T09:38:58.747879Z",
     "shell.execute_reply": "2025-04-30T09:38:58.747017Z"
    },
    "papermill": {
     "duration": 0.014509,
     "end_time": "2025-04-30T09:38:58.749224",
     "exception": false,
     "start_time": "2025-04-30T09:38:58.734715",
     "status": "completed"
    },
    "tags": []
   },
   "outputs": [
    {
     "data": {
      "application/javascript": [
       "parent.postMessage({\"jupyterEvent\": \"custom.exercise_interaction\", \"data\": {\"outcomeType\": 1, \"valueTowardsCompletion\": 0.3333333333333333, \"interactionType\": 1, \"questionType\": 1, \"questionId\": \"1_CountTables\", \"learnToolsVersion\": \"0.3.5\", \"failureMessage\": \"\", \"exceptionClass\": \"\", \"trace\": \"\"}}, \"*\")"
      ],
      "text/plain": [
       "<IPython.core.display.Javascript object>"
      ]
     },
     "metadata": {},
     "output_type": "display_data"
    },
    {
     "data": {
      "text/markdown": [
       "<span style=\"color:#33cc33\">Correct</span>"
      ],
      "text/plain": [
       "Correct"
      ]
     },
     "metadata": {},
     "output_type": "display_data"
    }
   ],
   "source": [
    "num_tables = 1 # Store the answer as num_tables and then run this cell\n",
    "\n",
    "# Check your answer\n",
    "q_1.check()"
   ]
  },
  {
   "cell_type": "markdown",
   "id": "84a6b1f0",
   "metadata": {
    "papermill": {
     "duration": 0.003723,
     "end_time": "2025-04-30T09:38:58.757167",
     "exception": false,
     "start_time": "2025-04-30T09:38:58.753444",
     "status": "completed"
    },
    "tags": []
   },
   "source": [
    "For a hint or the solution, uncomment the appropriate line below."
   ]
  },
  {
   "cell_type": "code",
   "execution_count": 5,
   "id": "a085a396",
   "metadata": {
    "execution": {
     "iopub.execute_input": "2025-04-30T09:38:58.766342Z",
     "iopub.status.busy": "2025-04-30T09:38:58.766005Z",
     "iopub.status.idle": "2025-04-30T09:38:58.773204Z",
     "shell.execute_reply": "2025-04-30T09:38:58.772339Z"
    },
    "papermill": {
     "duration": 0.013389,
     "end_time": "2025-04-30T09:38:58.774624",
     "exception": false,
     "start_time": "2025-04-30T09:38:58.761235",
     "status": "completed"
    },
    "tags": []
   },
   "outputs": [
    {
     "data": {
      "application/javascript": [
       "parent.postMessage({\"jupyterEvent\": \"custom.exercise_interaction\", \"data\": {\"interactionType\": 3, \"questionType\": 1, \"questionId\": \"1_CountTables\", \"learnToolsVersion\": \"0.3.5\", \"valueTowardsCompletion\": 0.0, \"failureMessage\": \"\", \"exceptionClass\": \"\", \"trace\": \"\", \"outcomeType\": 4}}, \"*\")"
      ],
      "text/plain": [
       "<IPython.core.display.Javascript object>"
      ]
     },
     "metadata": {},
     "output_type": "display_data"
    },
    {
     "data": {
      "text/markdown": [
       "<span style=\"color:#33cc99\">Solution:</span> \n",
       "```python\n",
       "\n",
       "# List all the tables in the \"chicago_crime\" dataset\n",
       "tables = list(client.list_tables(dataset))\n",
       "\n",
       "# Print number of tables in the dataset\n",
       "print(len(tables))\n",
       "\n",
       "num_tables = 1\n",
       "\n",
       "```"
      ],
      "text/plain": [
       "Solution: \n",
       "```python\n",
       "\n",
       "# List all the tables in the \"chicago_crime\" dataset\n",
       "tables = list(client.list_tables(dataset))\n",
       "\n",
       "# Print number of tables in the dataset\n",
       "print(len(tables))\n",
       "\n",
       "num_tables = 1\n",
       "\n",
       "```"
      ]
     },
     "metadata": {},
     "output_type": "display_data"
    }
   ],
   "source": [
    "#q_1.hint()\n",
    "q_1.solution()"
   ]
  },
  {
   "cell_type": "markdown",
   "id": "df3778ec",
   "metadata": {
    "papermill": {
     "duration": 0.004083,
     "end_time": "2025-04-30T09:38:58.783040",
     "exception": false,
     "start_time": "2025-04-30T09:38:58.778957",
     "status": "completed"
    },
    "tags": []
   },
   "source": [
    "### 2) Explore the table schema\n",
    "\n",
    "How many columns in the `crime` table have `TIMESTAMP` data?"
   ]
  },
  {
   "cell_type": "code",
   "execution_count": 6,
   "id": "e12e1934",
   "metadata": {
    "execution": {
     "iopub.execute_input": "2025-04-30T09:38:58.792669Z",
     "iopub.status.busy": "2025-04-30T09:38:58.792364Z",
     "iopub.status.idle": "2025-04-30T09:38:59.102323Z",
     "shell.execute_reply": "2025-04-30T09:38:59.101415Z"
    },
    "papermill": {
     "duration": 0.31664,
     "end_time": "2025-04-30T09:38:59.103869",
     "exception": false,
     "start_time": "2025-04-30T09:38:58.787229",
     "status": "completed"
    },
    "tags": []
   },
   "outputs": [
    {
     "name": "stdout",
     "output_type": "stream",
     "text": [
      "[SchemaField('unique_key', 'INTEGER', 'REQUIRED', None, None, (), None), SchemaField('case_number', 'STRING', 'NULLABLE', None, None, (), None), SchemaField('date', 'TIMESTAMP', 'NULLABLE', None, None, (), None), SchemaField('block', 'STRING', 'NULLABLE', None, None, (), None), SchemaField('iucr', 'STRING', 'NULLABLE', None, None, (), None), SchemaField('primary_type', 'STRING', 'NULLABLE', None, None, (), None), SchemaField('description', 'STRING', 'NULLABLE', None, None, (), None), SchemaField('location_description', 'STRING', 'NULLABLE', None, None, (), None), SchemaField('arrest', 'BOOLEAN', 'NULLABLE', None, None, (), None), SchemaField('domestic', 'BOOLEAN', 'NULLABLE', None, None, (), None), SchemaField('beat', 'INTEGER', 'NULLABLE', None, None, (), None), SchemaField('district', 'INTEGER', 'NULLABLE', None, None, (), None), SchemaField('ward', 'INTEGER', 'NULLABLE', None, None, (), None), SchemaField('community_area', 'INTEGER', 'NULLABLE', None, None, (), None), SchemaField('fbi_code', 'STRING', 'NULLABLE', None, None, (), None), SchemaField('x_coordinate', 'FLOAT', 'NULLABLE', None, None, (), None), SchemaField('y_coordinate', 'FLOAT', 'NULLABLE', None, None, (), None), SchemaField('year', 'INTEGER', 'NULLABLE', None, None, (), None), SchemaField('updated_on', 'TIMESTAMP', 'NULLABLE', None, None, (), None), SchemaField('latitude', 'FLOAT', 'NULLABLE', None, None, (), None), SchemaField('longitude', 'FLOAT', 'NULLABLE', None, None, (), None), SchemaField('location', 'STRING', 'NULLABLE', None, None, (), None)]\n"
     ]
    }
   ],
   "source": [
    "# Write the code to figure out the answer\n",
    "table_ref=dataset_ref.table(\"crime\")\n",
    "table=client.get_table(table_ref)\n",
    "print(table.schema)\n"
   ]
  },
  {
   "cell_type": "code",
   "execution_count": 7,
   "id": "3c5c3175",
   "metadata": {
    "execution": {
     "iopub.execute_input": "2025-04-30T09:38:59.113968Z",
     "iopub.status.busy": "2025-04-30T09:38:59.113714Z",
     "iopub.status.idle": "2025-04-30T09:38:59.120558Z",
     "shell.execute_reply": "2025-04-30T09:38:59.119725Z"
    },
    "papermill": {
     "duration": 0.013738,
     "end_time": "2025-04-30T09:38:59.122210",
     "exception": false,
     "start_time": "2025-04-30T09:38:59.108472",
     "status": "completed"
    },
    "tags": []
   },
   "outputs": [
    {
     "data": {
      "application/javascript": [
       "parent.postMessage({\"jupyterEvent\": \"custom.exercise_interaction\", \"data\": {\"outcomeType\": 1, \"valueTowardsCompletion\": 0.3333333333333333, \"interactionType\": 1, \"questionType\": 1, \"questionId\": \"2_CountTimestampFields\", \"learnToolsVersion\": \"0.3.5\", \"failureMessage\": \"\", \"exceptionClass\": \"\", \"trace\": \"\"}}, \"*\")"
      ],
      "text/plain": [
       "<IPython.core.display.Javascript object>"
      ]
     },
     "metadata": {},
     "output_type": "display_data"
    },
    {
     "data": {
      "text/markdown": [
       "<span style=\"color:#33cc33\">Correct</span>"
      ],
      "text/plain": [
       "Correct"
      ]
     },
     "metadata": {},
     "output_type": "display_data"
    }
   ],
   "source": [
    "num_timestamp_fields = 2 # Put your answer here\n",
    "\n",
    "# Check your answer\n",
    "q_2.check()"
   ]
  },
  {
   "cell_type": "markdown",
   "id": "01d008de",
   "metadata": {
    "papermill": {
     "duration": 0.004555,
     "end_time": "2025-04-30T09:38:59.131516",
     "exception": false,
     "start_time": "2025-04-30T09:38:59.126961",
     "status": "completed"
    },
    "tags": []
   },
   "source": [
    "For a hint or the solution, uncomment the appropriate line below."
   ]
  },
  {
   "cell_type": "code",
   "execution_count": 8,
   "id": "b7f2ad00",
   "metadata": {
    "execution": {
     "iopub.execute_input": "2025-04-30T09:38:59.141772Z",
     "iopub.status.busy": "2025-04-30T09:38:59.141501Z",
     "iopub.status.idle": "2025-04-30T09:38:59.147958Z",
     "shell.execute_reply": "2025-04-30T09:38:59.147255Z"
    },
    "papermill": {
     "duration": 0.01335,
     "end_time": "2025-04-30T09:38:59.149451",
     "exception": false,
     "start_time": "2025-04-30T09:38:59.136101",
     "status": "completed"
    },
    "tags": []
   },
   "outputs": [
    {
     "data": {
      "application/javascript": [
       "parent.postMessage({\"jupyterEvent\": \"custom.exercise_interaction\", \"data\": {\"interactionType\": 3, \"questionType\": 1, \"questionId\": \"2_CountTimestampFields\", \"learnToolsVersion\": \"0.3.5\", \"valueTowardsCompletion\": 0.0, \"failureMessage\": \"\", \"exceptionClass\": \"\", \"trace\": \"\", \"outcomeType\": 4}}, \"*\")"
      ],
      "text/plain": [
       "<IPython.core.display.Javascript object>"
      ]
     },
     "metadata": {},
     "output_type": "display_data"
    },
    {
     "data": {
      "text/markdown": [
       "<span style=\"color:#33cc99\">Solution:</span> \n",
       "```python\n",
       "\n",
       "# Construct a reference to the \"crime\" table\n",
       "table_ref = dataset_ref.table(\"crime\")\n",
       "\n",
       "# API request - fetch the table\n",
       "table = client.get_table(table_ref)\n",
       "\n",
       "# Print information on all the columns in the \"crime\" table in the \"chicago_crime\" dataset\n",
       "print(table.schema)\n",
       "\n",
       "num_timestamp_fields = 2\n",
       "\n",
       "```"
      ],
      "text/plain": [
       "Solution: \n",
       "```python\n",
       "\n",
       "# Construct a reference to the \"crime\" table\n",
       "table_ref = dataset_ref.table(\"crime\")\n",
       "\n",
       "# API request - fetch the table\n",
       "table = client.get_table(table_ref)\n",
       "\n",
       "# Print information on all the columns in the \"crime\" table in the \"chicago_crime\" dataset\n",
       "print(table.schema)\n",
       "\n",
       "num_timestamp_fields = 2\n",
       "\n",
       "```"
      ]
     },
     "metadata": {},
     "output_type": "display_data"
    }
   ],
   "source": [
    "#q_2.hint()\n",
    "q_2.solution()"
   ]
  },
  {
   "cell_type": "markdown",
   "id": "8e61cc83",
   "metadata": {
    "papermill": {
     "duration": 0.004439,
     "end_time": "2025-04-30T09:38:59.159087",
     "exception": false,
     "start_time": "2025-04-30T09:38:59.154648",
     "status": "completed"
    },
    "tags": []
   },
   "source": [
    "### 3) Create a crime map\n",
    "\n",
    "If you wanted to create a map with a dot at the location of each crime, what are the names of the two fields you likely need to pull out of the `crime` table to plot the crimes on a map?"
   ]
  },
  {
   "cell_type": "code",
   "execution_count": 9,
   "id": "087ad703",
   "metadata": {
    "execution": {
     "iopub.execute_input": "2025-04-30T09:38:59.170120Z",
     "iopub.status.busy": "2025-04-30T09:38:59.169519Z",
     "iopub.status.idle": "2025-04-30T09:38:59.173347Z",
     "shell.execute_reply": "2025-04-30T09:38:59.172431Z"
    },
    "papermill": {
     "duration": 0.011097,
     "end_time": "2025-04-30T09:38:59.174775",
     "exception": false,
     "start_time": "2025-04-30T09:38:59.163678",
     "status": "completed"
    },
    "tags": []
   },
   "outputs": [],
   "source": [
    "# Write the code here to explore the data so you can find the answer\n"
   ]
  },
  {
   "cell_type": "code",
   "execution_count": 10,
   "id": "a2b53e39",
   "metadata": {
    "execution": {
     "iopub.execute_input": "2025-04-30T09:38:59.185500Z",
     "iopub.status.busy": "2025-04-30T09:38:59.185204Z",
     "iopub.status.idle": "2025-04-30T09:38:59.191768Z",
     "shell.execute_reply": "2025-04-30T09:38:59.191131Z"
    },
    "papermill": {
     "duration": 0.013442,
     "end_time": "2025-04-30T09:38:59.193090",
     "exception": false,
     "start_time": "2025-04-30T09:38:59.179648",
     "status": "completed"
    },
    "tags": []
   },
   "outputs": [
    {
     "data": {
      "application/javascript": [
       "parent.postMessage({\"jupyterEvent\": \"custom.exercise_interaction\", \"data\": {\"outcomeType\": 1, \"valueTowardsCompletion\": 0.3333333333333333, \"interactionType\": 1, \"questionType\": 2, \"questionId\": \"3_IdentifyFieldsForPlotting\", \"learnToolsVersion\": \"0.3.5\", \"failureMessage\": \"\", \"exceptionClass\": \"\", \"trace\": \"\"}}, \"*\")"
      ],
      "text/plain": [
       "<IPython.core.display.Javascript object>"
      ]
     },
     "metadata": {},
     "output_type": "display_data"
    },
    {
     "data": {
      "text/markdown": [
       "<span style=\"color:#33cc33\">Correct</span>"
      ],
      "text/plain": [
       "Correct"
      ]
     },
     "metadata": {},
     "output_type": "display_data"
    }
   ],
   "source": [
    "fields_for_plotting = ['latitude', 'longitude'] # Put your answers here\n",
    "\n",
    "# Check your answer\n",
    "q_3.check()"
   ]
  },
  {
   "cell_type": "markdown",
   "id": "97414434",
   "metadata": {
    "papermill": {
     "duration": 0.004544,
     "end_time": "2025-04-30T09:38:59.202773",
     "exception": false,
     "start_time": "2025-04-30T09:38:59.198229",
     "status": "completed"
    },
    "tags": []
   },
   "source": [
    "For a hint or the solution, uncomment the appropriate line below."
   ]
  },
  {
   "cell_type": "code",
   "execution_count": 11,
   "id": "7af52859",
   "metadata": {
    "execution": {
     "iopub.execute_input": "2025-04-30T09:38:59.213541Z",
     "iopub.status.busy": "2025-04-30T09:38:59.213232Z",
     "iopub.status.idle": "2025-04-30T09:38:59.220235Z",
     "shell.execute_reply": "2025-04-30T09:38:59.219327Z"
    },
    "papermill": {
     "duration": 0.014039,
     "end_time": "2025-04-30T09:38:59.221596",
     "exception": false,
     "start_time": "2025-04-30T09:38:59.207557",
     "status": "completed"
    },
    "tags": []
   },
   "outputs": [
    {
     "data": {
      "application/javascript": [
       "parent.postMessage({\"jupyterEvent\": \"custom.exercise_interaction\", \"data\": {\"interactionType\": 3, \"questionType\": 2, \"questionId\": \"3_IdentifyFieldsForPlotting\", \"learnToolsVersion\": \"0.3.5\", \"valueTowardsCompletion\": 0.0, \"failureMessage\": \"\", \"exceptionClass\": \"\", \"trace\": \"\", \"outcomeType\": 4}}, \"*\")"
      ],
      "text/plain": [
       "<IPython.core.display.Javascript object>"
      ]
     },
     "metadata": {},
     "output_type": "display_data"
    },
    {
     "data": {
      "text/markdown": [
       "<span style=\"color:#33cc99\">Solution:</span> \n",
       "```python\n",
       "fields_for_plotting = ['latitude', 'longitude']\n",
       "```"
      ],
      "text/plain": [
       "Solution: \n",
       "```python\n",
       "fields_for_plotting = ['latitude', 'longitude']\n",
       "```"
      ]
     },
     "metadata": {},
     "output_type": "display_data"
    }
   ],
   "source": [
    "#q_3.hint()\n",
    "q_3.solution()"
   ]
  },
  {
   "cell_type": "markdown",
   "id": "9772e734",
   "metadata": {
    "papermill": {
     "duration": 0.00478,
     "end_time": "2025-04-30T09:38:59.231444",
     "exception": false,
     "start_time": "2025-04-30T09:38:59.226664",
     "status": "completed"
    },
    "tags": []
   },
   "source": [
    "Thinking about the question above, there are a few columns that appear to have geographic data. Look at a few values (with the `list_rows()` command) to see if you can determine their relationship.  Two columns will still be hard to interpret. But it should be obvious how the `location` column relates to `latitude` and `longitude`."
   ]
  },
  {
   "cell_type": "code",
   "execution_count": 12,
   "id": "ce98a78c",
   "metadata": {
    "execution": {
     "iopub.execute_input": "2025-04-30T09:38:59.242430Z",
     "iopub.status.busy": "2025-04-30T09:38:59.242071Z",
     "iopub.status.idle": "2025-04-30T09:38:59.245948Z",
     "shell.execute_reply": "2025-04-30T09:38:59.245233Z"
    },
    "papermill": {
     "duration": 0.011082,
     "end_time": "2025-04-30T09:38:59.247445",
     "exception": false,
     "start_time": "2025-04-30T09:38:59.236363",
     "status": "completed"
    },
    "tags": []
   },
   "outputs": [],
   "source": [
    "# Scratch space for your code"
   ]
  },
  {
   "cell_type": "markdown",
   "id": "5b2b0ce8",
   "metadata": {
    "papermill": {
     "duration": 0.005079,
     "end_time": "2025-04-30T09:38:59.258102",
     "exception": false,
     "start_time": "2025-04-30T09:38:59.253023",
     "status": "completed"
    },
    "tags": []
   },
   "source": [
    "# Keep going\n",
    "\n",
    "You've looked at the schema, but you haven't yet done anything exciting with the data itself. Things get more interesting when you get to the data, so keep going to **[write your first SQL query](https://www.kaggle.com/dansbecker/select-from-where).**"
   ]
  },
  {
   "cell_type": "markdown",
   "id": "e87d8909",
   "metadata": {
    "papermill": {
     "duration": 0.005275,
     "end_time": "2025-04-30T09:38:59.268752",
     "exception": false,
     "start_time": "2025-04-30T09:38:59.263477",
     "status": "completed"
    },
    "tags": []
   },
   "source": [
    "---\n",
    "\n",
    "\n",
    "\n",
    "\n",
    "*Have questions or comments? Visit the [course discussion forum](https://www.kaggle.com/learn/intro-to-sql/discussion) to chat with other learners.*"
   ]
  }
 ],
 "metadata": {
  "kaggle": {
   "accelerator": "none",
   "dataSources": [
    {
     "datasetId": 22090,
     "sourceId": 28376,
     "sourceType": "datasetVersion"
    },
    {
     "datasetId": 6057,
     "sourceId": 285982,
     "sourceType": "datasetVersion"
    }
   ],
   "isGpuEnabled": false,
   "isInternetEnabled": false,
   "language": "python",
   "sourceType": "notebook"
  },
  "kernelspec": {
   "display_name": "Python 3",
   "language": "python",
   "name": "python3"
  },
  "language_info": {
   "codemirror_mode": {
    "name": "ipython",
    "version": 3
   },
   "file_extension": ".py",
   "mimetype": "text/x-python",
   "name": "python",
   "nbconvert_exporter": "python",
   "pygments_lexer": "ipython3",
   "version": "3.11.11"
  },
  "papermill": {
   "default_parameters": {},
   "duration": 27.120993,
   "end_time": "2025-04-30T09:39:02.006056",
   "environment_variables": {},
   "exception": null,
   "input_path": "__notebook__.ipynb",
   "output_path": "__notebook__.ipynb",
   "parameters": {},
   "start_time": "2025-04-30T09:38:34.885063",
   "version": "2.6.0"
  }
 },
 "nbformat": 4,
 "nbformat_minor": 5
}
