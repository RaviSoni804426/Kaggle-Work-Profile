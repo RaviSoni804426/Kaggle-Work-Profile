{
 "cells": [
  {
   "cell_type": "code",
   "execution_count": 1,
   "id": "678d4292",
   "metadata": {
    "execution": {
     "iopub.execute_input": "2025-05-01T17:50:46.395615Z",
     "iopub.status.busy": "2025-05-01T17:50:46.395193Z",
     "iopub.status.idle": "2025-05-01T17:50:51.282198Z",
     "shell.execute_reply": "2025-05-01T17:50:51.281394Z"
    },
    "papermill": {
     "duration": 4.898113,
     "end_time": "2025-05-01T17:50:51.283980",
     "exception": false,
     "start_time": "2025-05-01T17:50:46.385867",
     "status": "completed"
    },
    "tags": []
   },
   "outputs": [],
   "source": [
    "import pandas as pd\n",
    "import numpy as np\n",
    "import matplotlib.pyplot as plt\n",
    "import seaborn as sns\n",
    "from sklearn.metrics import accuracy_score\n",
    "from sklearn.tree import DecisionTreeClassifier\n",
    "from sklearn.ensemble import AdaBoostClassifier, RandomForestClassifier, GradientBoostingClassifier\n",
    "import xgboost as xgb\n",
    "from sklearn.model_selection import train_test_split\n",
    "from sklearn.preprocessing import LabelEncoder"
   ]
  },
  {
   "cell_type": "code",
   "execution_count": 2,
   "id": "b4c46249",
   "metadata": {
    "execution": {
     "iopub.execute_input": "2025-05-01T17:50:51.300513Z",
     "iopub.status.busy": "2025-05-01T17:50:51.299427Z",
     "iopub.status.idle": "2025-05-01T17:50:51.385937Z",
     "shell.execute_reply": "2025-05-01T17:50:51.384926Z"
    },
    "papermill": {
     "duration": 0.096116,
     "end_time": "2025-05-01T17:50:51.387626",
     "exception": false,
     "start_time": "2025-05-01T17:50:51.291510",
     "status": "completed"
    },
    "tags": []
   },
   "outputs": [],
   "source": [
    "train = pd.read_csv('../input/spaceship-titanic/train.csv')\n",
    "test = pd.read_csv('../input/spaceship-titanic/test.csv')\n",
    "\n"
   ]
  },
  {
   "cell_type": "code",
   "execution_count": 3,
   "id": "bb8aae1b",
   "metadata": {
    "execution": {
     "iopub.execute_input": "2025-05-01T17:50:51.402867Z",
     "iopub.status.busy": "2025-05-01T17:50:51.402578Z",
     "iopub.status.idle": "2025-05-01T17:50:51.483280Z",
     "shell.execute_reply": "2025-05-01T17:50:51.482129Z"
    },
    "papermill": {
     "duration": 0.090377,
     "end_time": "2025-05-01T17:50:51.484895",
     "exception": false,
     "start_time": "2025-05-01T17:50:51.394518",
     "status": "completed"
    },
    "tags": []
   },
   "outputs": [
    {
     "name": "stdout",
     "output_type": "stream",
     "text": [
      "🔹 train.head():\n",
      "  PassengerId HomePlanet CryoSleep  Cabin  Destination   Age    VIP  \\\n",
      "0     0001_01     Europa     False  B/0/P  TRAPPIST-1e  39.0  False   \n",
      "1     0002_01      Earth     False  F/0/S  TRAPPIST-1e  24.0  False   \n",
      "2     0003_01     Europa     False  A/0/S  TRAPPIST-1e  58.0   True   \n",
      "3     0003_02     Europa     False  A/0/S  TRAPPIST-1e  33.0  False   \n",
      "4     0004_01      Earth     False  F/1/S  TRAPPIST-1e  16.0  False   \n",
      "\n",
      "   RoomService  FoodCourt  ShoppingMall     Spa  VRDeck               Name  \\\n",
      "0          0.0        0.0           0.0     0.0     0.0    Maham Ofracculy   \n",
      "1        109.0        9.0          25.0   549.0    44.0       Juanna Vines   \n",
      "2         43.0     3576.0           0.0  6715.0    49.0      Altark Susent   \n",
      "3          0.0     1283.0         371.0  3329.0   193.0       Solam Susent   \n",
      "4        303.0       70.0         151.0   565.0     2.0  Willy Santantines   \n",
      "\n",
      "   Transported  \n",
      "0        False  \n",
      "1         True  \n",
      "2        False  \n",
      "3        False  \n",
      "4         True  \n",
      "\n",
      "🔹 train.shape:\n",
      "(8693, 14)\n",
      "\n",
      "🔹 train.info():\n",
      "<class 'pandas.core.frame.DataFrame'>\n",
      "RangeIndex: 8693 entries, 0 to 8692\n",
      "Data columns (total 14 columns):\n",
      " #   Column        Non-Null Count  Dtype  \n",
      "---  ------        --------------  -----  \n",
      " 0   PassengerId   8693 non-null   object \n",
      " 1   HomePlanet    8492 non-null   object \n",
      " 2   CryoSleep     8476 non-null   object \n",
      " 3   Cabin         8494 non-null   object \n",
      " 4   Destination   8511 non-null   object \n",
      " 5   Age           8514 non-null   float64\n",
      " 6   VIP           8490 non-null   object \n",
      " 7   RoomService   8512 non-null   float64\n",
      " 8   FoodCourt     8510 non-null   float64\n",
      " 9   ShoppingMall  8485 non-null   float64\n",
      " 10  Spa           8510 non-null   float64\n",
      " 11  VRDeck        8505 non-null   float64\n",
      " 12  Name          8493 non-null   object \n",
      " 13  Transported   8693 non-null   bool   \n",
      "dtypes: bool(1), float64(6), object(7)\n",
      "memory usage: 891.5+ KB\n",
      "None\n",
      "\n",
      "🔹 train.describe():\n",
      "               Age   RoomService     FoodCourt  ShoppingMall           Spa  \\\n",
      "count  8514.000000   8512.000000   8510.000000   8485.000000   8510.000000   \n",
      "mean     28.827930    224.687617    458.077203    173.729169    311.138778   \n",
      "std      14.489021    666.717663   1611.489240    604.696458   1136.705535   \n",
      "min       0.000000      0.000000      0.000000      0.000000      0.000000   \n",
      "25%      19.000000      0.000000      0.000000      0.000000      0.000000   \n",
      "50%      27.000000      0.000000      0.000000      0.000000      0.000000   \n",
      "75%      38.000000     47.000000     76.000000     27.000000     59.000000   \n",
      "max      79.000000  14327.000000  29813.000000  23492.000000  22408.000000   \n",
      "\n",
      "             VRDeck  \n",
      "count   8505.000000  \n",
      "mean     304.854791  \n",
      "std     1145.717189  \n",
      "min        0.000000  \n",
      "25%        0.000000  \n",
      "50%        0.000000  \n",
      "75%       46.000000  \n",
      "max    24133.000000  \n",
      "\n",
      "🔹 Missing values (train.isna().sum()):\n",
      "PassengerId       0\n",
      "HomePlanet      201\n",
      "CryoSleep       217\n",
      "Cabin           199\n",
      "Destination     182\n",
      "Age             179\n",
      "VIP             203\n",
      "RoomService     181\n",
      "FoodCourt       183\n",
      "ShoppingMall    208\n",
      "Spa             183\n",
      "VRDeck          188\n",
      "Name            200\n",
      "Transported       0\n",
      "dtype: int64\n",
      "\n",
      "🔹 Unique values (train.nunique()):\n",
      "PassengerId     8693\n",
      "HomePlanet         3\n",
      "CryoSleep          2\n",
      "Cabin           6560\n",
      "Destination        3\n",
      "Age               80\n",
      "VIP                2\n",
      "RoomService     1273\n",
      "FoodCourt       1507\n",
      "ShoppingMall    1115\n",
      "Spa             1327\n",
      "VRDeck          1306\n",
      "Name            8473\n",
      "Transported        2\n",
      "dtype: int64\n"
     ]
    }
   ],
   "source": [
    "\n",
    "print(\"🔹 train.head():\")\n",
    "print(train.head())\n",
    "\n",
    "\n",
    "print(\"\\n🔹 train.shape:\")\n",
    "print(train.shape)\n",
    "\n",
    "\n",
    "print(\"\\n🔹 train.info():\")\n",
    "print(train.info())\n",
    "\n",
    "\n",
    "print(\"\\n🔹 train.describe():\")\n",
    "print(train.describe())\n",
    "\n",
    "\n",
    "print(\"\\n🔹 Missing values (train.isna().sum()):\")\n",
    "print(train.isna().sum())\n",
    "\n",
    "\n",
    "print(\"\\n🔹 Unique values (train.nunique()):\")\n",
    "print(train.nunique())\n"
   ]
  },
  {
   "cell_type": "code",
   "execution_count": 4,
   "id": "126f6a3b",
   "metadata": {
    "execution": {
     "iopub.execute_input": "2025-05-01T17:50:51.500576Z",
     "iopub.status.busy": "2025-05-01T17:50:51.500249Z",
     "iopub.status.idle": "2025-05-01T17:50:51.539786Z",
     "shell.execute_reply": "2025-05-01T17:50:51.538880Z"
    },
    "papermill": {
     "duration": 0.049374,
     "end_time": "2025-05-01T17:50:51.541526",
     "exception": false,
     "start_time": "2025-05-01T17:50:51.492152",
     "status": "completed"
    },
    "tags": []
   },
   "outputs": [
    {
     "name": "stdout",
     "output_type": "stream",
     "text": [
      "🔹 test.head():\n",
      "  PassengerId HomePlanet CryoSleep  Cabin  Destination   Age    VIP  \\\n",
      "0     0013_01      Earth      True  G/3/S  TRAPPIST-1e  27.0  False   \n",
      "1     0018_01      Earth     False  F/4/S  TRAPPIST-1e  19.0  False   \n",
      "2     0019_01     Europa      True  C/0/S  55 Cancri e  31.0  False   \n",
      "3     0021_01     Europa     False  C/1/S  TRAPPIST-1e  38.0  False   \n",
      "4     0023_01      Earth     False  F/5/S  TRAPPIST-1e  20.0  False   \n",
      "\n",
      "   RoomService  FoodCourt  ShoppingMall     Spa  VRDeck              Name  \n",
      "0          0.0        0.0           0.0     0.0     0.0   Nelly Carsoning  \n",
      "1          0.0        9.0           0.0  2823.0     0.0    Lerome Peckers  \n",
      "2          0.0        0.0           0.0     0.0     0.0   Sabih Unhearfus  \n",
      "3          0.0     6652.0           0.0   181.0   585.0  Meratz Caltilter  \n",
      "4         10.0        0.0         635.0     0.0     0.0   Brence Harperez  \n",
      "\n",
      "🔹 test.shape:\n",
      "(4277, 13)\n",
      "\n",
      "🔹 test.info():\n",
      "<class 'pandas.core.frame.DataFrame'>\n",
      "RangeIndex: 4277 entries, 0 to 4276\n",
      "Data columns (total 13 columns):\n",
      " #   Column        Non-Null Count  Dtype  \n",
      "---  ------        --------------  -----  \n",
      " 0   PassengerId   4277 non-null   object \n",
      " 1   HomePlanet    4190 non-null   object \n",
      " 2   CryoSleep     4184 non-null   object \n",
      " 3   Cabin         4177 non-null   object \n",
      " 4   Destination   4185 non-null   object \n",
      " 5   Age           4186 non-null   float64\n",
      " 6   VIP           4184 non-null   object \n",
      " 7   RoomService   4195 non-null   float64\n",
      " 8   FoodCourt     4171 non-null   float64\n",
      " 9   ShoppingMall  4179 non-null   float64\n",
      " 10  Spa           4176 non-null   float64\n",
      " 11  VRDeck        4197 non-null   float64\n",
      " 12  Name          4183 non-null   object \n",
      "dtypes: float64(6), object(7)\n",
      "memory usage: 434.5+ KB\n",
      "None\n",
      "\n",
      "🔹 test.describe():\n",
      "               Age   RoomService     FoodCourt  ShoppingMall           Spa  \\\n",
      "count  4186.000000   4195.000000   4171.000000   4179.000000   4176.000000   \n",
      "mean     28.658146    219.266269    439.484296    177.295525    303.052443   \n",
      "std      14.179072    607.011289   1527.663045    560.821123   1117.186015   \n",
      "min       0.000000      0.000000      0.000000      0.000000      0.000000   \n",
      "25%      19.000000      0.000000      0.000000      0.000000      0.000000   \n",
      "50%      26.000000      0.000000      0.000000      0.000000      0.000000   \n",
      "75%      37.000000     53.000000     78.000000     33.000000     50.000000   \n",
      "max      79.000000  11567.000000  25273.000000   8292.000000  19844.000000   \n",
      "\n",
      "             VRDeck  \n",
      "count   4197.000000  \n",
      "mean     310.710031  \n",
      "std     1246.994742  \n",
      "min        0.000000  \n",
      "25%        0.000000  \n",
      "50%        0.000000  \n",
      "75%       36.000000  \n",
      "max    22272.000000  \n",
      "\n",
      "🔹 Missing values (test.isna().sum()):\n",
      "PassengerId       0\n",
      "HomePlanet       87\n",
      "CryoSleep        93\n",
      "Cabin           100\n",
      "Destination      92\n",
      "Age              91\n",
      "VIP              93\n",
      "RoomService      82\n",
      "FoodCourt       106\n",
      "ShoppingMall     98\n",
      "Spa             101\n",
      "VRDeck           80\n",
      "Name             94\n",
      "dtype: int64\n",
      "\n",
      "🔹 Unique values (test.nunique()):\n",
      "PassengerId     4277\n",
      "HomePlanet         3\n",
      "CryoSleep          2\n",
      "Cabin           3265\n",
      "Destination        3\n",
      "Age               79\n",
      "VIP                2\n",
      "RoomService      842\n",
      "FoodCourt        902\n",
      "ShoppingMall     715\n",
      "Spa              833\n",
      "VRDeck           796\n",
      "Name            4176\n",
      "dtype: int64\n"
     ]
    }
   ],
   "source": [
    "# Basic EDA in one cell\n",
    "\n",
    "\n",
    "print(\"🔹 test.head():\")\n",
    "print(test.head())\n",
    "\n",
    "\n",
    "print(\"\\n🔹 test.shape:\")\n",
    "print(test.shape)\n",
    "\n",
    "\n",
    "print(\"\\n🔹 test.info():\")\n",
    "print(test.info())\n",
    "\n",
    "\n",
    "print(\"\\n🔹 test.describe():\")\n",
    "print(test.describe())\n",
    "\n",
    "\n",
    "print(\"\\n🔹 Missing values (test.isna().sum()):\")\n",
    "print(test.isna().sum())\n",
    "\n",
    "\n",
    "print(\"\\n🔹 Unique values (test.nunique()):\")\n",
    "print(test.nunique())\n"
   ]
  },
  {
   "cell_type": "code",
   "execution_count": 5,
   "id": "058640b1",
   "metadata": {
    "execution": {
     "iopub.execute_input": "2025-05-01T17:50:51.557232Z",
     "iopub.status.busy": "2025-05-01T17:50:51.556891Z",
     "iopub.status.idle": "2025-05-01T17:50:51.583290Z",
     "shell.execute_reply": "2025-05-01T17:50:51.582078Z"
    },
    "papermill": {
     "duration": 0.036009,
     "end_time": "2025-05-01T17:50:51.584840",
     "exception": false,
     "start_time": "2025-05-01T17:50:51.548831",
     "status": "completed"
    },
    "tags": []
   },
   "outputs": [
    {
     "data": {
      "text/html": [
       "<div>\n",
       "<style scoped>\n",
       "    .dataframe tbody tr th:only-of-type {\n",
       "        vertical-align: middle;\n",
       "    }\n",
       "\n",
       "    .dataframe tbody tr th {\n",
       "        vertical-align: top;\n",
       "    }\n",
       "\n",
       "    .dataframe thead th {\n",
       "        text-align: right;\n",
       "    }\n",
       "</style>\n",
       "<table border=\"1\" class=\"dataframe\">\n",
       "  <thead>\n",
       "    <tr style=\"text-align: right;\">\n",
       "      <th></th>\n",
       "      <th>PassengerId</th>\n",
       "      <th>HomePlanet</th>\n",
       "      <th>CryoSleep</th>\n",
       "      <th>Cabin</th>\n",
       "      <th>Destination</th>\n",
       "      <th>Age</th>\n",
       "      <th>VIP</th>\n",
       "      <th>RoomService</th>\n",
       "      <th>FoodCourt</th>\n",
       "      <th>ShoppingMall</th>\n",
       "      <th>Spa</th>\n",
       "      <th>VRDeck</th>\n",
       "      <th>Name</th>\n",
       "      <th>Transported</th>\n",
       "    </tr>\n",
       "  </thead>\n",
       "  <tbody>\n",
       "    <tr>\n",
       "      <th>0</th>\n",
       "      <td>0001_01</td>\n",
       "      <td>Europa</td>\n",
       "      <td>False</td>\n",
       "      <td>B/0/P</td>\n",
       "      <td>TRAPPIST-1e</td>\n",
       "      <td>39.0</td>\n",
       "      <td>False</td>\n",
       "      <td>0.0</td>\n",
       "      <td>0.0</td>\n",
       "      <td>0.0</td>\n",
       "      <td>0.0</td>\n",
       "      <td>0.0</td>\n",
       "      <td>Maham Ofracculy</td>\n",
       "      <td>False</td>\n",
       "    </tr>\n",
       "    <tr>\n",
       "      <th>1</th>\n",
       "      <td>0002_01</td>\n",
       "      <td>Earth</td>\n",
       "      <td>False</td>\n",
       "      <td>F/0/S</td>\n",
       "      <td>TRAPPIST-1e</td>\n",
       "      <td>24.0</td>\n",
       "      <td>False</td>\n",
       "      <td>109.0</td>\n",
       "      <td>9.0</td>\n",
       "      <td>25.0</td>\n",
       "      <td>549.0</td>\n",
       "      <td>44.0</td>\n",
       "      <td>Juanna Vines</td>\n",
       "      <td>True</td>\n",
       "    </tr>\n",
       "    <tr>\n",
       "      <th>2</th>\n",
       "      <td>0003_01</td>\n",
       "      <td>Europa</td>\n",
       "      <td>False</td>\n",
       "      <td>A/0/S</td>\n",
       "      <td>TRAPPIST-1e</td>\n",
       "      <td>58.0</td>\n",
       "      <td>True</td>\n",
       "      <td>43.0</td>\n",
       "      <td>3576.0</td>\n",
       "      <td>0.0</td>\n",
       "      <td>6715.0</td>\n",
       "      <td>49.0</td>\n",
       "      <td>Altark Susent</td>\n",
       "      <td>False</td>\n",
       "    </tr>\n",
       "    <tr>\n",
       "      <th>3</th>\n",
       "      <td>0003_02</td>\n",
       "      <td>Europa</td>\n",
       "      <td>False</td>\n",
       "      <td>A/0/S</td>\n",
       "      <td>TRAPPIST-1e</td>\n",
       "      <td>33.0</td>\n",
       "      <td>False</td>\n",
       "      <td>0.0</td>\n",
       "      <td>1283.0</td>\n",
       "      <td>371.0</td>\n",
       "      <td>3329.0</td>\n",
       "      <td>193.0</td>\n",
       "      <td>Solam Susent</td>\n",
       "      <td>False</td>\n",
       "    </tr>\n",
       "    <tr>\n",
       "      <th>4</th>\n",
       "      <td>0004_01</td>\n",
       "      <td>Earth</td>\n",
       "      <td>False</td>\n",
       "      <td>F/1/S</td>\n",
       "      <td>TRAPPIST-1e</td>\n",
       "      <td>16.0</td>\n",
       "      <td>False</td>\n",
       "      <td>303.0</td>\n",
       "      <td>70.0</td>\n",
       "      <td>151.0</td>\n",
       "      <td>565.0</td>\n",
       "      <td>2.0</td>\n",
       "      <td>Willy Santantines</td>\n",
       "      <td>True</td>\n",
       "    </tr>\n",
       "  </tbody>\n",
       "</table>\n",
       "</div>"
      ],
      "text/plain": [
       "  PassengerId HomePlanet CryoSleep  Cabin  Destination   Age    VIP  \\\n",
       "0     0001_01     Europa     False  B/0/P  TRAPPIST-1e  39.0  False   \n",
       "1     0002_01      Earth     False  F/0/S  TRAPPIST-1e  24.0  False   \n",
       "2     0003_01     Europa     False  A/0/S  TRAPPIST-1e  58.0   True   \n",
       "3     0003_02     Europa     False  A/0/S  TRAPPIST-1e  33.0  False   \n",
       "4     0004_01      Earth     False  F/1/S  TRAPPIST-1e  16.0  False   \n",
       "\n",
       "   RoomService  FoodCourt  ShoppingMall     Spa  VRDeck               Name  \\\n",
       "0          0.0        0.0           0.0     0.0     0.0    Maham Ofracculy   \n",
       "1        109.0        9.0          25.0   549.0    44.0       Juanna Vines   \n",
       "2         43.0     3576.0           0.0  6715.0    49.0      Altark Susent   \n",
       "3          0.0     1283.0         371.0  3329.0   193.0       Solam Susent   \n",
       "4        303.0       70.0         151.0   565.0     2.0  Willy Santantines   \n",
       "\n",
       "  Transported  \n",
       "0       False  \n",
       "1        True  \n",
       "2       False  \n",
       "3       False  \n",
       "4        True  "
      ]
     },
     "execution_count": 5,
     "metadata": {},
     "output_type": "execute_result"
    }
   ],
   "source": [
    "df=pd.concat([train,test],sort=False)\n",
    "df.head()"
   ]
  },
  {
   "cell_type": "code",
   "execution_count": 6,
   "id": "ca92b053",
   "metadata": {
    "execution": {
     "iopub.execute_input": "2025-05-01T17:50:51.601383Z",
     "iopub.status.busy": "2025-05-01T17:50:51.601022Z",
     "iopub.status.idle": "2025-05-01T17:50:51.606918Z",
     "shell.execute_reply": "2025-05-01T17:50:51.606117Z"
    },
    "papermill": {
     "duration": 0.015559,
     "end_time": "2025-05-01T17:50:51.608387",
     "exception": false,
     "start_time": "2025-05-01T17:50:51.592828",
     "status": "completed"
    },
    "tags": []
   },
   "outputs": [
    {
     "data": {
      "text/plain": [
       "True"
      ]
     },
     "execution_count": 6,
     "metadata": {},
     "output_type": "execute_result"
    }
   ],
   "source": [
    "df.shape[0]==train.shape[0]+test.shape[0]"
   ]
  },
  {
   "cell_type": "code",
   "execution_count": 7,
   "id": "3867e759",
   "metadata": {
    "execution": {
     "iopub.execute_input": "2025-05-01T17:50:51.624602Z",
     "iopub.status.busy": "2025-05-01T17:50:51.623931Z",
     "iopub.status.idle": "2025-05-01T17:50:51.636886Z",
     "shell.execute_reply": "2025-05-01T17:50:51.636126Z"
    },
    "papermill": {
     "duration": 0.022453,
     "end_time": "2025-05-01T17:50:51.638216",
     "exception": false,
     "start_time": "2025-05-01T17:50:51.615763",
     "status": "completed"
    },
    "tags": []
   },
   "outputs": [
    {
     "data": {
      "text/plain": [
       "PassengerId        0\n",
       "HomePlanet       288\n",
       "CryoSleep        310\n",
       "Cabin            299\n",
       "Destination      274\n",
       "Age              270\n",
       "VIP              296\n",
       "RoomService      263\n",
       "FoodCourt        289\n",
       "ShoppingMall     306\n",
       "Spa              284\n",
       "VRDeck           268\n",
       "Name             294\n",
       "Transported     4277\n",
       "dtype: int64"
      ]
     },
     "execution_count": 7,
     "metadata": {},
     "output_type": "execute_result"
    }
   ],
   "source": [
    "df.isna().sum()"
   ]
  },
  {
   "cell_type": "code",
   "execution_count": 8,
   "id": "6d1124be",
   "metadata": {
    "execution": {
     "iopub.execute_input": "2025-05-01T17:50:51.654900Z",
     "iopub.status.busy": "2025-05-01T17:50:51.654590Z",
     "iopub.status.idle": "2025-05-01T17:50:51.694010Z",
     "shell.execute_reply": "2025-05-01T17:50:51.693108Z"
    },
    "papermill": {
     "duration": 0.04963,
     "end_time": "2025-05-01T17:50:51.695439",
     "exception": false,
     "start_time": "2025-05-01T17:50:51.645809",
     "status": "completed"
    },
    "tags": []
   },
   "outputs": [
    {
     "name": "stderr",
     "output_type": "stream",
     "text": [
      "/tmp/ipykernel_13/406238380.py:4: FutureWarning: Downcasting object dtype arrays on .fillna, .ffill, .bfill is deprecated and will change in a future version. Call result.infer_objects(copy=False) instead. To opt-in to the future behavior, set `pd.set_option('future.no_silent_downcasting', True)`\n",
      "  df[categorical] = df[categorical].fillna(mode)\n"
     ]
    },
    {
     "data": {
      "text/plain": [
       "PassengerId        0\n",
       "HomePlanet         0\n",
       "CryoSleep          0\n",
       "Cabin            299\n",
       "Destination        0\n",
       "Age                0\n",
       "VIP                0\n",
       "RoomService        0\n",
       "FoodCourt          0\n",
       "ShoppingMall       0\n",
       "Spa                0\n",
       "VRDeck             0\n",
       "Name             294\n",
       "Transported     4277\n",
       "dtype: int64"
      ]
     },
     "execution_count": 8,
     "metadata": {},
     "output_type": "execute_result"
    }
   ],
   "source": [
    "numerical=['Age','RoomService','FoodCourt','ShoppingMall', 'Spa', 'VRDeck']\n",
    "categorical=['HomePlanet','CryoSleep','Destination','VIP']\n",
    "mode = df[categorical].mode().iloc[0]\n",
    "df[categorical] = df[categorical].fillna(mode)\n",
    "median=df[numerical].median()\n",
    "df[numerical]=df[numerical].fillna(median)\n",
    "df.isna().sum()\n"
   ]
  },
  {
   "cell_type": "code",
   "execution_count": 9,
   "id": "25e2dfb7",
   "metadata": {
    "execution": {
     "iopub.execute_input": "2025-05-01T17:50:51.711865Z",
     "iopub.status.busy": "2025-05-01T17:50:51.711524Z",
     "iopub.status.idle": "2025-05-01T17:50:51.718751Z",
     "shell.execute_reply": "2025-05-01T17:50:51.718023Z"
    },
    "papermill": {
     "duration": 0.017068,
     "end_time": "2025-05-01T17:50:51.720205",
     "exception": false,
     "start_time": "2025-05-01T17:50:51.703137",
     "status": "completed"
    },
    "tags": []
   },
   "outputs": [],
   "source": [
    "df = df.drop(columns=['Name'])\n"
   ]
  },
  {
   "cell_type": "code",
   "execution_count": 10,
   "id": "a5aba181",
   "metadata": {
    "execution": {
     "iopub.execute_input": "2025-05-01T17:50:51.736743Z",
     "iopub.status.busy": "2025-05-01T17:50:51.736374Z",
     "iopub.status.idle": "2025-05-01T17:50:51.761416Z",
     "shell.execute_reply": "2025-05-01T17:50:51.760486Z"
    },
    "papermill": {
     "duration": 0.035354,
     "end_time": "2025-05-01T17:50:51.763215",
     "exception": false,
     "start_time": "2025-05-01T17:50:51.727861",
     "status": "completed"
    },
    "tags": []
   },
   "outputs": [],
   "source": [
    "df[['Deck','Num','Side']]=df['Cabin'].str.split('/',expand=True)\n",
    "df=df.drop(columns=['Cabin'])\n"
   ]
  },
  {
   "cell_type": "code",
   "execution_count": 11,
   "id": "e4ff8825",
   "metadata": {
    "execution": {
     "iopub.execute_input": "2025-05-01T17:50:51.781489Z",
     "iopub.status.busy": "2025-05-01T17:50:51.781163Z",
     "iopub.status.idle": "2025-05-01T17:50:51.797880Z",
     "shell.execute_reply": "2025-05-01T17:50:51.797036Z"
    },
    "papermill": {
     "duration": 0.027913,
     "end_time": "2025-05-01T17:50:51.799501",
     "exception": false,
     "start_time": "2025-05-01T17:50:51.771588",
     "status": "completed"
    },
    "tags": []
   },
   "outputs": [
    {
     "data": {
      "text/html": [
       "<div>\n",
       "<style scoped>\n",
       "    .dataframe tbody tr th:only-of-type {\n",
       "        vertical-align: middle;\n",
       "    }\n",
       "\n",
       "    .dataframe tbody tr th {\n",
       "        vertical-align: top;\n",
       "    }\n",
       "\n",
       "    .dataframe thead th {\n",
       "        text-align: right;\n",
       "    }\n",
       "</style>\n",
       "<table border=\"1\" class=\"dataframe\">\n",
       "  <thead>\n",
       "    <tr style=\"text-align: right;\">\n",
       "      <th></th>\n",
       "      <th>PassengerId</th>\n",
       "      <th>HomePlanet</th>\n",
       "      <th>CryoSleep</th>\n",
       "      <th>Destination</th>\n",
       "      <th>Age</th>\n",
       "      <th>VIP</th>\n",
       "      <th>RoomService</th>\n",
       "      <th>FoodCourt</th>\n",
       "      <th>ShoppingMall</th>\n",
       "      <th>Spa</th>\n",
       "      <th>VRDeck</th>\n",
       "      <th>Transported</th>\n",
       "      <th>Deck</th>\n",
       "      <th>Num</th>\n",
       "      <th>Side</th>\n",
       "    </tr>\n",
       "  </thead>\n",
       "  <tbody>\n",
       "    <tr>\n",
       "      <th>0</th>\n",
       "      <td>0001_01</td>\n",
       "      <td>Europa</td>\n",
       "      <td>False</td>\n",
       "      <td>TRAPPIST-1e</td>\n",
       "      <td>39.0</td>\n",
       "      <td>False</td>\n",
       "      <td>0.0</td>\n",
       "      <td>0.0</td>\n",
       "      <td>0.0</td>\n",
       "      <td>0.0</td>\n",
       "      <td>0.0</td>\n",
       "      <td>False</td>\n",
       "      <td>B</td>\n",
       "      <td>0</td>\n",
       "      <td>P</td>\n",
       "    </tr>\n",
       "    <tr>\n",
       "      <th>1</th>\n",
       "      <td>0002_01</td>\n",
       "      <td>Earth</td>\n",
       "      <td>False</td>\n",
       "      <td>TRAPPIST-1e</td>\n",
       "      <td>24.0</td>\n",
       "      <td>False</td>\n",
       "      <td>109.0</td>\n",
       "      <td>9.0</td>\n",
       "      <td>25.0</td>\n",
       "      <td>549.0</td>\n",
       "      <td>44.0</td>\n",
       "      <td>True</td>\n",
       "      <td>F</td>\n",
       "      <td>0</td>\n",
       "      <td>S</td>\n",
       "    </tr>\n",
       "    <tr>\n",
       "      <th>2</th>\n",
       "      <td>0003_01</td>\n",
       "      <td>Europa</td>\n",
       "      <td>False</td>\n",
       "      <td>TRAPPIST-1e</td>\n",
       "      <td>58.0</td>\n",
       "      <td>True</td>\n",
       "      <td>43.0</td>\n",
       "      <td>3576.0</td>\n",
       "      <td>0.0</td>\n",
       "      <td>6715.0</td>\n",
       "      <td>49.0</td>\n",
       "      <td>False</td>\n",
       "      <td>A</td>\n",
       "      <td>0</td>\n",
       "      <td>S</td>\n",
       "    </tr>\n",
       "    <tr>\n",
       "      <th>3</th>\n",
       "      <td>0003_02</td>\n",
       "      <td>Europa</td>\n",
       "      <td>False</td>\n",
       "      <td>TRAPPIST-1e</td>\n",
       "      <td>33.0</td>\n",
       "      <td>False</td>\n",
       "      <td>0.0</td>\n",
       "      <td>1283.0</td>\n",
       "      <td>371.0</td>\n",
       "      <td>3329.0</td>\n",
       "      <td>193.0</td>\n",
       "      <td>False</td>\n",
       "      <td>A</td>\n",
       "      <td>0</td>\n",
       "      <td>S</td>\n",
       "    </tr>\n",
       "    <tr>\n",
       "      <th>4</th>\n",
       "      <td>0004_01</td>\n",
       "      <td>Earth</td>\n",
       "      <td>False</td>\n",
       "      <td>TRAPPIST-1e</td>\n",
       "      <td>16.0</td>\n",
       "      <td>False</td>\n",
       "      <td>303.0</td>\n",
       "      <td>70.0</td>\n",
       "      <td>151.0</td>\n",
       "      <td>565.0</td>\n",
       "      <td>2.0</td>\n",
       "      <td>True</td>\n",
       "      <td>F</td>\n",
       "      <td>1</td>\n",
       "      <td>S</td>\n",
       "    </tr>\n",
       "  </tbody>\n",
       "</table>\n",
       "</div>"
      ],
      "text/plain": [
       "  PassengerId HomePlanet  CryoSleep  Destination   Age    VIP  RoomService  \\\n",
       "0     0001_01     Europa      False  TRAPPIST-1e  39.0  False          0.0   \n",
       "1     0002_01      Earth      False  TRAPPIST-1e  24.0  False        109.0   \n",
       "2     0003_01     Europa      False  TRAPPIST-1e  58.0   True         43.0   \n",
       "3     0003_02     Europa      False  TRAPPIST-1e  33.0  False          0.0   \n",
       "4     0004_01      Earth      False  TRAPPIST-1e  16.0  False        303.0   \n",
       "\n",
       "   FoodCourt  ShoppingMall     Spa  VRDeck Transported Deck Num Side  \n",
       "0        0.0           0.0     0.0     0.0       False    B   0    P  \n",
       "1        9.0          25.0   549.0    44.0        True    F   0    S  \n",
       "2     3576.0           0.0  6715.0    49.0       False    A   0    S  \n",
       "3     1283.0         371.0  3329.0   193.0       False    A   0    S  \n",
       "4       70.0         151.0   565.0     2.0        True    F   1    S  "
      ]
     },
     "execution_count": 11,
     "metadata": {},
     "output_type": "execute_result"
    }
   ],
   "source": [
    "df.head()"
   ]
  },
  {
   "cell_type": "code",
   "execution_count": 12,
   "id": "88ff2b62",
   "metadata": {
    "execution": {
     "iopub.execute_input": "2025-05-01T17:50:51.817026Z",
     "iopub.status.busy": "2025-05-01T17:50:51.816398Z",
     "iopub.status.idle": "2025-05-01T17:50:51.829724Z",
     "shell.execute_reply": "2025-05-01T17:50:51.828901Z"
    },
    "papermill": {
     "duration": 0.023551,
     "end_time": "2025-05-01T17:50:51.831352",
     "exception": false,
     "start_time": "2025-05-01T17:50:51.807801",
     "status": "completed"
    },
    "tags": []
   },
   "outputs": [
    {
     "data": {
      "text/plain": [
       "PassengerId        0\n",
       "HomePlanet         0\n",
       "CryoSleep          0\n",
       "Destination        0\n",
       "Age                0\n",
       "VIP                0\n",
       "RoomService        0\n",
       "FoodCourt          0\n",
       "ShoppingMall       0\n",
       "Spa                0\n",
       "VRDeck             0\n",
       "Transported     4277\n",
       "Deck             299\n",
       "Num              299\n",
       "Side             299\n",
       "dtype: int64"
      ]
     },
     "execution_count": 12,
     "metadata": {},
     "output_type": "execute_result"
    }
   ],
   "source": [
    "df.isna().sum()"
   ]
  },
  {
   "cell_type": "code",
   "execution_count": 13,
   "id": "a491cf3e",
   "metadata": {
    "execution": {
     "iopub.execute_input": "2025-05-01T17:50:51.849344Z",
     "iopub.status.busy": "2025-05-01T17:50:51.848838Z",
     "iopub.status.idle": "2025-05-01T17:50:52.201854Z",
     "shell.execute_reply": "2025-05-01T17:50:52.200934Z"
    },
    "papermill": {
     "duration": 0.363516,
     "end_time": "2025-05-01T17:50:52.203272",
     "exception": false,
     "start_time": "2025-05-01T17:50:51.839756",
     "status": "completed"
    },
    "tags": []
   },
   "outputs": [
    {
     "data": {
      "text/plain": [
       "array([[<Axes: title={'center': 'Age'}>]], dtype=object)"
      ]
     },
     "execution_count": 13,
     "metadata": {},
     "output_type": "execute_result"
    },
    {
     "data": {
      "image/png": "[encoded data removed]",
      "text/plain": [
       "<Figure size 640x480 with 1 Axes>"
      ]
     },
     "metadata": {},
     "output_type": "display_data"
    }
   ],
   "source": [
    "df.hist('Age')"
   ]
  },
  {
   "cell_type": "code",
   "execution_count": 14,
   "id": "716de3e5",
   "metadata": {
    "execution": {
     "iopub.execute_input": "2025-05-01T17:50:52.221415Z",
     "iopub.status.busy": "2025-05-01T17:50:52.220994Z",
     "iopub.status.idle": "2025-05-01T17:50:52.244597Z",
     "shell.execute_reply": "2025-05-01T17:50:52.243762Z"
    },
    "papermill": {
     "duration": 0.034266,
     "end_time": "2025-05-01T17:50:52.246008",
     "exception": false,
     "start_time": "2025-05-01T17:50:52.211742",
     "status": "completed"
    },
    "tags": []
   },
   "outputs": [
    {
     "data": {
      "text/html": [
       "<div>\n",
       "<style scoped>\n",
       "    .dataframe tbody tr th:only-of-type {\n",
       "        vertical-align: middle;\n",
       "    }\n",
       "\n",
       "    .dataframe tbody tr th {\n",
       "        vertical-align: top;\n",
       "    }\n",
       "\n",
       "    .dataframe thead th {\n",
       "        text-align: right;\n",
       "    }\n",
       "</style>\n",
       "<table border=\"1\" class=\"dataframe\">\n",
       "  <thead>\n",
       "    <tr style=\"text-align: right;\">\n",
       "      <th></th>\n",
       "      <th>PassengerId</th>\n",
       "      <th>HomePlanet</th>\n",
       "      <th>CryoSleep</th>\n",
       "      <th>Destination</th>\n",
       "      <th>Age</th>\n",
       "      <th>VIP</th>\n",
       "      <th>RoomService</th>\n",
       "      <th>FoodCourt</th>\n",
       "      <th>ShoppingMall</th>\n",
       "      <th>Spa</th>\n",
       "      <th>VRDeck</th>\n",
       "      <th>Transported</th>\n",
       "      <th>Deck</th>\n",
       "      <th>Num</th>\n",
       "      <th>Side</th>\n",
       "      <th>Age_Group</th>\n",
       "    </tr>\n",
       "  </thead>\n",
       "  <tbody>\n",
       "    <tr>\n",
       "      <th>0</th>\n",
       "      <td>0001_01</td>\n",
       "      <td>Europa</td>\n",
       "      <td>False</td>\n",
       "      <td>TRAPPIST-1e</td>\n",
       "      <td>39.0</td>\n",
       "      <td>False</td>\n",
       "      <td>0.0</td>\n",
       "      <td>0.0</td>\n",
       "      <td>0.0</td>\n",
       "      <td>0.0</td>\n",
       "      <td>0.0</td>\n",
       "      <td>False</td>\n",
       "      <td>B</td>\n",
       "      <td>0</td>\n",
       "      <td>P</td>\n",
       "      <td>Adult</td>\n",
       "    </tr>\n",
       "    <tr>\n",
       "      <th>1</th>\n",
       "      <td>0002_01</td>\n",
       "      <td>Earth</td>\n",
       "      <td>False</td>\n",
       "      <td>TRAPPIST-1e</td>\n",
       "      <td>24.0</td>\n",
       "      <td>False</td>\n",
       "      <td>109.0</td>\n",
       "      <td>9.0</td>\n",
       "      <td>25.0</td>\n",
       "      <td>549.0</td>\n",
       "      <td>44.0</td>\n",
       "      <td>True</td>\n",
       "      <td>F</td>\n",
       "      <td>0</td>\n",
       "      <td>S</td>\n",
       "      <td>Adult</td>\n",
       "    </tr>\n",
       "    <tr>\n",
       "      <th>2</th>\n",
       "      <td>0003_01</td>\n",
       "      <td>Europa</td>\n",
       "      <td>False</td>\n",
       "      <td>TRAPPIST-1e</td>\n",
       "      <td>58.0</td>\n",
       "      <td>True</td>\n",
       "      <td>43.0</td>\n",
       "      <td>3576.0</td>\n",
       "      <td>0.0</td>\n",
       "      <td>6715.0</td>\n",
       "      <td>49.0</td>\n",
       "      <td>False</td>\n",
       "      <td>A</td>\n",
       "      <td>0</td>\n",
       "      <td>S</td>\n",
       "      <td>Older</td>\n",
       "    </tr>\n",
       "    <tr>\n",
       "      <th>3</th>\n",
       "      <td>0003_02</td>\n",
       "      <td>Europa</td>\n",
       "      <td>False</td>\n",
       "      <td>TRAPPIST-1e</td>\n",
       "      <td>33.0</td>\n",
       "      <td>False</td>\n",
       "      <td>0.0</td>\n",
       "      <td>1283.0</td>\n",
       "      <td>371.0</td>\n",
       "      <td>3329.0</td>\n",
       "      <td>193.0</td>\n",
       "      <td>False</td>\n",
       "      <td>A</td>\n",
       "      <td>0</td>\n",
       "      <td>S</td>\n",
       "      <td>Adult</td>\n",
       "    </tr>\n",
       "    <tr>\n",
       "      <th>4</th>\n",
       "      <td>0004_01</td>\n",
       "      <td>Earth</td>\n",
       "      <td>False</td>\n",
       "      <td>TRAPPIST-1e</td>\n",
       "      <td>16.0</td>\n",
       "      <td>False</td>\n",
       "      <td>303.0</td>\n",
       "      <td>70.0</td>\n",
       "      <td>151.0</td>\n",
       "      <td>565.0</td>\n",
       "      <td>2.0</td>\n",
       "      <td>True</td>\n",
       "      <td>F</td>\n",
       "      <td>1</td>\n",
       "      <td>S</td>\n",
       "      <td>Teenagers</td>\n",
       "    </tr>\n",
       "  </tbody>\n",
       "</table>\n",
       "</div>"
      ],
      "text/plain": [
       "  PassengerId HomePlanet  CryoSleep  Destination   Age    VIP  RoomService  \\\n",
       "0     0001_01     Europa      False  TRAPPIST-1e  39.0  False          0.0   \n",
       "1     0002_01      Earth      False  TRAPPIST-1e  24.0  False        109.0   \n",
       "2     0003_01     Europa      False  TRAPPIST-1e  58.0   True         43.0   \n",
       "3     0003_02     Europa      False  TRAPPIST-1e  33.0  False          0.0   \n",
       "4     0004_01      Earth      False  TRAPPIST-1e  16.0  False        303.0   \n",
       "\n",
       "   FoodCourt  ShoppingMall     Spa  VRDeck Transported Deck Num Side  \\\n",
       "0        0.0           0.0     0.0     0.0       False    B   0    P   \n",
       "1        9.0          25.0   549.0    44.0        True    F   0    S   \n",
       "2     3576.0           0.0  6715.0    49.0       False    A   0    S   \n",
       "3     1283.0         371.0  3329.0   193.0       False    A   0    S   \n",
       "4       70.0         151.0   565.0     2.0        True    F   1    S   \n",
       "\n",
       "   Age_Group  \n",
       "0      Adult  \n",
       "1      Adult  \n",
       "2      Older  \n",
       "3      Adult  \n",
       "4  Teenagers  "
      ]
     },
     "execution_count": 14,
     "metadata": {},
     "output_type": "execute_result"
    }
   ],
   "source": [
    "labels=['Child','Teenagers','Adult','Older']\n",
    "bins = [0, 12, 21, 45, 80]\n",
    "df['Age_Group'] = pd.cut(df['Age'], bins=bins, labels=labels)\n",
    "df.head()"
   ]
  },
  {
   "cell_type": "code",
   "execution_count": 15,
   "id": "75e26f7f",
   "metadata": {
    "execution": {
     "iopub.execute_input": "2025-05-01T17:50:52.264298Z",
     "iopub.status.busy": "2025-05-01T17:50:52.263956Z",
     "iopub.status.idle": "2025-05-01T17:50:52.270285Z",
     "shell.execute_reply": "2025-05-01T17:50:52.269604Z"
    },
    "papermill": {
     "duration": 0.017051,
     "end_time": "2025-05-01T17:50:52.271697",
     "exception": false,
     "start_time": "2025-05-01T17:50:52.254646",
     "status": "completed"
    },
    "tags": []
   },
   "outputs": [],
   "source": [
    "df=df.drop(columns='Age')\n"
   ]
  },
  {
   "cell_type": "code",
   "execution_count": 16,
   "id": "a7142e3f",
   "metadata": {
    "execution": {
     "iopub.execute_input": "2025-05-01T17:50:52.289982Z",
     "iopub.status.busy": "2025-05-01T17:50:52.289663Z",
     "iopub.status.idle": "2025-05-01T17:50:52.335624Z",
     "shell.execute_reply": "2025-05-01T17:50:52.334801Z"
    },
    "papermill": {
     "duration": 0.056776,
     "end_time": "2025-05-01T17:50:52.337136",
     "exception": false,
     "start_time": "2025-05-01T17:50:52.280360",
     "status": "completed"
    },
    "tags": []
   },
   "outputs": [
    {
     "data": {
      "text/html": [
       "<div>\n",
       "<style scoped>\n",
       "    .dataframe tbody tr th:only-of-type {\n",
       "        vertical-align: middle;\n",
       "    }\n",
       "\n",
       "    .dataframe tbody tr th {\n",
       "        vertical-align: top;\n",
       "    }\n",
       "\n",
       "    .dataframe thead th {\n",
       "        text-align: right;\n",
       "    }\n",
       "</style>\n",
       "<table border=\"1\" class=\"dataframe\">\n",
       "  <thead>\n",
       "    <tr style=\"text-align: right;\">\n",
       "      <th></th>\n",
       "      <th>PassengerId</th>\n",
       "      <th>HomePlanet</th>\n",
       "      <th>CryoSleep</th>\n",
       "      <th>Destination</th>\n",
       "      <th>VIP</th>\n",
       "      <th>RoomService</th>\n",
       "      <th>FoodCourt</th>\n",
       "      <th>ShoppingMall</th>\n",
       "      <th>Spa</th>\n",
       "      <th>VRDeck</th>\n",
       "      <th>Transported</th>\n",
       "      <th>Deck</th>\n",
       "      <th>Num</th>\n",
       "      <th>Side</th>\n",
       "      <th>Age_Group</th>\n",
       "    </tr>\n",
       "  </thead>\n",
       "  <tbody>\n",
       "    <tr>\n",
       "      <th>0</th>\n",
       "      <td>0001_01</td>\n",
       "      <td>1</td>\n",
       "      <td>0</td>\n",
       "      <td>2</td>\n",
       "      <td>0</td>\n",
       "      <td>0.0</td>\n",
       "      <td>0.0</td>\n",
       "      <td>0.0</td>\n",
       "      <td>0.0</td>\n",
       "      <td>0.0</td>\n",
       "      <td>0</td>\n",
       "      <td>1</td>\n",
       "      <td>0</td>\n",
       "      <td>0</td>\n",
       "      <td>0</td>\n",
       "    </tr>\n",
       "    <tr>\n",
       "      <th>1</th>\n",
       "      <td>0002_01</td>\n",
       "      <td>0</td>\n",
       "      <td>0</td>\n",
       "      <td>2</td>\n",
       "      <td>0</td>\n",
       "      <td>109.0</td>\n",
       "      <td>9.0</td>\n",
       "      <td>25.0</td>\n",
       "      <td>549.0</td>\n",
       "      <td>44.0</td>\n",
       "      <td>1</td>\n",
       "      <td>5</td>\n",
       "      <td>0</td>\n",
       "      <td>1</td>\n",
       "      <td>0</td>\n",
       "    </tr>\n",
       "    <tr>\n",
       "      <th>2</th>\n",
       "      <td>0003_01</td>\n",
       "      <td>1</td>\n",
       "      <td>0</td>\n",
       "      <td>2</td>\n",
       "      <td>1</td>\n",
       "      <td>43.0</td>\n",
       "      <td>3576.0</td>\n",
       "      <td>0.0</td>\n",
       "      <td>6715.0</td>\n",
       "      <td>49.0</td>\n",
       "      <td>0</td>\n",
       "      <td>0</td>\n",
       "      <td>0</td>\n",
       "      <td>1</td>\n",
       "      <td>2</td>\n",
       "    </tr>\n",
       "    <tr>\n",
       "      <th>3</th>\n",
       "      <td>0003_02</td>\n",
       "      <td>1</td>\n",
       "      <td>0</td>\n",
       "      <td>2</td>\n",
       "      <td>0</td>\n",
       "      <td>0.0</td>\n",
       "      <td>1283.0</td>\n",
       "      <td>371.0</td>\n",
       "      <td>3329.0</td>\n",
       "      <td>193.0</td>\n",
       "      <td>0</td>\n",
       "      <td>0</td>\n",
       "      <td>0</td>\n",
       "      <td>1</td>\n",
       "      <td>0</td>\n",
       "    </tr>\n",
       "    <tr>\n",
       "      <th>4</th>\n",
       "      <td>0004_01</td>\n",
       "      <td>0</td>\n",
       "      <td>0</td>\n",
       "      <td>2</td>\n",
       "      <td>0</td>\n",
       "      <td>303.0</td>\n",
       "      <td>70.0</td>\n",
       "      <td>151.0</td>\n",
       "      <td>565.0</td>\n",
       "      <td>2.0</td>\n",
       "      <td>1</td>\n",
       "      <td>5</td>\n",
       "      <td>1</td>\n",
       "      <td>1</td>\n",
       "      <td>3</td>\n",
       "    </tr>\n",
       "    <tr>\n",
       "      <th>...</th>\n",
       "      <td>...</td>\n",
       "      <td>...</td>\n",
       "      <td>...</td>\n",
       "      <td>...</td>\n",
       "      <td>...</td>\n",
       "      <td>...</td>\n",
       "      <td>...</td>\n",
       "      <td>...</td>\n",
       "      <td>...</td>\n",
       "      <td>...</td>\n",
       "      <td>...</td>\n",
       "      <td>...</td>\n",
       "      <td>...</td>\n",
       "      <td>...</td>\n",
       "      <td>...</td>\n",
       "    </tr>\n",
       "    <tr>\n",
       "      <th>4272</th>\n",
       "      <td>9266_02</td>\n",
       "      <td>0</td>\n",
       "      <td>1</td>\n",
       "      <td>2</td>\n",
       "      <td>0</td>\n",
       "      <td>0.0</td>\n",
       "      <td>0.0</td>\n",
       "      <td>0.0</td>\n",
       "      <td>0.0</td>\n",
       "      <td>0.0</td>\n",
       "      <td>2</td>\n",
       "      <td>6</td>\n",
       "      <td>553</td>\n",
       "      <td>1</td>\n",
       "      <td>0</td>\n",
       "    </tr>\n",
       "    <tr>\n",
       "      <th>4273</th>\n",
       "      <td>9269_01</td>\n",
       "      <td>0</td>\n",
       "      <td>0</td>\n",
       "      <td>2</td>\n",
       "      <td>0</td>\n",
       "      <td>0.0</td>\n",
       "      <td>847.0</td>\n",
       "      <td>17.0</td>\n",
       "      <td>10.0</td>\n",
       "      <td>144.0</td>\n",
       "      <td>2</td>\n",
       "      <td>8</td>\n",
       "      <td>1894</td>\n",
       "      <td>2</td>\n",
       "      <td>0</td>\n",
       "    </tr>\n",
       "    <tr>\n",
       "      <th>4274</th>\n",
       "      <td>9271_01</td>\n",
       "      <td>2</td>\n",
       "      <td>1</td>\n",
       "      <td>0</td>\n",
       "      <td>0</td>\n",
       "      <td>0.0</td>\n",
       "      <td>0.0</td>\n",
       "      <td>0.0</td>\n",
       "      <td>0.0</td>\n",
       "      <td>0.0</td>\n",
       "      <td>2</td>\n",
       "      <td>3</td>\n",
       "      <td>1113</td>\n",
       "      <td>0</td>\n",
       "      <td>0</td>\n",
       "    </tr>\n",
       "    <tr>\n",
       "      <th>4275</th>\n",
       "      <td>9273_01</td>\n",
       "      <td>1</td>\n",
       "      <td>0</td>\n",
       "      <td>2</td>\n",
       "      <td>0</td>\n",
       "      <td>0.0</td>\n",
       "      <td>2680.0</td>\n",
       "      <td>0.0</td>\n",
       "      <td>0.0</td>\n",
       "      <td>523.0</td>\n",
       "      <td>2</td>\n",
       "      <td>3</td>\n",
       "      <td>1114</td>\n",
       "      <td>0</td>\n",
       "      <td>0</td>\n",
       "    </tr>\n",
       "    <tr>\n",
       "      <th>4276</th>\n",
       "      <td>9277_01</td>\n",
       "      <td>0</td>\n",
       "      <td>1</td>\n",
       "      <td>1</td>\n",
       "      <td>0</td>\n",
       "      <td>0.0</td>\n",
       "      <td>0.0</td>\n",
       "      <td>0.0</td>\n",
       "      <td>0.0</td>\n",
       "      <td>0.0</td>\n",
       "      <td>2</td>\n",
       "      <td>6</td>\n",
       "      <td>555</td>\n",
       "      <td>1</td>\n",
       "      <td>0</td>\n",
       "    </tr>\n",
       "  </tbody>\n",
       "</table>\n",
       "<p>12970 rows × 15 columns</p>\n",
       "</div>"
      ],
      "text/plain": [
       "     PassengerId  HomePlanet  CryoSleep  Destination  VIP  RoomService  \\\n",
       "0        0001_01           1          0            2    0          0.0   \n",
       "1        0002_01           0          0            2    0        109.0   \n",
       "2        0003_01           1          0            2    1         43.0   \n",
       "3        0003_02           1          0            2    0          0.0   \n",
       "4        0004_01           0          0            2    0        303.0   \n",
       "...          ...         ...        ...          ...  ...          ...   \n",
       "4272     9266_02           0          1            2    0          0.0   \n",
       "4273     9269_01           0          0            2    0          0.0   \n",
       "4274     9271_01           2          1            0    0          0.0   \n",
       "4275     9273_01           1          0            2    0          0.0   \n",
       "4276     9277_01           0          1            1    0          0.0   \n",
       "\n",
       "      FoodCourt  ShoppingMall     Spa  VRDeck  Transported  Deck   Num  Side  \\\n",
       "0           0.0           0.0     0.0     0.0            0     1     0     0   \n",
       "1           9.0          25.0   549.0    44.0            1     5     0     1   \n",
       "2        3576.0           0.0  6715.0    49.0            0     0     0     1   \n",
       "3        1283.0         371.0  3329.0   193.0            0     0     0     1   \n",
       "4          70.0         151.0   565.0     2.0            1     5     1     1   \n",
       "...         ...           ...     ...     ...          ...   ...   ...   ...   \n",
       "4272        0.0           0.0     0.0     0.0            2     6   553     1   \n",
       "4273      847.0          17.0    10.0   144.0            2     8  1894     2   \n",
       "4274        0.0           0.0     0.0     0.0            2     3  1113     0   \n",
       "4275     2680.0           0.0     0.0   523.0            2     3  1114     0   \n",
       "4276        0.0           0.0     0.0     0.0            2     6   555     1   \n",
       "\n",
       "      Age_Group  \n",
       "0             0  \n",
       "1             0  \n",
       "2             2  \n",
       "3             0  \n",
       "4             3  \n",
       "...         ...  \n",
       "4272          0  \n",
       "4273          0  \n",
       "4274          0  \n",
       "4275          0  \n",
       "4276          0  \n",
       "\n",
       "[12970 rows x 15 columns]"
      ]
     },
     "execution_count": 16,
     "metadata": {},
     "output_type": "execute_result"
    }
   ],
   "source": [
    "lbl=LabelEncoder()\n",
    "categorical=[\"HomePlanet\",\"CryoSleep\",\"Destination\",\"VIP\",\"Deck\",\"Num\",\"Side\",\"Age_Group\",\"Transported\"]\n",
    "df[categorical]=df[categorical].apply(lbl.fit_transform)\n",
    "df\n"
   ]
  },
  {
   "cell_type": "code",
   "execution_count": 17,
   "id": "06048e33",
   "metadata": {
    "execution": {
     "iopub.execute_input": "2025-05-01T17:50:52.356221Z",
     "iopub.status.busy": "2025-05-01T17:50:52.355878Z",
     "iopub.status.idle": "2025-05-01T17:50:52.367273Z",
     "shell.execute_reply": "2025-05-01T17:50:52.366290Z"
    },
    "papermill": {
     "duration": 0.022431,
     "end_time": "2025-05-01T17:50:52.368713",
     "exception": false,
     "start_time": "2025-05-01T17:50:52.346282",
     "status": "completed"
    },
    "tags": []
   },
   "outputs": [
    {
     "name": "stdout",
     "output_type": "stream",
     "text": [
      "<class 'pandas.core.frame.DataFrame'>\n",
      "Index: 12970 entries, 0 to 4276\n",
      "Data columns (total 15 columns):\n",
      " #   Column        Non-Null Count  Dtype  \n",
      "---  ------        --------------  -----  \n",
      " 0   PassengerId   12970 non-null  object \n",
      " 1   HomePlanet    12970 non-null  int64  \n",
      " 2   CryoSleep     12970 non-null  int64  \n",
      " 3   Destination   12970 non-null  int64  \n",
      " 4   VIP           12970 non-null  int64  \n",
      " 5   RoomService   12970 non-null  float64\n",
      " 6   FoodCourt     12970 non-null  float64\n",
      " 7   ShoppingMall  12970 non-null  float64\n",
      " 8   Spa           12970 non-null  float64\n",
      " 9   VRDeck        12970 non-null  float64\n",
      " 10  Transported   12970 non-null  int64  \n",
      " 11  Deck          12970 non-null  int64  \n",
      " 12  Num           12970 non-null  int64  \n",
      " 13  Side          12970 non-null  int64  \n",
      " 14  Age_Group     12970 non-null  int64  \n",
      "dtypes: float64(5), int64(9), object(1)\n",
      "memory usage: 1.6+ MB\n"
     ]
    }
   ],
   "source": [
    "df.info()"
   ]
  },
  {
   "cell_type": "code",
   "execution_count": 18,
   "id": "5c00961f",
   "metadata": {
    "execution": {
     "iopub.execute_input": "2025-05-01T17:50:52.388089Z",
     "iopub.status.busy": "2025-05-01T17:50:52.387756Z",
     "iopub.status.idle": "2025-05-01T17:50:52.431249Z",
     "shell.execute_reply": "2025-05-01T17:50:52.430347Z"
    },
    "papermill": {
     "duration": 0.05493,
     "end_time": "2025-05-01T17:50:52.432786",
     "exception": false,
     "start_time": "2025-05-01T17:50:52.377856",
     "status": "completed"
    },
    "tags": []
   },
   "outputs": [
    {
     "data": {
      "text/html": [
       "<div>\n",
       "<style scoped>\n",
       "    .dataframe tbody tr th:only-of-type {\n",
       "        vertical-align: middle;\n",
       "    }\n",
       "\n",
       "    .dataframe tbody tr th {\n",
       "        vertical-align: top;\n",
       "    }\n",
       "\n",
       "    .dataframe thead th {\n",
       "        text-align: right;\n",
       "    }\n",
       "</style>\n",
       "<table border=\"1\" class=\"dataframe\">\n",
       "  <thead>\n",
       "    <tr style=\"text-align: right;\">\n",
       "      <th></th>\n",
       "      <th>count</th>\n",
       "      <th>mean</th>\n",
       "      <th>std</th>\n",
       "      <th>min</th>\n",
       "      <th>25%</th>\n",
       "      <th>50%</th>\n",
       "      <th>75%</th>\n",
       "      <th>max</th>\n",
       "    </tr>\n",
       "  </thead>\n",
       "  <tbody>\n",
       "    <tr>\n",
       "      <th>HomePlanet</th>\n",
       "      <td>12970.0</td>\n",
       "      <td>0.655436</td>\n",
       "      <td>0.799855</td>\n",
       "      <td>0.0</td>\n",
       "      <td>0.00</td>\n",
       "      <td>0.0</td>\n",
       "      <td>1.00</td>\n",
       "      <td>2.0</td>\n",
       "    </tr>\n",
       "    <tr>\n",
       "      <th>CryoSleep</th>\n",
       "      <td>12970.0</td>\n",
       "      <td>0.353200</td>\n",
       "      <td>0.477983</td>\n",
       "      <td>0.0</td>\n",
       "      <td>0.00</td>\n",
       "      <td>0.0</td>\n",
       "      <td>1.00</td>\n",
       "      <td>1.0</td>\n",
       "    </tr>\n",
       "    <tr>\n",
       "      <th>Destination</th>\n",
       "      <td>12970.0</td>\n",
       "      <td>1.501465</td>\n",
       "      <td>0.810738</td>\n",
       "      <td>0.0</td>\n",
       "      <td>1.00</td>\n",
       "      <td>2.0</td>\n",
       "      <td>2.00</td>\n",
       "      <td>2.0</td>\n",
       "    </tr>\n",
       "    <tr>\n",
       "      <th>VIP</th>\n",
       "      <td>12970.0</td>\n",
       "      <td>0.021049</td>\n",
       "      <td>0.143552</td>\n",
       "      <td>0.0</td>\n",
       "      <td>0.00</td>\n",
       "      <td>0.0</td>\n",
       "      <td>0.00</td>\n",
       "      <td>1.0</td>\n",
       "    </tr>\n",
       "    <tr>\n",
       "      <th>RoomService</th>\n",
       "      <td>12970.0</td>\n",
       "      <td>218.378026</td>\n",
       "      <td>641.766201</td>\n",
       "      <td>0.0</td>\n",
       "      <td>0.00</td>\n",
       "      <td>0.0</td>\n",
       "      <td>42.75</td>\n",
       "      <td>14327.0</td>\n",
       "    </tr>\n",
       "    <tr>\n",
       "      <th>FoodCourt</th>\n",
       "      <td>12970.0</td>\n",
       "      <td>441.890979</td>\n",
       "      <td>1568.038076</td>\n",
       "      <td>0.0</td>\n",
       "      <td>0.00</td>\n",
       "      <td>0.0</td>\n",
       "      <td>62.75</td>\n",
       "      <td>29813.0</td>\n",
       "    </tr>\n",
       "    <tr>\n",
       "      <th>ShoppingMall</th>\n",
       "      <td>12970.0</td>\n",
       "      <td>170.779491</td>\n",
       "      <td>584.153630</td>\n",
       "      <td>0.0</td>\n",
       "      <td>0.00</td>\n",
       "      <td>0.0</td>\n",
       "      <td>23.00</td>\n",
       "      <td>23492.0</td>\n",
       "    </tr>\n",
       "    <tr>\n",
       "      <th>Spa</th>\n",
       "      <td>12970.0</td>\n",
       "      <td>301.722282</td>\n",
       "      <td>1118.746785</td>\n",
       "      <td>0.0</td>\n",
       "      <td>0.00</td>\n",
       "      <td>0.0</td>\n",
       "      <td>50.00</td>\n",
       "      <td>22408.0</td>\n",
       "    </tr>\n",
       "    <tr>\n",
       "      <th>VRDeck</th>\n",
       "      <td>12970.0</td>\n",
       "      <td>300.450270</td>\n",
       "      <td>1168.655639</td>\n",
       "      <td>0.0</td>\n",
       "      <td>0.00</td>\n",
       "      <td>0.0</td>\n",
       "      <td>36.00</td>\n",
       "      <td>24133.0</td>\n",
       "    </tr>\n",
       "    <tr>\n",
       "      <th>Transported</th>\n",
       "      <td>12970.0</td>\n",
       "      <td>0.997070</td>\n",
       "      <td>0.813938</td>\n",
       "      <td>0.0</td>\n",
       "      <td>0.00</td>\n",
       "      <td>1.0</td>\n",
       "      <td>2.00</td>\n",
       "      <td>2.0</td>\n",
       "    </tr>\n",
       "    <tr>\n",
       "      <th>Deck</th>\n",
       "      <td>12970.0</td>\n",
       "      <td>4.406091</td>\n",
       "      <td>1.824435</td>\n",
       "      <td>0.0</td>\n",
       "      <td>3.00</td>\n",
       "      <td>5.0</td>\n",
       "      <td>6.00</td>\n",
       "      <td>8.0</td>\n",
       "    </tr>\n",
       "    <tr>\n",
       "      <th>Num</th>\n",
       "      <td>12970.0</td>\n",
       "      <td>1018.753354</td>\n",
       "      <td>541.576196</td>\n",
       "      <td>0.0</td>\n",
       "      <td>532.25</td>\n",
       "      <td>1088.0</td>\n",
       "      <td>1436.00</td>\n",
       "      <td>1894.0</td>\n",
       "    </tr>\n",
       "    <tr>\n",
       "      <th>Side</th>\n",
       "      <td>12970.0</td>\n",
       "      <td>0.538088</td>\n",
       "      <td>0.542843</td>\n",
       "      <td>0.0</td>\n",
       "      <td>0.00</td>\n",
       "      <td>1.0</td>\n",
       "      <td>1.00</td>\n",
       "      <td>2.0</td>\n",
       "    </tr>\n",
       "    <tr>\n",
       "      <th>Age_Group</th>\n",
       "      <td>12970.0</td>\n",
       "      <td>1.095914</td>\n",
       "      <td>1.329473</td>\n",
       "      <td>0.0</td>\n",
       "      <td>0.00</td>\n",
       "      <td>0.0</td>\n",
       "      <td>2.00</td>\n",
       "      <td>4.0</td>\n",
       "    </tr>\n",
       "  </tbody>\n",
       "</table>\n",
       "</div>"
      ],
      "text/plain": [
       "                count         mean          std  min     25%     50%      75%  \\\n",
       "HomePlanet    12970.0     0.655436     0.799855  0.0    0.00     0.0     1.00   \n",
       "CryoSleep     12970.0     0.353200     0.477983  0.0    0.00     0.0     1.00   \n",
       "Destination   12970.0     1.501465     0.810738  0.0    1.00     2.0     2.00   \n",
       "VIP           12970.0     0.021049     0.143552  0.0    0.00     0.0     0.00   \n",
       "RoomService   12970.0   218.378026   641.766201  0.0    0.00     0.0    42.75   \n",
       "FoodCourt     12970.0   441.890979  1568.038076  0.0    0.00     0.0    62.75   \n",
       "ShoppingMall  12970.0   170.779491   584.153630  0.0    0.00     0.0    23.00   \n",
       "Spa           12970.0   301.722282  1118.746785  0.0    0.00     0.0    50.00   \n",
       "VRDeck        12970.0   300.450270  1168.655639  0.0    0.00     0.0    36.00   \n",
       "Transported   12970.0     0.997070     0.813938  0.0    0.00     1.0     2.00   \n",
       "Deck          12970.0     4.406091     1.824435  0.0    3.00     5.0     6.00   \n",
       "Num           12970.0  1018.753354   541.576196  0.0  532.25  1088.0  1436.00   \n",
       "Side          12970.0     0.538088     0.542843  0.0    0.00     1.0     1.00   \n",
       "Age_Group     12970.0     1.095914     1.329473  0.0    0.00     0.0     2.00   \n",
       "\n",
       "                  max  \n",
       "HomePlanet        2.0  \n",
       "CryoSleep         1.0  \n",
       "Destination       2.0  \n",
       "VIP               1.0  \n",
       "RoomService   14327.0  \n",
       "FoodCourt     29813.0  \n",
       "ShoppingMall  23492.0  \n",
       "Spa           22408.0  \n",
       "VRDeck        24133.0  \n",
       "Transported       2.0  \n",
       "Deck              8.0  \n",
       "Num            1894.0  \n",
       "Side              2.0  \n",
       "Age_Group         4.0  "
      ]
     },
     "execution_count": 18,
     "metadata": {},
     "output_type": "execute_result"
    }
   ],
   "source": [
    "df.describe().T"
   ]
  },
  {
   "cell_type": "markdown",
   "id": "a37b7ce7",
   "metadata": {
    "papermill": {
     "duration": 0.008832,
     "end_time": "2025-05-01T17:50:52.451023",
     "exception": false,
     "start_time": "2025-05-01T17:50:52.442191",
     "status": "completed"
    },
    "tags": []
   },
   "source": [
    "**As we can see from above, variables like - RoomService, FoodCourt, ShoppingMall, Spa, and VRDeck have outliers - since the mean and max values seem very far off. The Standard deviation for the same also shows this***\n",
    "******"
   ]
  },
  {
   "cell_type": "code",
   "execution_count": 19,
   "id": "1345f6cb",
   "metadata": {
    "execution": {
     "iopub.execute_input": "2025-05-01T17:50:52.470687Z",
     "iopub.status.busy": "2025-05-01T17:50:52.469909Z",
     "iopub.status.idle": "2025-05-01T17:50:52.706183Z",
     "shell.execute_reply": "2025-05-01T17:50:52.705356Z"
    },
    "papermill": {
     "duration": 0.247802,
     "end_time": "2025-05-01T17:50:52.707734",
     "exception": false,
     "start_time": "2025-05-01T17:50:52.459932",
     "status": "completed"
    },
    "tags": []
   },
   "outputs": [
    {
     "data": {
      "text/plain": [
       "<Axes: >"
      ]
     },
     "execution_count": 19,
     "metadata": {},
     "output_type": "execute_result"
    },
    {
     "data": {
      "image/png": "[encoded data removed]",
      "text/plain": [
       "<Figure size 640x480 with 1 Axes>"
      ]
     },
     "metadata": {},
     "output_type": "display_data"
    }
   ],
   "source": [
    "sns.boxplot(data=df[[\"RoomService\",\"FoodCourt\",\"ShoppingMall\",\"Spa\",\"VRDeck\"]])"
   ]
  },
  {
   "cell_type": "code",
   "execution_count": 20,
   "id": "c60c72bb",
   "metadata": {
    "execution": {
     "iopub.execute_input": "2025-05-01T17:50:52.792924Z",
     "iopub.status.busy": "2025-05-01T17:50:52.792271Z",
     "iopub.status.idle": "2025-05-01T17:50:52.811477Z",
     "shell.execute_reply": "2025-05-01T17:50:52.810748Z"
    },
    "papermill": {
     "duration": 0.031782,
     "end_time": "2025-05-01T17:50:52.812991",
     "exception": false,
     "start_time": "2025-05-01T17:50:52.781209",
     "status": "completed"
    },
    "tags": []
   },
   "outputs": [],
   "source": [
    "for col in ['RoomService', 'FoodCourt', 'ShoppingMall', 'Spa', 'VRDeck']:\n",
    "    q1 = df[col].quantile(0.01)\n",
    "    q99 = df[col].quantile(0.99)\n",
    "    df[col] = df[col].clip(lower=q1, upper=q99)\n"
   ]
  },
  {
   "cell_type": "code",
   "execution_count": 21,
   "id": "660f518c",
   "metadata": {
    "execution": {
     "iopub.execute_input": "2025-05-01T17:50:52.834603Z",
     "iopub.status.busy": "2025-05-01T17:50:52.833939Z",
     "iopub.status.idle": "2025-05-01T17:50:52.838175Z",
     "shell.execute_reply": "2025-05-01T17:50:52.837448Z"
    },
    "papermill": {
     "duration": 0.016383,
     "end_time": "2025-05-01T17:50:52.839532",
     "exception": false,
     "start_time": "2025-05-01T17:50:52.823149",
     "status": "completed"
    },
    "tags": []
   },
   "outputs": [],
   "source": [
    "y = df[\"Transported\"].astype(int)"
   ]
  },
  {
   "cell_type": "code",
   "execution_count": 22,
   "id": "f2204fc0",
   "metadata": {
    "execution": {
     "iopub.execute_input": "2025-05-01T17:50:52.861926Z",
     "iopub.status.busy": "2025-05-01T17:50:52.861645Z",
     "iopub.status.idle": "2025-05-01T17:50:52.867680Z",
     "shell.execute_reply": "2025-05-01T17:50:52.866959Z"
    },
    "papermill": {
     "duration": 0.019407,
     "end_time": "2025-05-01T17:50:52.869078",
     "exception": false,
     "start_time": "2025-05-01T17:50:52.849671",
     "status": "completed"
    },
    "tags": []
   },
   "outputs": [],
   "source": [
    "y=df.Transported  ##test\n",
    "X=df.drop([\"Transported\", \"PassengerId\"], axis=1) ##train"
   ]
  },
  {
   "cell_type": "code",
   "execution_count": 23,
   "id": "2c666988",
   "metadata": {
    "execution": {
     "iopub.execute_input": "2025-05-01T17:50:52.890473Z",
     "iopub.status.busy": "2025-05-01T17:50:52.889689Z",
     "iopub.status.idle": "2025-05-01T17:50:52.894350Z",
     "shell.execute_reply": "2025-05-01T17:50:52.893522Z"
    },
    "papermill": {
     "duration": 0.016666,
     "end_time": "2025-05-01T17:50:52.895748",
     "exception": false,
     "start_time": "2025-05-01T17:50:52.879082",
     "status": "completed"
    },
    "tags": []
   },
   "outputs": [],
   "source": [
    "y = y[y != 2]\n"
   ]
  },
  {
   "cell_type": "code",
   "execution_count": 24,
   "id": "4366c680",
   "metadata": {
    "execution": {
     "iopub.execute_input": "2025-05-01T17:50:52.917226Z",
     "iopub.status.busy": "2025-05-01T17:50:52.916540Z",
     "iopub.status.idle": "2025-05-01T17:50:52.925105Z",
     "shell.execute_reply": "2025-05-01T17:50:52.924105Z"
    },
    "papermill": {
     "duration": 0.020963,
     "end_time": "2025-05-01T17:50:52.926699",
     "exception": false,
     "start_time": "2025-05-01T17:50:52.905736",
     "status": "completed"
    },
    "tags": []
   },
   "outputs": [
    {
     "data": {
      "text/plain": [
       "Transported\n",
       "1    4378\n",
       "0    4315\n",
       "Name: count, dtype: int64"
      ]
     },
     "execution_count": 24,
     "metadata": {},
     "output_type": "execute_result"
    }
   ],
   "source": [
    "y.value_counts()"
   ]
  },
  {
   "cell_type": "code",
   "execution_count": 25,
   "id": "f249f0d4",
   "metadata": {
    "execution": {
     "iopub.execute_input": "2025-05-01T17:50:52.948912Z",
     "iopub.status.busy": "2025-05-01T17:50:52.948309Z",
     "iopub.status.idle": "2025-05-01T17:50:52.956883Z",
     "shell.execute_reply": "2025-05-01T17:50:52.955913Z"
    },
    "papermill": {
     "duration": 0.020871,
     "end_time": "2025-05-01T17:50:52.958230",
     "exception": false,
     "start_time": "2025-05-01T17:50:52.937359",
     "status": "completed"
    },
    "tags": []
   },
   "outputs": [
    {
     "name": "stdout",
     "output_type": "stream",
     "text": [
      "<class 'pandas.core.series.Series'>\n",
      "Index: 8693 entries, 0 to 8692\n",
      "Series name: Transported\n",
      "Non-Null Count  Dtype\n",
      "--------------  -----\n",
      "8693 non-null   int64\n",
      "dtypes: int64(1)\n",
      "memory usage: 135.8 KB\n"
     ]
    }
   ],
   "source": [
    "y.info()"
   ]
  },
  {
   "cell_type": "code",
   "execution_count": 26,
   "id": "387646eb",
   "metadata": {
    "execution": {
     "iopub.execute_input": "2025-05-01T17:50:52.979801Z",
     "iopub.status.busy": "2025-05-01T17:50:52.979174Z",
     "iopub.status.idle": "2025-05-01T17:50:52.990472Z",
     "shell.execute_reply": "2025-05-01T17:50:52.989495Z"
    },
    "papermill": {
     "duration": 0.023817,
     "end_time": "2025-05-01T17:50:52.991964",
     "exception": false,
     "start_time": "2025-05-01T17:50:52.968147",
     "status": "completed"
    },
    "tags": []
   },
   "outputs": [
    {
     "name": "stdout",
     "output_type": "stream",
     "text": [
      "<class 'pandas.core.frame.DataFrame'>\n",
      "Index: 12970 entries, 0 to 4276\n",
      "Data columns (total 13 columns):\n",
      " #   Column        Non-Null Count  Dtype  \n",
      "---  ------        --------------  -----  \n",
      " 0   HomePlanet    12970 non-null  int64  \n",
      " 1   CryoSleep     12970 non-null  int64  \n",
      " 2   Destination   12970 non-null  int64  \n",
      " 3   VIP           12970 non-null  int64  \n",
      " 4   RoomService   12970 non-null  float64\n",
      " 5   FoodCourt     12970 non-null  float64\n",
      " 6   ShoppingMall  12970 non-null  float64\n",
      " 7   Spa           12970 non-null  float64\n",
      " 8   VRDeck        12970 non-null  float64\n",
      " 9   Deck          12970 non-null  int64  \n",
      " 10  Num           12970 non-null  int64  \n",
      " 11  Side          12970 non-null  int64  \n",
      " 12  Age_Group     12970 non-null  int64  \n",
      "dtypes: float64(5), int64(8)\n",
      "memory usage: 1.4 MB\n"
     ]
    }
   ],
   "source": [
    "X.info()"
   ]
  },
  {
   "cell_type": "code",
   "execution_count": 27,
   "id": "3f64785b",
   "metadata": {
    "execution": {
     "iopub.execute_input": "2025-05-01T17:50:53.013611Z",
     "iopub.status.busy": "2025-05-01T17:50:53.013283Z",
     "iopub.status.idle": "2025-05-01T17:50:53.017956Z",
     "shell.execute_reply": "2025-05-01T17:50:53.017105Z"
    },
    "papermill": {
     "duration": 0.017271,
     "end_time": "2025-05-01T17:50:53.019485",
     "exception": false,
     "start_time": "2025-05-01T17:50:53.002214",
     "status": "completed"
    },
    "tags": []
   },
   "outputs": [
    {
     "name": "stdout",
     "output_type": "stream",
     "text": [
      "(12970, 13)\n",
      "(8693,)\n"
     ]
    }
   ],
   "source": [
    "print(X.shape)\n",
    "print(y.shape)\n"
   ]
  },
  {
   "cell_type": "code",
   "execution_count": 28,
   "id": "e3e6edaa",
   "metadata": {
    "execution": {
     "iopub.execute_input": "2025-05-01T17:50:53.041723Z",
     "iopub.status.busy": "2025-05-01T17:50:53.041014Z",
     "iopub.status.idle": "2025-05-01T17:50:53.051716Z",
     "shell.execute_reply": "2025-05-01T17:50:53.050828Z"
    },
    "papermill": {
     "duration": 0.02363,
     "end_time": "2025-05-01T17:50:53.053479",
     "exception": false,
     "start_time": "2025-05-01T17:50:53.029849",
     "status": "completed"
    },
    "tags": []
   },
   "outputs": [],
   "source": [
    "# Create a mask where Transported is 0 or 1\n",
    "mask = df[\"Transported\"].isin([0, 1])\n",
    "\n",
    "\n",
    "X = df[mask].drop([\"Transported\", \"PassengerId\"], axis=1)\n",
    "y = df[mask][\"Transported\"]\n"
   ]
  },
  {
   "cell_type": "code",
   "execution_count": 29,
   "id": "259b4057",
   "metadata": {
    "execution": {
     "iopub.execute_input": "2025-05-01T17:50:53.076213Z",
     "iopub.status.busy": "2025-05-01T17:50:53.075246Z",
     "iopub.status.idle": "2025-05-01T17:50:53.086448Z",
     "shell.execute_reply": "2025-05-01T17:50:53.085493Z"
    },
    "papermill": {
     "duration": 0.024355,
     "end_time": "2025-05-01T17:50:53.088118",
     "exception": false,
     "start_time": "2025-05-01T17:50:53.063763",
     "status": "completed"
    },
    "tags": []
   },
   "outputs": [],
   "source": [
    "X_train, X_test, y_train, y_test = train_test_split(X, y, stratify=y, random_state=42)"
   ]
  },
  {
   "cell_type": "code",
   "execution_count": 30,
   "id": "dae159e0",
   "metadata": {
    "execution": {
     "iopub.execute_input": "2025-05-01T17:50:53.110384Z",
     "iopub.status.busy": "2025-05-01T17:50:53.109525Z",
     "iopub.status.idle": "2025-05-01T17:50:53.114647Z",
     "shell.execute_reply": "2025-05-01T17:50:53.113834Z"
    },
    "papermill": {
     "duration": 0.017509,
     "end_time": "2025-05-01T17:50:53.115979",
     "exception": false,
     "start_time": "2025-05-01T17:50:53.098470",
     "status": "completed"
    },
    "tags": []
   },
   "outputs": [
    {
     "name": "stdout",
     "output_type": "stream",
     "text": [
      "(6519, 13)\n",
      "(2174, 13)\n",
      "(6519,)\n",
      "(2174,)\n"
     ]
    }
   ],
   "source": [
    "print(X_train.shape)\n",
    "print(X_test.shape)\n",
    "print(y_train.shape)\n",
    "print(y_test.shape)"
   ]
  },
  {
   "cell_type": "code",
   "execution_count": 31,
   "id": "d734bdfb",
   "metadata": {
    "execution": {
     "iopub.execute_input": "2025-05-01T17:50:53.137982Z",
     "iopub.status.busy": "2025-05-01T17:50:53.137608Z",
     "iopub.status.idle": "2025-05-01T17:50:53.183303Z",
     "shell.execute_reply": "2025-05-01T17:50:53.182440Z"
    },
    "papermill": {
     "duration": 0.058431,
     "end_time": "2025-05-01T17:50:53.184782",
     "exception": false,
     "start_time": "2025-05-01T17:50:53.126351",
     "status": "completed"
    },
    "tags": []
   },
   "outputs": [
    {
     "name": "stdout",
     "output_type": "stream",
     "text": [
      "Decision Tree Classifier\n",
      "Accuracy Score : 73.59705611775529%\n"
     ]
    }
   ],
   "source": [
    "dt_classifier = DecisionTreeClassifier()\n",
    "dt_classifier.fit(X_train, y_train)\n",
    "y_preds = dt_classifier.predict(X_test)\n",
    "print(f\"Decision Tree Classifier\\nAccuracy Score : {accuracy_score(y_test, y_preds)*100}%\")"
   ]
  },
  {
   "cell_type": "code",
   "execution_count": 32,
   "id": "923d5ea1",
   "metadata": {
    "execution": {
     "iopub.execute_input": "2025-05-01T17:50:53.207624Z",
     "iopub.status.busy": "2025-05-01T17:50:53.207308Z",
     "iopub.status.idle": "2025-05-01T17:50:54.043249Z",
     "shell.execute_reply": "2025-05-01T17:50:54.042152Z"
    },
    "papermill": {
     "duration": 0.848895,
     "end_time": "2025-05-01T17:50:54.044817",
     "exception": false,
     "start_time": "2025-05-01T17:50:53.195922",
     "status": "completed"
    },
    "tags": []
   },
   "outputs": [
    {
     "name": "stdout",
     "output_type": "stream",
     "text": [
      "Random Forest Classifier\n",
      "Accuracy Score : 73.59705611775529%\n"
     ]
    }
   ],
   "source": [
    "rf_classifier = RandomForestClassifier()\n",
    "rf_classifier.fit(X_train, y_train)\n",
    "y_preds = dt_classifier.predict(X_test)\n",
    "print(f\"Random Forest Classifier\\nAccuracy Score : {accuracy_score(y_test, y_preds)*100}%\")"
   ]
  },
  {
   "cell_type": "code",
   "execution_count": 33,
   "id": "a10d5860",
   "metadata": {
    "execution": {
     "iopub.execute_input": "2025-05-01T17:50:54.067557Z",
     "iopub.status.busy": "2025-05-01T17:50:54.066645Z",
     "iopub.status.idle": "2025-05-01T17:50:54.392329Z",
     "shell.execute_reply": "2025-05-01T17:50:54.391308Z"
    },
    "papermill": {
     "duration": 0.338348,
     "end_time": "2025-05-01T17:50:54.393731",
     "exception": false,
     "start_time": "2025-05-01T17:50:54.055383",
     "status": "completed"
    },
    "tags": []
   },
   "outputs": [
    {
     "name": "stdout",
     "output_type": "stream",
     "text": [
      "AdaBoost Classifier\n",
      "Accuracy Score : 79.39282428702852%\n"
     ]
    }
   ],
   "source": [
    "adb_classifier = AdaBoostClassifier()\n",
    "adb_classifier.fit(X_train, y_train)\n",
    "y_preds = adb_classifier.predict(X_test)\n",
    "print(f\"AdaBoost Classifier\\nAccuracy Score : {accuracy_score(y_test, y_preds)*100}%\")"
   ]
  },
  {
   "cell_type": "code",
   "execution_count": 34,
   "id": "f0f1de9b",
   "metadata": {
    "execution": {
     "iopub.execute_input": "2025-05-01T17:50:54.416078Z",
     "iopub.status.busy": "2025-05-01T17:50:54.415326Z",
     "iopub.status.idle": "2025-05-01T17:50:55.348421Z",
     "shell.execute_reply": "2025-05-01T17:50:55.347445Z"
    },
    "papermill": {
     "duration": 0.946337,
     "end_time": "2025-05-01T17:50:55.350366",
     "exception": false,
     "start_time": "2025-05-01T17:50:54.404029",
     "status": "completed"
    },
    "tags": []
   },
   "outputs": [
    {
     "name": "stdout",
     "output_type": "stream",
     "text": [
      "Gradient Boosting Classifier\n",
      "Accuracy Score : 79.39282428702852%\n"
     ]
    }
   ],
   "source": [
    "gb_classifier = GradientBoostingClassifier()\n",
    "gb_classifier.fit(X_train, y_train)\n",
    "y_preds = adb_classifier.predict(X_test)\n",
    "print(f\"Gradient Boosting Classifier\\nAccuracy Score : {accuracy_score(y_test, y_preds)*100}%\")"
   ]
  },
  {
   "cell_type": "code",
   "execution_count": 35,
   "id": "cb8851f0",
   "metadata": {
    "execution": {
     "iopub.execute_input": "2025-05-01T17:50:55.373423Z",
     "iopub.status.busy": "2025-05-01T17:50:55.373136Z",
     "iopub.status.idle": "2025-05-01T17:50:55.570745Z",
     "shell.execute_reply": "2025-05-01T17:50:55.569917Z"
    },
    "papermill": {
     "duration": 0.211116,
     "end_time": "2025-05-01T17:50:55.572540",
     "exception": false,
     "start_time": "2025-05-01T17:50:55.361424",
     "status": "completed"
    },
    "tags": []
   },
   "outputs": [
    {
     "name": "stdout",
     "output_type": "stream",
     "text": [
      "XGBoost Classifier\n",
      "Accuracy Score : 79.34682612695492%\n"
     ]
    }
   ],
   "source": [
    "xgb_classfier = xgb.XGBClassifier()\n",
    "xgb_classfier.fit(X_train, y_train)\n",
    "y_preds = xgb_classfier.predict(X_test)\n",
    "print(f\"XGBoost Classifier\\nAccuracy Score : {accuracy_score(y_test, y_preds)*100}%\")"
   ]
  },
  {
   "cell_type": "code",
   "execution_count": 36,
   "id": "d1cc193b",
   "metadata": {
    "execution": {
     "iopub.execute_input": "2025-05-01T17:50:55.595075Z",
     "iopub.status.busy": "2025-05-01T17:50:55.594752Z",
     "iopub.status.idle": "2025-05-01T17:50:55.603916Z",
     "shell.execute_reply": "2025-05-01T17:50:55.603117Z"
    },
    "papermill": {
     "duration": 0.021949,
     "end_time": "2025-05-01T17:50:55.605366",
     "exception": false,
     "start_time": "2025-05-01T17:50:55.583417",
     "status": "completed"
    },
    "tags": []
   },
   "outputs": [
    {
     "data": {
      "text/plain": [
       "PassengerId       0\n",
       "HomePlanet       87\n",
       "CryoSleep        93\n",
       "Cabin           100\n",
       "Destination      92\n",
       "Age              91\n",
       "VIP              93\n",
       "RoomService      82\n",
       "FoodCourt       106\n",
       "ShoppingMall     98\n",
       "Spa             101\n",
       "VRDeck           80\n",
       "Name             94\n",
       "dtype: int64"
      ]
     },
     "execution_count": 36,
     "metadata": {},
     "output_type": "execute_result"
    }
   ],
   "source": [
    "test.isna().sum()"
   ]
  },
  {
   "cell_type": "code",
   "execution_count": 37,
   "id": "54b04c43",
   "metadata": {
    "execution": {
     "iopub.execute_input": "2025-05-01T17:50:55.627817Z",
     "iopub.status.busy": "2025-05-01T17:50:55.627463Z",
     "iopub.status.idle": "2025-05-01T17:50:55.680652Z",
     "shell.execute_reply": "2025-05-01T17:50:55.679591Z"
    },
    "papermill": {
     "duration": 0.066183,
     "end_time": "2025-05-01T17:50:55.682149",
     "exception": false,
     "start_time": "2025-05-01T17:50:55.615966",
     "status": "completed"
    },
    "tags": []
   },
   "outputs": [
    {
     "name": "stderr",
     "output_type": "stream",
     "text": [
      "/tmp/ipykernel_13/2635981404.py:3: FutureWarning: Downcasting object dtype arrays on .fillna, .ffill, .bfill is deprecated and will change in a future version. Call result.infer_objects(copy=False) instead. To opt-in to the future behavior, set `pd.set_option('future.no_silent_downcasting', True)`\n",
      "  test[categorical_variables] = test[categorical_variables].fillna(mode)\n"
     ]
    },
    {
     "data": {
      "text/html": [
       "<div>\n",
       "<style scoped>\n",
       "    .dataframe tbody tr th:only-of-type {\n",
       "        vertical-align: middle;\n",
       "    }\n",
       "\n",
       "    .dataframe tbody tr th {\n",
       "        vertical-align: top;\n",
       "    }\n",
       "\n",
       "    .dataframe thead th {\n",
       "        text-align: right;\n",
       "    }\n",
       "</style>\n",
       "<table border=\"1\" class=\"dataframe\">\n",
       "  <thead>\n",
       "    <tr style=\"text-align: right;\">\n",
       "      <th></th>\n",
       "      <th>PassengerId</th>\n",
       "      <th>HomePlanet</th>\n",
       "      <th>CryoSleep</th>\n",
       "      <th>Destination</th>\n",
       "      <th>VIP</th>\n",
       "      <th>RoomService</th>\n",
       "      <th>FoodCourt</th>\n",
       "      <th>ShoppingMall</th>\n",
       "      <th>Spa</th>\n",
       "      <th>VRDeck</th>\n",
       "      <th>Deck</th>\n",
       "      <th>Num</th>\n",
       "      <th>Side</th>\n",
       "      <th>Age_Group</th>\n",
       "    </tr>\n",
       "  </thead>\n",
       "  <tbody>\n",
       "    <tr>\n",
       "      <th>0</th>\n",
       "      <td>0013_01</td>\n",
       "      <td>0</td>\n",
       "      <td>1</td>\n",
       "      <td>2</td>\n",
       "      <td>0</td>\n",
       "      <td>0.0</td>\n",
       "      <td>0.0</td>\n",
       "      <td>0.0</td>\n",
       "      <td>0.0</td>\n",
       "      <td>0.0</td>\n",
       "      <td>6</td>\n",
       "      <td>820</td>\n",
       "      <td>1</td>\n",
       "      <td>0</td>\n",
       "    </tr>\n",
       "    <tr>\n",
       "      <th>1</th>\n",
       "      <td>0018_01</td>\n",
       "      <td>0</td>\n",
       "      <td>0</td>\n",
       "      <td>2</td>\n",
       "      <td>0</td>\n",
       "      <td>0.0</td>\n",
       "      <td>9.0</td>\n",
       "      <td>0.0</td>\n",
       "      <td>2823.0</td>\n",
       "      <td>0.0</td>\n",
       "      <td>5</td>\n",
       "      <td>927</td>\n",
       "      <td>1</td>\n",
       "      <td>3</td>\n",
       "    </tr>\n",
       "    <tr>\n",
       "      <th>2</th>\n",
       "      <td>0019_01</td>\n",
       "      <td>1</td>\n",
       "      <td>1</td>\n",
       "      <td>0</td>\n",
       "      <td>0</td>\n",
       "      <td>0.0</td>\n",
       "      <td>0.0</td>\n",
       "      <td>0.0</td>\n",
       "      <td>0.0</td>\n",
       "      <td>0.0</td>\n",
       "      <td>2</td>\n",
       "      <td>0</td>\n",
       "      <td>1</td>\n",
       "      <td>0</td>\n",
       "    </tr>\n",
       "    <tr>\n",
       "      <th>3</th>\n",
       "      <td>0021_01</td>\n",
       "      <td>1</td>\n",
       "      <td>0</td>\n",
       "      <td>2</td>\n",
       "      <td>0</td>\n",
       "      <td>0.0</td>\n",
       "      <td>6652.0</td>\n",
       "      <td>0.0</td>\n",
       "      <td>181.0</td>\n",
       "      <td>585.0</td>\n",
       "      <td>2</td>\n",
       "      <td>1</td>\n",
       "      <td>1</td>\n",
       "      <td>0</td>\n",
       "    </tr>\n",
       "    <tr>\n",
       "      <th>4</th>\n",
       "      <td>0023_01</td>\n",
       "      <td>0</td>\n",
       "      <td>0</td>\n",
       "      <td>2</td>\n",
       "      <td>0</td>\n",
       "      <td>10.0</td>\n",
       "      <td>0.0</td>\n",
       "      <td>635.0</td>\n",
       "      <td>0.0</td>\n",
       "      <td>0.0</td>\n",
       "      <td>5</td>\n",
       "      <td>1029</td>\n",
       "      <td>1</td>\n",
       "      <td>3</td>\n",
       "    </tr>\n",
       "  </tbody>\n",
       "</table>\n",
       "</div>"
      ],
      "text/plain": [
       "  PassengerId  HomePlanet  CryoSleep  Destination  VIP  RoomService  \\\n",
       "0     0013_01           0          1            2    0          0.0   \n",
       "1     0018_01           0          0            2    0          0.0   \n",
       "2     0019_01           1          1            0    0          0.0   \n",
       "3     0021_01           1          0            2    0          0.0   \n",
       "4     0023_01           0          0            2    0         10.0   \n",
       "\n",
       "   FoodCourt  ShoppingMall     Spa  VRDeck  Deck   Num  Side  Age_Group  \n",
       "0        0.0           0.0     0.0     0.0     6   820     1          0  \n",
       "1        9.0           0.0  2823.0     0.0     5   927     1          3  \n",
       "2        0.0           0.0     0.0     0.0     2     0     1          0  \n",
       "3     6652.0           0.0   181.0   585.0     2     1     1          0  \n",
       "4        0.0         635.0     0.0     0.0     5  1029     1          3  "
      ]
     },
     "execution_count": 37,
     "metadata": {},
     "output_type": "execute_result"
    }
   ],
   "source": [
    "categorical_variables = [\"HomePlanet\", \"CryoSleep\", \"Cabin\", \"Destination\", \"VIP\"]\n",
    "mode = test[categorical_variables].mode().iloc[0]\n",
    "test[categorical_variables] = test[categorical_variables].fillna(mode)\n",
    "continous_variables = [\"Age\", \"RoomService\", \"FoodCourt\", \"ShoppingMall\", \"Spa\", \"VRDeck\"]\n",
    "median = test[continous_variables].median()\n",
    "test[continous_variables] = test[continous_variables].fillna(median)\n",
    "test = test.drop(\"Name\", axis=1)\n",
    "\n",
    "# Splitting Cabin variable \n",
    "test[['Deck', 'Num', 'Side']] = test['Cabin'].str.split(\"/\", expand = True)\n",
    "test = test.drop(\"Cabin\", axis=1)\n",
    "\n",
    "# making age into categorical variable \n",
    "labels=['Child', 'Teenager', 'Adult', 'Older']\n",
    "bins = [0, 12, 21, 45, 80]\n",
    "test['Age_Group'] = pd.cut(test['Age'], bins=bins, labels=labels)\n",
    "test = test.drop(\"Age\", axis=1)\n",
    "\n",
    "\n",
    "# We use Label Encoder to get our categorical variables in numerical values\n",
    "lbe = LabelEncoder()\n",
    "categorical_vars = [\"HomePlanet\",\"CryoSleep\",\"Destination\",\"VIP\",\"Deck\",\"Num\",\"Side\",\"Age_Group\"]\n",
    "test[categorical_vars] = test[categorical_vars].apply(lbe.fit_transform)\n",
    "\n",
    "\n",
    "test.head()"
   ]
  },
  {
   "cell_type": "code",
   "execution_count": 38,
   "id": "24b05214",
   "metadata": {
    "execution": {
     "iopub.execute_input": "2025-05-01T17:50:55.705907Z",
     "iopub.status.busy": "2025-05-01T17:50:55.704970Z",
     "iopub.status.idle": "2025-05-01T17:50:55.721218Z",
     "shell.execute_reply": "2025-05-01T17:50:55.720259Z"
    },
    "papermill": {
     "duration": 0.029868,
     "end_time": "2025-05-01T17:50:55.722959",
     "exception": false,
     "start_time": "2025-05-01T17:50:55.693091",
     "status": "completed"
    },
    "tags": []
   },
   "outputs": [
    {
     "data": {
      "text/html": [
       "<div>\n",
       "<style scoped>\n",
       "    .dataframe tbody tr th:only-of-type {\n",
       "        vertical-align: middle;\n",
       "    }\n",
       "\n",
       "    .dataframe tbody tr th {\n",
       "        vertical-align: top;\n",
       "    }\n",
       "\n",
       "    .dataframe thead th {\n",
       "        text-align: right;\n",
       "    }\n",
       "</style>\n",
       "<table border=\"1\" class=\"dataframe\">\n",
       "  <thead>\n",
       "    <tr style=\"text-align: right;\">\n",
       "      <th></th>\n",
       "      <th>HomePlanet</th>\n",
       "      <th>CryoSleep</th>\n",
       "      <th>Destination</th>\n",
       "      <th>VIP</th>\n",
       "      <th>RoomService</th>\n",
       "      <th>FoodCourt</th>\n",
       "      <th>ShoppingMall</th>\n",
       "      <th>Spa</th>\n",
       "      <th>VRDeck</th>\n",
       "      <th>Deck</th>\n",
       "      <th>Num</th>\n",
       "      <th>Side</th>\n",
       "      <th>Age_Group</th>\n",
       "    </tr>\n",
       "  </thead>\n",
       "  <tbody>\n",
       "    <tr>\n",
       "      <th>0</th>\n",
       "      <td>0</td>\n",
       "      <td>1</td>\n",
       "      <td>2</td>\n",
       "      <td>0</td>\n",
       "      <td>0.0</td>\n",
       "      <td>0.0</td>\n",
       "      <td>0.0</td>\n",
       "      <td>0.0</td>\n",
       "      <td>0.0</td>\n",
       "      <td>6</td>\n",
       "      <td>820</td>\n",
       "      <td>1</td>\n",
       "      <td>0</td>\n",
       "    </tr>\n",
       "    <tr>\n",
       "      <th>1</th>\n",
       "      <td>0</td>\n",
       "      <td>0</td>\n",
       "      <td>2</td>\n",
       "      <td>0</td>\n",
       "      <td>0.0</td>\n",
       "      <td>9.0</td>\n",
       "      <td>0.0</td>\n",
       "      <td>2823.0</td>\n",
       "      <td>0.0</td>\n",
       "      <td>5</td>\n",
       "      <td>927</td>\n",
       "      <td>1</td>\n",
       "      <td>3</td>\n",
       "    </tr>\n",
       "    <tr>\n",
       "      <th>2</th>\n",
       "      <td>1</td>\n",
       "      <td>1</td>\n",
       "      <td>0</td>\n",
       "      <td>0</td>\n",
       "      <td>0.0</td>\n",
       "      <td>0.0</td>\n",
       "      <td>0.0</td>\n",
       "      <td>0.0</td>\n",
       "      <td>0.0</td>\n",
       "      <td>2</td>\n",
       "      <td>0</td>\n",
       "      <td>1</td>\n",
       "      <td>0</td>\n",
       "    </tr>\n",
       "    <tr>\n",
       "      <th>3</th>\n",
       "      <td>1</td>\n",
       "      <td>0</td>\n",
       "      <td>2</td>\n",
       "      <td>0</td>\n",
       "      <td>0.0</td>\n",
       "      <td>6652.0</td>\n",
       "      <td>0.0</td>\n",
       "      <td>181.0</td>\n",
       "      <td>585.0</td>\n",
       "      <td>2</td>\n",
       "      <td>1</td>\n",
       "      <td>1</td>\n",
       "      <td>0</td>\n",
       "    </tr>\n",
       "    <tr>\n",
       "      <th>4</th>\n",
       "      <td>0</td>\n",
       "      <td>0</td>\n",
       "      <td>2</td>\n",
       "      <td>0</td>\n",
       "      <td>10.0</td>\n",
       "      <td>0.0</td>\n",
       "      <td>635.0</td>\n",
       "      <td>0.0</td>\n",
       "      <td>0.0</td>\n",
       "      <td>5</td>\n",
       "      <td>1029</td>\n",
       "      <td>1</td>\n",
       "      <td>3</td>\n",
       "    </tr>\n",
       "  </tbody>\n",
       "</table>\n",
       "</div>"
      ],
      "text/plain": [
       "   HomePlanet  CryoSleep  Destination  VIP  RoomService  FoodCourt  \\\n",
       "0           0          1            2    0          0.0        0.0   \n",
       "1           0          0            2    0          0.0        9.0   \n",
       "2           1          1            0    0          0.0        0.0   \n",
       "3           1          0            2    0          0.0     6652.0   \n",
       "4           0          0            2    0         10.0        0.0   \n",
       "\n",
       "   ShoppingMall     Spa  VRDeck  Deck   Num  Side  Age_Group  \n",
       "0           0.0     0.0     0.0     6   820     1          0  \n",
       "1           0.0  2823.0     0.0     5   927     1          3  \n",
       "2           0.0     0.0     0.0     2     0     1          0  \n",
       "3           0.0   181.0   585.0     2     1     1          0  \n",
       "4         635.0     0.0     0.0     5  1029     1          3  "
      ]
     },
     "execution_count": 38,
     "metadata": {},
     "output_type": "execute_result"
    }
   ],
   "source": [
    "test = test.drop(\"PassengerId\", axis=1)\n",
    "test.head()"
   ]
  },
  {
   "cell_type": "code",
   "execution_count": 39,
   "id": "479e1c44",
   "metadata": {
    "execution": {
     "iopub.execute_input": "2025-05-01T17:50:55.746302Z",
     "iopub.status.busy": "2025-05-01T17:50:55.745912Z",
     "iopub.status.idle": "2025-05-01T17:50:55.758201Z",
     "shell.execute_reply": "2025-05-01T17:50:55.757511Z"
    },
    "papermill": {
     "duration": 0.025889,
     "end_time": "2025-05-01T17:50:55.759919",
     "exception": false,
     "start_time": "2025-05-01T17:50:55.734030",
     "status": "completed"
    },
    "tags": []
   },
   "outputs": [],
   "source": [
    "y_predicted=xgb_classfier.predict(test)"
   ]
  },
  {
   "cell_type": "code",
   "execution_count": 40,
   "id": "357100f7",
   "metadata": {
    "execution": {
     "iopub.execute_input": "2025-05-01T17:50:55.783981Z",
     "iopub.status.busy": "2025-05-01T17:50:55.783649Z",
     "iopub.status.idle": "2025-05-01T17:50:55.809097Z",
     "shell.execute_reply": "2025-05-01T17:50:55.808141Z"
    },
    "papermill": {
     "duration": 0.039277,
     "end_time": "2025-05-01T17:50:55.810719",
     "exception": false,
     "start_time": "2025-05-01T17:50:55.771442",
     "status": "completed"
    },
    "tags": []
   },
   "outputs": [
    {
     "data": {
      "text/html": [
       "<div>\n",
       "<style scoped>\n",
       "    .dataframe tbody tr th:only-of-type {\n",
       "        vertical-align: middle;\n",
       "    }\n",
       "\n",
       "    .dataframe tbody tr th {\n",
       "        vertical-align: top;\n",
       "    }\n",
       "\n",
       "    .dataframe thead th {\n",
       "        text-align: right;\n",
       "    }\n",
       "</style>\n",
       "<table border=\"1\" class=\"dataframe\">\n",
       "  <thead>\n",
       "    <tr style=\"text-align: right;\">\n",
       "      <th></th>\n",
       "      <th>PassengerId</th>\n",
       "      <th>Transported</th>\n",
       "    </tr>\n",
       "  </thead>\n",
       "  <tbody>\n",
       "    <tr>\n",
       "      <th>0</th>\n",
       "      <td>0013_01</td>\n",
       "      <td>True</td>\n",
       "    </tr>\n",
       "    <tr>\n",
       "      <th>1</th>\n",
       "      <td>0018_01</td>\n",
       "      <td>False</td>\n",
       "    </tr>\n",
       "    <tr>\n",
       "      <th>2</th>\n",
       "      <td>0019_01</td>\n",
       "      <td>True</td>\n",
       "    </tr>\n",
       "    <tr>\n",
       "      <th>3</th>\n",
       "      <td>0021_01</td>\n",
       "      <td>True</td>\n",
       "    </tr>\n",
       "    <tr>\n",
       "      <th>4</th>\n",
       "      <td>0023_01</td>\n",
       "      <td>False</td>\n",
       "    </tr>\n",
       "  </tbody>\n",
       "</table>\n",
       "</div>"
      ],
      "text/plain": [
       "  PassengerId  Transported\n",
       "0     0013_01         True\n",
       "1     0018_01        False\n",
       "2     0019_01         True\n",
       "3     0021_01         True\n",
       "4     0023_01        False"
      ]
     },
     "execution_count": 40,
     "metadata": {},
     "output_type": "execute_result"
    }
   ],
   "source": [
    "test = pd.read_csv(\"/kaggle/input/spaceship-titanic/test.csv\")\n",
    "submission = pd.DataFrame({\"PassengerId\":test[\"PassengerId\"],\"Transported\":y_predicted.astype(\"bool\")})\n",
    "submission.head()"
   ]
  },
  {
   "cell_type": "code",
   "execution_count": 41,
   "id": "30f29286",
   "metadata": {
    "execution": {
     "iopub.execute_input": "2025-05-01T17:50:55.835753Z",
     "iopub.status.busy": "2025-05-01T17:50:55.835380Z",
     "iopub.status.idle": "2025-05-01T17:50:55.848655Z",
     "shell.execute_reply": "2025-05-01T17:50:55.847804Z"
    },
    "papermill": {
     "duration": 0.027871,
     "end_time": "2025-05-01T17:50:55.850301",
     "exception": false,
     "start_time": "2025-05-01T17:50:55.822430",
     "status": "completed"
    },
    "tags": []
   },
   "outputs": [],
   "source": [
    "submission.to_csv(\"submission.csv\", index=False)"
   ]
  },
  {
   "cell_type": "code",
   "execution_count": null,
   "id": "be080a55",
   "metadata": {
    "papermill": {
     "duration": 0.011489,
     "end_time": "2025-05-01T17:50:55.875737",
     "exception": false,
     "start_time": "2025-05-01T17:50:55.864248",
     "status": "completed"
    },
    "tags": []
   },
   "outputs": [],
   "source": []
  }
 ],
 "metadata": {
  "kaggle": {
   "accelerator": "none",
   "dataSources": [
    {
     "databundleVersionId": 3220602,
     "sourceId": 34377,
     "sourceType": "competition"
    },
    {
     "datasetId": 7296505,
     "sourceId": 11629677,
     "sourceType": "datasetVersion"
    }
   ],
   "dockerImageVersionId": 31012,
   "isGpuEnabled": false,
   "isInternetEnabled": true,
   "language": "python",
   "sourceType": "notebook"
  },
  "kernelspec": {
   "display_name": "Python 3",
   "language": "python",
   "name": "python3"
  },
  "language_info": {
   "codemirror_mode": {
    "name": "ipython",
    "version": 3
   },
   "file_extension": ".py",
   "mimetype": "text/x-python",
   "name": "python",
   "nbconvert_exporter": "python",
   "pygments_lexer": "ipython3",
   "version": "3.11.11"
  },
  "papermill": {
   "default_parameters": {},
   "duration": 14.981096,
   "end_time": "2025-05-01T17:50:56.607279",
   "environment_variables": {},
   "exception": null,
   "input_path": "__notebook__.ipynb",
   "output_path": "__notebook__.ipynb",
   "parameters": {},
   "start_time": "2025-05-01T17:50:41.626183",
   "version": "2.6.0"
  }
 },
 "nbformat": 4,
 "nbformat_minor": 5
}
