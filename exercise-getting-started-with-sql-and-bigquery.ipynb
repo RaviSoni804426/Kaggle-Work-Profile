{
 "cells": [
  {
   "cell_type": "markdown",
   "id": "3a29f923",
   "metadata": {
    "papermill": {
     "duration": 0.004566,
     "end_time": "2025-04-30T09:37:07.675883",
     "exception": false,
     "start_time": "2025-04-30T09:37:07.671317",
     "status": "completed"
    },
    "tags": []
   },
   "source": [
    "**This notebook is an exercise in the [SQL](https://www.kaggle.com/learn/intro-to-sql) course.  You can reference the tutorial at [this link](https://www.kaggle.com/dansbecker/getting-started-with-sql-and-bigquery).**\n",
    "\n",
    "---\n"
   ]
  },
  {
   "cell_type": "markdown",
   "id": "9d05763d",
   "metadata": {
    "papermill": {
     "duration": 0.003494,
     "end_time": "2025-04-30T09:37:07.683388",
     "exception": false,
     "start_time": "2025-04-30T09:37:07.679894",
     "status": "completed"
    },
    "tags": []
   },
   "source": [
    "# Introduction\n",
    "\n",
    "The first test of your new data exploration skills uses data describing crime in the city of Chicago.\n",
    "\n",
    "Before you get started, run the following cell. It sets up the automated feedback system to review your answers."
   ]
  },
  {
   "cell_type": "code",
   "execution_count": 1,
   "id": "b27d178f",
   "metadata": {
    "execution": {
     "iopub.execute_input": "2025-04-30T09:37:07.692959Z",
     "iopub.status.busy": "2025-04-30T09:37:07.692548Z",
     "iopub.status.idle": "2025-04-30T09:37:28.899232Z",
     "shell.execute_reply": "2025-04-30T09:37:28.898087Z"
    },
    "papermill": {
     "duration": 21.213194,
     "end_time": "2025-04-30T09:37:28.900951",
     "exception": false,
     "start_time": "2025-04-30T09:37:07.687757",
     "status": "completed"
    },
    "tags": []
   },
   "outputs": [
    {
     "name": "stderr",
     "output_type": "stream",
     "text": [
      "/usr/local/lib/python3.11/dist-packages/learntools/sql/ex1.py:64: SyntaxWarning: assertion is always true, perhaps remove parentheses?\n",
      "  assert (type(fields_for_plotting[0] == str), \"The first item in `fields_for_plotting` should be a string.\")\n",
      "/usr/local/lib/python3.11/dist-packages/learntools/sql/ex1.py:65: SyntaxWarning: assertion is always true, perhaps remove parentheses?\n",
      "  assert (type(fields_for_plotting[1] == str), \"The second item in `fields_for_plotting` should be a string.\")\n"
     ]
    },
    {
     "name": "stdout",
     "output_type": "stream",
     "text": [
      "Using Kaggle's public dataset BigQuery integration.\n",
      "Setup Complete\n"
     ]
    }
   ],
   "source": [
    "# Set up feedack system\n",
    "from learntools.core import binder\n",
    "binder.bind(globals())\n",
    "from learntools.sql.ex1 import *\n",
    "print(\"Setup Complete\")"
   ]
  },
  {
   "cell_type": "markdown",
   "id": "d0fc1f76",
   "metadata": {
    "papermill": {
     "duration": 0.003777,
     "end_time": "2025-04-30T09:37:28.909481",
     "exception": false,
     "start_time": "2025-04-30T09:37:28.905704",
     "status": "completed"
    },
    "tags": []
   },
   "source": [
    "Use the next code cell to fetch the dataset."
   ]
  },
  {
   "cell_type": "code",
   "execution_count": 2,
   "id": "23ace55e",
   "metadata": {
    "execution": {
     "iopub.execute_input": "2025-04-30T09:37:28.919158Z",
     "iopub.status.busy": "2025-04-30T09:37:28.918663Z",
     "iopub.status.idle": "2025-04-30T09:37:29.275487Z",
     "shell.execute_reply": "2025-04-30T09:37:29.274172Z"
    },
    "papermill": {
     "duration": 0.364364,
     "end_time": "2025-04-30T09:37:29.277842",
     "exception": false,
     "start_time": "2025-04-30T09:37:28.913478",
     "status": "completed"
    },
    "tags": []
   },
   "outputs": [
    {
     "name": "stdout",
     "output_type": "stream",
     "text": [
      "Using Kaggle's public dataset BigQuery integration.\n"
     ]
    }
   ],
   "source": [
    "from google.cloud import bigquery\n",
    "\n",
    "# Create a \"Client\" object\n",
    "client = bigquery.Client()\n",
    "\n",
    "# Construct a reference to the \"chicago_crime\" dataset\n",
    "dataset_ref = client.dataset(\"chicago_crime\", project=\"bigquery-public-data\")\n",
    "\n",
    "# API request - fetch the dataset\n",
    "dataset = client.get_dataset(dataset_ref)"
   ]
  },
  {
   "cell_type": "markdown",
   "id": "837bfa47",
   "metadata": {
    "papermill": {
     "duration": 0.003813,
     "end_time": "2025-04-30T09:37:29.286048",
     "exception": false,
     "start_time": "2025-04-30T09:37:29.282235",
     "status": "completed"
    },
    "tags": []
   },
   "source": [
    "# Exercises\n",
    "\n",
    "### 1) Count tables in the dataset\n",
    "\n",
    "How many tables are in the Chicago Crime dataset?"
   ]
  },
  {
   "cell_type": "code",
   "execution_count": 3,
   "id": "82b4aaa8",
   "metadata": {
    "execution": {
     "iopub.execute_input": "2025-04-30T09:37:29.295738Z",
     "iopub.status.busy": "2025-04-30T09:37:29.295116Z",
     "iopub.status.idle": "2025-04-30T09:37:29.553782Z",
     "shell.execute_reply": "2025-04-30T09:37:29.552655Z"
    },
    "papermill": {
     "duration": 0.265986,
     "end_time": "2025-04-30T09:37:29.556143",
     "exception": false,
     "start_time": "2025-04-30T09:37:29.290157",
     "status": "completed"
    },
    "tags": []
   },
   "outputs": [
    {
     "name": "stdout",
     "output_type": "stream",
     "text": [
      "1\n"
     ]
    }
   ],
   "source": [
    "# Write the code you need here to figure out the answer\n",
    "# List all the tables in the \"chicago_crime\" dataset\n",
    "tables = list(client.list_tables(dataset))\n",
    "\n",
    "# Print number of tables in the dataset\n",
    "print(len(tables))"
   ]
  },
  {
   "cell_type": "code",
   "execution_count": 4,
   "id": "47ed2261",
   "metadata": {
    "execution": {
     "iopub.execute_input": "2025-04-30T09:37:29.566454Z",
     "iopub.status.busy": "2025-04-30T09:37:29.566125Z",
     "iopub.status.idle": "2025-04-30T09:37:29.575406Z",
     "shell.execute_reply": "2025-04-30T09:37:29.574349Z"
    },
    "papermill": {
     "duration": 0.01617,
     "end_time": "2025-04-30T09:37:29.577032",
     "exception": false,
     "start_time": "2025-04-30T09:37:29.560862",
     "status": "completed"
    },
    "tags": []
   },
   "outputs": [
    {
     "data": {
      "application/javascript": [
       "parent.postMessage({\"jupyterEvent\": \"custom.exercise_interaction\", \"data\": {\"outcomeType\": 1, \"valueTowardsCompletion\": 0.3333333333333333, \"interactionType\": 1, \"questionType\": 1, \"questionId\": \"1_CountTables\", \"learnToolsVersion\": \"0.3.5\", \"failureMessage\": \"\", \"exceptionClass\": \"\", \"trace\": \"\"}}, \"*\")"
      ],
      "text/plain": [
       "<IPython.core.display.Javascript object>"
      ]
     },
     "metadata": {},
     "output_type": "display_data"
    },
    {
     "data": {
      "text/markdown": [
       "<span style=\"color:#33cc33\">Correct</span>"
      ],
      "text/plain": [
       "Correct"
      ]
     },
     "metadata": {},
     "output_type": "display_data"
    }
   ],
   "source": [
    "num_tables = 1 # Store the answer as num_tables and then run this cell\n",
    "\n",
    "# Check your answer\n",
    "q_1.check()"
   ]
  },
  {
   "cell_type": "markdown",
   "id": "866567b2",
   "metadata": {
    "papermill": {
     "duration": 0.003993,
     "end_time": "2025-04-30T09:37:29.585576",
     "exception": false,
     "start_time": "2025-04-30T09:37:29.581583",
     "status": "completed"
    },
    "tags": []
   },
   "source": [
    "For a hint or the solution, uncomment the appropriate line below."
   ]
  },
  {
   "cell_type": "code",
   "execution_count": 5,
   "id": "871037af",
   "metadata": {
    "execution": {
     "iopub.execute_input": "2025-04-30T09:37:29.595411Z",
     "iopub.status.busy": "2025-04-30T09:37:29.595071Z",
     "iopub.status.idle": "2025-04-30T09:37:29.604127Z",
     "shell.execute_reply": "2025-04-30T09:37:29.603065Z"
    },
    "papermill": {
     "duration": 0.016586,
     "end_time": "2025-04-30T09:37:29.606518",
     "exception": false,
     "start_time": "2025-04-30T09:37:29.589932",
     "status": "completed"
    },
    "tags": []
   },
   "outputs": [
    {
     "data": {
      "application/javascript": [
       "parent.postMessage({\"jupyterEvent\": \"custom.exercise_interaction\", \"data\": {\"interactionType\": 3, \"questionType\": 1, \"questionId\": \"1_CountTables\", \"learnToolsVersion\": \"0.3.5\", \"valueTowardsCompletion\": 0.0, \"failureMessage\": \"\", \"exceptionClass\": \"\", \"trace\": \"\", \"outcomeType\": 4}}, \"*\")"
      ],
      "text/plain": [
       "<IPython.core.display.Javascript object>"
      ]
     },
     "metadata": {},
     "output_type": "display_data"
    },
    {
     "data": {
      "text/markdown": [
       "<span style=\"color:#33cc99\">Solution:</span> \n",
       "```python\n",
       "\n",
       "# List all the tables in the \"chicago_crime\" dataset\n",
       "tables = list(client.list_tables(dataset))\n",
       "\n",
       "# Print number of tables in the dataset\n",
       "print(len(tables))\n",
       "\n",
       "num_tables = 1\n",
       "\n",
       "```"
      ],
      "text/plain": [
       "Solution: \n",
       "```python\n",
       "\n",
       "# List all the tables in the \"chicago_crime\" dataset\n",
       "tables = list(client.list_tables(dataset))\n",
       "\n",
       "# Print number of tables in the dataset\n",
       "print(len(tables))\n",
       "\n",
       "num_tables = 1\n",
       "\n",
       "```"
      ]
     },
     "metadata": {},
     "output_type": "display_data"
    }
   ],
   "source": [
    "#q_1.hint()\n",
    "q_1.solution()"
   ]
  },
  {
   "cell_type": "markdown",
   "id": "5c7beb9e",
   "metadata": {
    "papermill": {
     "duration": 0.007566,
     "end_time": "2025-04-30T09:37:29.621339",
     "exception": false,
     "start_time": "2025-04-30T09:37:29.613773",
     "status": "completed"
    },
    "tags": []
   },
   "source": [
    "### 2) Explore the table schema\n",
    "\n",
    "How many columns in the `crime` table have `TIMESTAMP` data?"
   ]
  },
  {
   "cell_type": "code",
   "execution_count": 6,
   "id": "d75323e6",
   "metadata": {
    "execution": {
     "iopub.execute_input": "2025-04-30T09:37:29.633107Z",
     "iopub.status.busy": "2025-04-30T09:37:29.632505Z",
     "iopub.status.idle": "2025-04-30T09:37:29.891889Z",
     "shell.execute_reply": "2025-04-30T09:37:29.890695Z"
    },
    "papermill": {
     "duration": 0.267007,
     "end_time": "2025-04-30T09:37:29.893640",
     "exception": false,
     "start_time": "2025-04-30T09:37:29.626633",
     "status": "completed"
    },
    "tags": []
   },
   "outputs": [
    {
     "name": "stdout",
     "output_type": "stream",
     "text": [
      "[SchemaField('unique_key', 'INTEGER', 'REQUIRED', None, None, (), None), SchemaField('case_number', 'STRING', 'NULLABLE', None, None, (), None), SchemaField('date', 'TIMESTAMP', 'NULLABLE', None, None, (), None), SchemaField('block', 'STRING', 'NULLABLE', None, None, (), None), SchemaField('iucr', 'STRING', 'NULLABLE', None, None, (), None), SchemaField('primary_type', 'STRING', 'NULLABLE', None, None, (), None), SchemaField('description', 'STRING', 'NULLABLE', None, None, (), None), SchemaField('location_description', 'STRING', 'NULLABLE', None, None, (), None), SchemaField('arrest', 'BOOLEAN', 'NULLABLE', None, None, (), None), SchemaField('domestic', 'BOOLEAN', 'NULLABLE', None, None, (), None), SchemaField('beat', 'INTEGER', 'NULLABLE', None, None, (), None), SchemaField('district', 'INTEGER', 'NULLABLE', None, None, (), None), SchemaField('ward', 'INTEGER', 'NULLABLE', None, None, (), None), SchemaField('community_area', 'INTEGER', 'NULLABLE', None, None, (), None), SchemaField('fbi_code', 'STRING', 'NULLABLE', None, None, (), None), SchemaField('x_coordinate', 'FLOAT', 'NULLABLE', None, None, (), None), SchemaField('y_coordinate', 'FLOAT', 'NULLABLE', None, None, (), None), SchemaField('year', 'INTEGER', 'NULLABLE', None, None, (), None), SchemaField('updated_on', 'TIMESTAMP', 'NULLABLE', None, None, (), None), SchemaField('latitude', 'FLOAT', 'NULLABLE', None, None, (), None), SchemaField('longitude', 'FLOAT', 'NULLABLE', None, None, (), None), SchemaField('location', 'STRING', 'NULLABLE', None, None, (), None)]\n"
     ]
    }
   ],
   "source": [
    "# Write the code to figure out the answer\n",
    "table_ref=dataset_ref.table(\"crime\")\n",
    "table=client.get_table(table_ref)\n",
    "print(table.schema)\n"
   ]
  },
  {
   "cell_type": "code",
   "execution_count": 7,
   "id": "b01b9b1b",
   "metadata": {
    "execution": {
     "iopub.execute_input": "2025-04-30T09:37:29.904213Z",
     "iopub.status.busy": "2025-04-30T09:37:29.903869Z",
     "iopub.status.idle": "2025-04-30T09:37:29.911587Z",
     "shell.execute_reply": "2025-04-30T09:37:29.910719Z"
    },
    "papermill": {
     "duration": 0.0147,
     "end_time": "2025-04-30T09:37:29.913036",
     "exception": false,
     "start_time": "2025-04-30T09:37:29.898336",
     "status": "completed"
    },
    "tags": []
   },
   "outputs": [
    {
     "data": {
      "application/javascript": [
       "parent.postMessage({\"jupyterEvent\": \"custom.exercise_interaction\", \"data\": {\"outcomeType\": 1, \"valueTowardsCompletion\": 0.3333333333333333, \"interactionType\": 1, \"questionType\": 1, \"questionId\": \"2_CountTimestampFields\", \"learnToolsVersion\": \"0.3.5\", \"failureMessage\": \"\", \"exceptionClass\": \"\", \"trace\": \"\"}}, \"*\")"
      ],
      "text/plain": [
       "<IPython.core.display.Javascript object>"
      ]
     },
     "metadata": {},
     "output_type": "display_data"
    },
    {
     "data": {
      "text/markdown": [
       "<span style=\"color:#33cc33\">Correct</span>"
      ],
      "text/plain": [
       "Correct"
      ]
     },
     "metadata": {},
     "output_type": "display_data"
    }
   ],
   "source": [
    "num_timestamp_fields = 2 # Put your answer here\n",
    "\n",
    "# Check your answer\n",
    "q_2.check()"
   ]
  },
  {
   "cell_type": "markdown",
   "id": "54d01f44",
   "metadata": {
    "papermill": {
     "duration": 0.004687,
     "end_time": "2025-04-30T09:37:29.923124",
     "exception": false,
     "start_time": "2025-04-30T09:37:29.918437",
     "status": "completed"
    },
    "tags": []
   },
   "source": [
    "For a hint or the solution, uncomment the appropriate line below."
   ]
  },
  {
   "cell_type": "code",
   "execution_count": 8,
   "id": "5a8896f6",
   "metadata": {
    "execution": {
     "iopub.execute_input": "2025-04-30T09:37:29.934392Z",
     "iopub.status.busy": "2025-04-30T09:37:29.934012Z",
     "iopub.status.idle": "2025-04-30T09:37:29.943184Z",
     "shell.execute_reply": "2025-04-30T09:37:29.942002Z"
    },
    "papermill": {
     "duration": 0.017069,
     "end_time": "2025-04-30T09:37:29.944993",
     "exception": false,
     "start_time": "2025-04-30T09:37:29.927924",
     "status": "completed"
    },
    "tags": []
   },
   "outputs": [
    {
     "data": {
      "application/javascript": [
       "parent.postMessage({\"jupyterEvent\": \"custom.exercise_interaction\", \"data\": {\"interactionType\": 3, \"questionType\": 1, \"questionId\": \"2_CountTimestampFields\", \"learnToolsVersion\": \"0.3.5\", \"valueTowardsCompletion\": 0.0, \"failureMessage\": \"\", \"exceptionClass\": \"\", \"trace\": \"\", \"outcomeType\": 4}}, \"*\")"
      ],
      "text/plain": [
       "<IPython.core.display.Javascript object>"
      ]
     },
     "metadata": {},
     "output_type": "display_data"
    },
    {
     "data": {
      "text/markdown": [
       "<span style=\"color:#33cc99\">Solution:</span> \n",
       "```python\n",
       "\n",
       "# Construct a reference to the \"crime\" table\n",
       "table_ref = dataset_ref.table(\"crime\")\n",
       "\n",
       "# API request - fetch the table\n",
       "table = client.get_table(table_ref)\n",
       "\n",
       "# Print information on all the columns in the \"crime\" table in the \"chicago_crime\" dataset\n",
       "print(table.schema)\n",
       "\n",
       "num_timestamp_fields = 2\n",
       "\n",
       "```"
      ],
      "text/plain": [
       "Solution: \n",
       "```python\n",
       "\n",
       "# Construct a reference to the \"crime\" table\n",
       "table_ref = dataset_ref.table(\"crime\")\n",
       "\n",
       "# API request - fetch the table\n",
       "table = client.get_table(table_ref)\n",
       "\n",
       "# Print information on all the columns in the \"crime\" table in the \"chicago_crime\" dataset\n",
       "print(table.schema)\n",
       "\n",
       "num_timestamp_fields = 2\n",
       "\n",
       "```"
      ]
     },
     "metadata": {},
     "output_type": "display_data"
    }
   ],
   "source": [
    "#q_2.hint()\n",
    "q_2.solution()"
   ]
  },
  {
   "cell_type": "markdown",
   "id": "e9230d69",
   "metadata": {
    "papermill": {
     "duration": 0.004621,
     "end_time": "2025-04-30T09:37:29.956159",
     "exception": false,
     "start_time": "2025-04-30T09:37:29.951538",
     "status": "completed"
    },
    "tags": []
   },
   "source": [
    "### 3) Create a crime map\n",
    "\n",
    "If you wanted to create a map with a dot at the location of each crime, what are the names of the two fields you likely need to pull out of the `crime` table to plot the crimes on a map?"
   ]
  },
  {
   "cell_type": "code",
   "execution_count": 9,
   "id": "db6d6e6c",
   "metadata": {
    "execution": {
     "iopub.execute_input": "2025-04-30T09:37:29.967351Z",
     "iopub.status.busy": "2025-04-30T09:37:29.967008Z",
     "iopub.status.idle": "2025-04-30T09:37:29.971550Z",
     "shell.execute_reply": "2025-04-30T09:37:29.970494Z"
    },
    "papermill": {
     "duration": 0.012538,
     "end_time": "2025-04-30T09:37:29.973529",
     "exception": false,
     "start_time": "2025-04-30T09:37:29.960991",
     "status": "completed"
    },
    "tags": []
   },
   "outputs": [],
   "source": [
    "# Write the code here to explore the data so you can find the answer\n"
   ]
  },
  {
   "cell_type": "code",
   "execution_count": 10,
   "id": "cc490512",
   "metadata": {
    "execution": {
     "iopub.execute_input": "2025-04-30T09:37:29.985342Z",
     "iopub.status.busy": "2025-04-30T09:37:29.984960Z",
     "iopub.status.idle": "2025-04-30T09:37:29.992894Z",
     "shell.execute_reply": "2025-04-30T09:37:29.991938Z"
    },
    "papermill": {
     "duration": 0.015622,
     "end_time": "2025-04-30T09:37:29.994470",
     "exception": false,
     "start_time": "2025-04-30T09:37:29.978848",
     "status": "completed"
    },
    "tags": []
   },
   "outputs": [
    {
     "data": {
      "application/javascript": [
       "parent.postMessage({\"jupyterEvent\": \"custom.exercise_interaction\", \"data\": {\"outcomeType\": 1, \"valueTowardsCompletion\": 0.3333333333333333, \"interactionType\": 1, \"questionType\": 2, \"questionId\": \"3_IdentifyFieldsForPlotting\", \"learnToolsVersion\": \"0.3.5\", \"failureMessage\": \"\", \"exceptionClass\": \"\", \"trace\": \"\"}}, \"*\")"
      ],
      "text/plain": [
       "<IPython.core.display.Javascript object>"
      ]
     },
     "metadata": {},
     "output_type": "display_data"
    },
    {
     "data": {
      "text/markdown": [
       "<span style=\"color:#33cc33\">Correct</span>"
      ],
      "text/plain": [
       "Correct"
      ]
     },
     "metadata": {},
     "output_type": "display_data"
    }
   ],
   "source": [
    "fields_for_plotting = ['latitude', 'longitude'] # Put your answers here\n",
    "\n",
    "# Check your answer\n",
    "q_3.check()"
   ]
  },
  {
   "cell_type": "markdown",
   "id": "abc80514",
   "metadata": {
    "papermill": {
     "duration": 0.004966,
     "end_time": "2025-04-30T09:37:30.004963",
     "exception": false,
     "start_time": "2025-04-30T09:37:29.999997",
     "status": "completed"
    },
    "tags": []
   },
   "source": [
    "For a hint or the solution, uncomment the appropriate line below."
   ]
  },
  {
   "cell_type": "code",
   "execution_count": 11,
   "id": "3441048a",
   "metadata": {
    "execution": {
     "iopub.execute_input": "2025-04-30T09:37:30.017122Z",
     "iopub.status.busy": "2025-04-30T09:37:30.016103Z",
     "iopub.status.idle": "2025-04-30T09:37:30.024406Z",
     "shell.execute_reply": "2025-04-30T09:37:30.023436Z"
    },
    "papermill": {
     "duration": 0.01608,
     "end_time": "2025-04-30T09:37:30.026145",
     "exception": false,
     "start_time": "2025-04-30T09:37:30.010065",
     "status": "completed"
    },
    "tags": []
   },
   "outputs": [
    {
     "data": {
      "application/javascript": [
       "parent.postMessage({\"jupyterEvent\": \"custom.exercise_interaction\", \"data\": {\"interactionType\": 3, \"questionType\": 2, \"questionId\": \"3_IdentifyFieldsForPlotting\", \"learnToolsVersion\": \"0.3.5\", \"valueTowardsCompletion\": 0.0, \"failureMessage\": \"\", \"exceptionClass\": \"\", \"trace\": \"\", \"outcomeType\": 4}}, \"*\")"
      ],
      "text/plain": [
       "<IPython.core.display.Javascript object>"
      ]
     },
     "metadata": {},
     "output_type": "display_data"
    },
    {
     "data": {
      "text/markdown": [
       "<span style=\"color:#33cc99\">Solution:</span> \n",
       "```python\n",
       "fields_for_plotting = ['latitude', 'longitude']\n",
       "```"
      ],
      "text/plain": [
       "Solution: \n",
       "```python\n",
       "fields_for_plotting = ['latitude', 'longitude']\n",
       "```"
      ]
     },
     "metadata": {},
     "output_type": "display_data"
    }
   ],
   "source": [
    "#q_3.hint()\n",
    "q_3.solution()"
   ]
  },
  {
   "cell_type": "markdown",
   "id": "7e26517e",
   "metadata": {
    "papermill": {
     "duration": 0.005452,
     "end_time": "2025-04-30T09:37:30.037052",
     "exception": false,
     "start_time": "2025-04-30T09:37:30.031600",
     "status": "completed"
    },
    "tags": []
   },
   "source": [
    "Thinking about the question above, there are a few columns that appear to have geographic data. Look at a few values (with the `list_rows()` command) to see if you can determine their relationship.  Two columns will still be hard to interpret. But it should be obvious how the `location` column relates to `latitude` and `longitude`."
   ]
  },
  {
   "cell_type": "code",
   "execution_count": 12,
   "id": "06306b5d",
   "metadata": {
    "execution": {
     "iopub.execute_input": "2025-04-30T09:37:30.051954Z",
     "iopub.status.busy": "2025-04-30T09:37:30.051662Z",
     "iopub.status.idle": "2025-04-30T09:37:30.056224Z",
     "shell.execute_reply": "2025-04-30T09:37:30.055135Z"
    },
    "papermill": {
     "duration": 0.015525,
     "end_time": "2025-04-30T09:37:30.058186",
     "exception": false,
     "start_time": "2025-04-30T09:37:30.042661",
     "status": "completed"
    },
    "tags": []
   },
   "outputs": [],
   "source": [
    "# Scratch space for your code"
   ]
  },
  {
   "cell_type": "markdown",
   "id": "5152b650",
   "metadata": {
    "papermill": {
     "duration": 0.005848,
     "end_time": "2025-04-30T09:37:30.070006",
     "exception": false,
     "start_time": "2025-04-30T09:37:30.064158",
     "status": "completed"
    },
    "tags": []
   },
   "source": [
    "# Keep going\n",
    "\n",
    "You've looked at the schema, but you haven't yet done anything exciting with the data itself. Things get more interesting when you get to the data, so keep going to **[write your first SQL query](https://www.kaggle.com/dansbecker/select-from-where).**"
   ]
  },
  {
   "cell_type": "markdown",
   "id": "184cda0f",
   "metadata": {
    "papermill": {
     "duration": 0.005448,
     "end_time": "2025-04-30T09:37:30.081536",
     "exception": false,
     "start_time": "2025-04-30T09:37:30.076088",
     "status": "completed"
    },
    "tags": []
   },
   "source": [
    "---\n",
    "\n",
    "\n",
    "\n",
    "\n",
    "*Have questions or comments? Visit the [course discussion forum](https://www.kaggle.com/learn/intro-to-sql/discussion) to chat with other learners.*"
   ]
  }
 ],
 "metadata": {
  "kaggle": {
   "accelerator": "none",
   "dataSources": [
    {
     "datasetId": 22090,
     "sourceId": 28376,
     "sourceType": "datasetVersion"
    },
    {
     "datasetId": 6057,
     "sourceId": 285982,
     "sourceType": "datasetVersion"
    }
   ],
   "isGpuEnabled": false,
   "isInternetEnabled": false,
   "language": "python",
   "sourceType": "notebook"
  },
  "kernelspec": {
   "display_name": "Python 3",
   "language": "python",
   "name": "python3"
  },
  "language_info": {
   "codemirror_mode": {
    "name": "ipython",
    "version": 3
   },
   "file_extension": ".py",
   "mimetype": "text/x-python",
   "name": "python",
   "nbconvert_exporter": "python",
   "pygments_lexer": "ipython3",
   "version": "3.11.11"
  },
  "papermill": {
   "default_parameters": {},
   "duration": 31.24933,
   "end_time": "2025-04-30T09:37:33.704561",
   "environment_variables": {},
   "exception": null,
   "input_path": "__notebook__.ipynb",
   "output_path": "__notebook__.ipynb",
   "parameters": {},
   "start_time": "2025-04-30T09:37:02.455231",
   "version": "2.6.0"
  }
 },
 "nbformat": 4,
 "nbformat_minor": 5
}
