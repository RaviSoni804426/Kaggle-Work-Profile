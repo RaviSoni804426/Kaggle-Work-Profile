{
 "cells": [
  {
   "cell_type": "markdown",
   "id": "732227bb",
   "metadata": {
    "papermill": {
     "duration": 0.005156,
     "end_time": "2025-04-18T06:50:20.079099",
     "exception": false,
     "start_time": "2025-04-18T06:50:20.073943",
     "status": "completed"
    },
    "tags": []
   },
   "source": [
    "**This notebook is an exercise in the [Intro to Programming](https://www.kaggle.com/learn/intro-to-programming) course.  You can reference the tutorial at [this link](https://www.kaggle.com/alexisbcook/data-types).**\n",
    "\n",
    "---\n"
   ]
  },
  {
   "cell_type": "markdown",
   "id": "f5389eb9",
   "metadata": {
    "papermill": {
     "duration": 0.003996,
     "end_time": "2025-04-18T06:50:20.087567",
     "exception": false,
     "start_time": "2025-04-18T06:50:20.083571",
     "status": "completed"
    },
    "tags": []
   },
   "source": [
    "In the tutorial, you learned about four different data types: floats, integers, strings, and booleans.  In this exercise, you'll experiment with them.\n",
    "\n",
    "# Set up the notebook\n",
    "\n",
    "Run the next code cell without changes to set up the notebook."
   ]
  },
  {
   "cell_type": "code",
   "execution_count": 1,
   "id": "0f75a173",
   "metadata": {
    "execution": {
     "iopub.execute_input": "2025-04-18T06:50:20.097050Z",
     "iopub.status.busy": "2025-04-18T06:50:20.096757Z",
     "iopub.status.idle": "2025-04-18T06:50:21.946410Z",
     "shell.execute_reply": "2025-04-18T06:50:21.945439Z"
    },
    "papermill": {
     "duration": 1.856336,
     "end_time": "2025-04-18T06:50:21.948036",
     "exception": false,
     "start_time": "2025-04-18T06:50:20.091700",
     "status": "completed"
    },
    "tags": []
   },
   "outputs": [
    {
     "name": "stdout",
     "output_type": "stream",
     "text": [
      "Setup complete.\n"
     ]
    }
   ],
   "source": [
    "# Set up the exercise\n",
    "from learntools.core import binder\n",
    "binder.bind(globals())\n",
    "from learntools.intro_to_programming.ex3 import *\n",
    "print('Setup complete.')"
   ]
  },
  {
   "cell_type": "markdown",
   "id": "e2bdb57e",
   "metadata": {
    "papermill": {
     "duration": 0.004076,
     "end_time": "2025-04-18T06:50:21.956857",
     "exception": false,
     "start_time": "2025-04-18T06:50:21.952781",
     "status": "completed"
    },
    "tags": []
   },
   "source": [
    "# Question 1\n",
    "\n",
    "You have seen how to convert a float to an integer with the `int` function.  Try this out yourself by running the code cell below."
   ]
  },
  {
   "cell_type": "code",
   "execution_count": 2,
   "id": "bd4a157f",
   "metadata": {
    "execution": {
     "iopub.execute_input": "2025-04-18T06:50:21.967898Z",
     "iopub.status.busy": "2025-04-18T06:50:21.966976Z",
     "iopub.status.idle": "2025-04-18T06:50:21.972779Z",
     "shell.execute_reply": "2025-04-18T06:50:21.971710Z"
    },
    "papermill": {
     "duration": 0.012645,
     "end_time": "2025-04-18T06:50:21.974109",
     "exception": false,
     "start_time": "2025-04-18T06:50:21.961464",
     "status": "completed"
    },
    "tags": []
   },
   "outputs": [
    {
     "name": "stdout",
     "output_type": "stream",
     "text": [
      "1.0\n",
      "<class 'float'>\n",
      "1\n",
      "<class 'int'>\n"
     ]
    }
   ],
   "source": [
    "# Define a float\n",
    "y = 1.\n",
    "print(y)\n",
    "print(type(y))\n",
    "\n",
    "# Convert float to integer with the int function\n",
    "z = int(y)\n",
    "print(z)\n",
    "print(type(z))"
   ]
  },
  {
   "cell_type": "markdown",
   "id": "6e7b8358",
   "metadata": {
    "papermill": {
     "duration": 0.004152,
     "end_time": "2025-04-18T06:50:21.982687",
     "exception": false,
     "start_time": "2025-04-18T06:50:21.978535",
     "status": "completed"
    },
    "tags": []
   },
   "source": [
    "In this case, the float you are using has no numbers after the decimal.  \n",
    "- But what happens when you try to convert a float with a fractional part to an integer?  \n",
    "- How does the outcome of the `int` function change for positive and negative numbers?\n",
    "\n",
    "Use the next code cell to investigate and answer these questions.  Feel free to add or remove any lines of code -- it is your workspace!"
   ]
  },
  {
   "cell_type": "code",
   "execution_count": 3,
   "id": "41b7e5cc",
   "metadata": {
    "execution": {
     "iopub.execute_input": "2025-04-18T06:50:21.993021Z",
     "iopub.status.busy": "2025-04-18T06:50:21.992117Z",
     "iopub.status.idle": "2025-04-18T06:50:21.997224Z",
     "shell.execute_reply": "2025-04-18T06:50:21.996443Z"
    },
    "papermill": {
     "duration": 0.011399,
     "end_time": "2025-04-18T06:50:21.998407",
     "exception": false,
     "start_time": "2025-04-18T06:50:21.987008",
     "status": "completed"
    },
    "tags": []
   },
   "outputs": [
    {
     "name": "stdout",
     "output_type": "stream",
     "text": [
      "1\n",
      "1\n",
      "-3\n",
      "-2\n"
     ]
    }
   ],
   "source": [
    "# Uncomment and run this code to get started!\n",
    "print(int(1.2321))\n",
    "print(int(1.747))\n",
    "print(int(-3.94535))\n",
    "print(int(-2.19774))"
   ]
  },
  {
   "cell_type": "markdown",
   "id": "27848092",
   "metadata": {
    "papermill": {
     "duration": 0.004094,
     "end_time": "2025-04-18T06:50:22.007010",
     "exception": false,
     "start_time": "2025-04-18T06:50:22.002916",
     "status": "completed"
    },
    "tags": []
   },
   "source": [
    "Once you have an answer, run the code cell below to see the solution.  Viewing the solution will give you credit for answering the problem."
   ]
  },
  {
   "cell_type": "code",
   "execution_count": 4,
   "id": "51e01033",
   "metadata": {
    "execution": {
     "iopub.execute_input": "2025-04-18T06:50:22.017040Z",
     "iopub.status.busy": "2025-04-18T06:50:22.016410Z",
     "iopub.status.idle": "2025-04-18T06:50:22.023874Z",
     "shell.execute_reply": "2025-04-18T06:50:22.023030Z"
    },
    "papermill": {
     "duration": 0.013963,
     "end_time": "2025-04-18T06:50:22.025183",
     "exception": false,
     "start_time": "2025-04-18T06:50:22.011220",
     "status": "completed"
    },
    "tags": []
   },
   "outputs": [
    {
     "data": {
      "application/javascript": [
       "parent.postMessage({\"jupyterEvent\": \"custom.exercise_interaction\", \"data\": {\"outcomeType\": 1, \"valueTowardsCompletion\": 0.2, \"interactionType\": 1, \"questionType\": 4, \"questionId\": \"1_FloatToInt\", \"learnToolsVersion\": \"0.3.5\", \"failureMessage\": \"\", \"exceptionClass\": \"\", \"trace\": \"\"}}, \"*\")"
      ],
      "text/plain": [
       "<IPython.core.display.Javascript object>"
      ]
     },
     "metadata": {},
     "output_type": "display_data"
    },
    {
     "data": {
      "text/markdown": [
       "<span style=\"color:#33cc33\">Correct:</span> \n",
       "\n",
       "Negative floats are always rounded UP to the closest integer (for instance, both -1.1 and -1.9 are rounded up to -1). Positive floats are always rounded DOWN to the closest integer (for instance, 2.1 and 2.9 are rounded down to 2)."
      ],
      "text/plain": [
       "Correct: \n",
       "\n",
       "Negative floats are always rounded UP to the closest integer (for instance, both -1.1 and -1.9 are rounded up to -1). Positive floats are always rounded DOWN to the closest integer (for instance, 2.1 and 2.9 are rounded down to 2)."
      ]
     },
     "metadata": {},
     "output_type": "display_data"
    }
   ],
   "source": [
    "# Check your answer (Run this code cell to receive credit!)\n",
    "q1.check()"
   ]
  },
  {
   "cell_type": "markdown",
   "id": "dfe90ce4",
   "metadata": {
    "papermill": {
     "duration": 0.004244,
     "end_time": "2025-04-18T06:50:22.034169",
     "exception": false,
     "start_time": "2025-04-18T06:50:22.029925",
     "status": "completed"
    },
    "tags": []
   },
   "source": [
    "# Question 2\n",
    "\n",
    "In the tutorial, you learned about booleans (which can take a value of `True` or `False`), in addition to integers, floats, and strings.  For this question, your goal is to determine what happens when you multiply a boolean by any of these data types.  Specifically, \n",
    "- What happens when you multiply an integer or float by `True`?  What happens when you multiply them by `False`?  How does the answer change if the numbers are positive or negative?\n",
    "- What happens when you multiply a string by `True`?  By `False`?\n",
    "\n",
    "Use the next code cell for your investigation. "
   ]
  },
  {
   "cell_type": "code",
   "execution_count": 5,
   "id": "021f9a5c",
   "metadata": {
    "execution": {
     "iopub.execute_input": "2025-04-18T06:50:22.044060Z",
     "iopub.status.busy": "2025-04-18T06:50:22.043792Z",
     "iopub.status.idle": "2025-04-18T06:50:22.049154Z",
     "shell.execute_reply": "2025-04-18T06:50:22.048160Z"
    },
    "papermill": {
     "duration": 0.01197,
     "end_time": "2025-04-18T06:50:22.050493",
     "exception": false,
     "start_time": "2025-04-18T06:50:22.038523",
     "status": "completed"
    },
    "tags": []
   },
   "outputs": [
    {
     "name": "stdout",
     "output_type": "stream",
     "text": [
      "3\n",
      "-3.1\n",
      "<class 'str'>\n",
      "0\n"
     ]
    }
   ],
   "source": [
    "# Uncomment and run this code to get started!\n",
    "print(3 * True)\n",
    "print(-3.1 * True)\n",
    "print(type(\"abc\" * False))\n",
    "print(len(\"abc\" * False))"
   ]
  },
  {
   "cell_type": "markdown",
   "id": "8c47e709",
   "metadata": {
    "papermill": {
     "duration": 0.004312,
     "end_time": "2025-04-18T06:50:22.059560",
     "exception": false,
     "start_time": "2025-04-18T06:50:22.055248",
     "status": "completed"
    },
    "tags": []
   },
   "source": [
    "Once you have an answer, run the code cell below to see the solution.  Viewing the solution will give you credit for answering the problem."
   ]
  },
  {
   "cell_type": "code",
   "execution_count": 6,
   "id": "83955841",
   "metadata": {
    "execution": {
     "iopub.execute_input": "2025-04-18T06:50:22.070313Z",
     "iopub.status.busy": "2025-04-18T06:50:22.069725Z",
     "iopub.status.idle": "2025-04-18T06:50:22.076478Z",
     "shell.execute_reply": "2025-04-18T06:50:22.075802Z"
    },
    "papermill": {
     "duration": 0.013594,
     "end_time": "2025-04-18T06:50:22.077843",
     "exception": false,
     "start_time": "2025-04-18T06:50:22.064249",
     "status": "completed"
    },
    "tags": []
   },
   "outputs": [
    {
     "data": {
      "application/javascript": [
       "parent.postMessage({\"jupyterEvent\": \"custom.exercise_interaction\", \"data\": {\"outcomeType\": 1, \"valueTowardsCompletion\": 0.2, \"interactionType\": 1, \"questionType\": 4, \"questionId\": \"2_MultiplyBooleans\", \"learnToolsVersion\": \"0.3.5\", \"failureMessage\": \"\", \"exceptionClass\": \"\", \"trace\": \"\"}}, \"*\")"
      ],
      "text/plain": [
       "<IPython.core.display.Javascript object>"
      ]
     },
     "metadata": {},
     "output_type": "display_data"
    },
    {
     "data": {
      "text/markdown": [
       "<span style=\"color:#33cc33\">Correct:</span> \n",
       "\n",
       "When you multiple an integer or float by a boolean with value `True`, it just returns that same integer or float (and is equivalent to multiplying by 1).  If you multiply an integer or float by a boolean with value `False`, it always returns 0.  This is true for both positive and negative numbers.  If you multiply a string by a boolean with value `True`, it just returns that same string.  And if you multiply a string by a boolean with value `False`, it returns an empty string (or a string with length zero)."
      ],
      "text/plain": [
       "Correct: \n",
       "\n",
       "When you multiple an integer or float by a boolean with value `True`, it just returns that same integer or float (and is equivalent to multiplying by 1).  If you multiply an integer or float by a boolean with value `False`, it always returns 0.  This is true for both positive and negative numbers.  If you multiply a string by a boolean with value `True`, it just returns that same string.  And if you multiply a string by a boolean with value `False`, it returns an empty string (or a string with length zero)."
      ]
     },
     "metadata": {},
     "output_type": "display_data"
    }
   ],
   "source": [
    "# Check your answer (Run this code cell to receive credit!)\n",
    "q2.check()"
   ]
  },
  {
   "cell_type": "markdown",
   "id": "f4f40699",
   "metadata": {
    "papermill": {
     "duration": 0.004543,
     "end_time": "2025-04-18T06:50:22.087463",
     "exception": false,
     "start_time": "2025-04-18T06:50:22.082920",
     "status": "completed"
    },
    "tags": []
   },
   "source": [
    "# Question 3\n",
    "\n",
    "In this question, you will build off your work from the previous exercise to write a function that estimates the value of a house.\n",
    "\n",
    "Use the next code cell to create a function `get_expected_cost` that takes as input three variables:\n",
    "- `beds` - number of bedrooms (data type float)\n",
    "- `baths` - number of bathrooms (data type float)\n",
    "- `has_basement` - whether or not the house has a basement (data type boolean)\n",
    "\n",
    "It should return the expected cost of a house with those characteristics. Assume that:\n",
    "- the expected cost for a house with 0 bedrooms and 0 bathrooms, and no basement is 80000, \n",
    "- each bedroom adds 30000 to the expected cost,\n",
    "- each bathroom adds 10000 to the expected cost, and\n",
    "- a basement adds 40000 to the expected cost.\n",
    "\n",
    "For instance,\n",
    "- a house with 1 bedroom, 1 bathroom, and no basement has an expected cost of 80000 + 30000 + 10000 = 120000.  This value will be calculated with `get_expected_cost(1, 1, False)`.\n",
    "- a house with 2 bedrooms, 1 bathroom, and a basement has an expected cost of 80000 + 2*30000 + 10000 + 40000 = 190000.  This value will be calculated with `get_expected_cost(2, 1, True)`.\n",
    "\n",
    "Remember you can always get a hint by uncommenting `q3.hint()` in the code cell following the next!"
   ]
  },
  {
   "cell_type": "code",
   "execution_count": 7,
   "id": "d45a14f8",
   "metadata": {
    "execution": {
     "iopub.execute_input": "2025-04-18T06:50:22.098851Z",
     "iopub.status.busy": "2025-04-18T06:50:22.098522Z",
     "iopub.status.idle": "2025-04-18T06:50:22.106148Z",
     "shell.execute_reply": "2025-04-18T06:50:22.105274Z"
    },
    "papermill": {
     "duration": 0.014766,
     "end_time": "2025-04-18T06:50:22.107556",
     "exception": false,
     "start_time": "2025-04-18T06:50:22.092790",
     "status": "completed"
    },
    "tags": []
   },
   "outputs": [
    {
     "data": {
      "application/javascript": [
       "parent.postMessage({\"jupyterEvent\": \"custom.exercise_interaction\", \"data\": {\"outcomeType\": 1, \"valueTowardsCompletion\": 0.2, \"interactionType\": 1, \"questionType\": 2, \"questionId\": \"3_EstimateHouseValueBool\", \"learnToolsVersion\": \"0.3.5\", \"failureMessage\": \"\", \"exceptionClass\": \"\", \"trace\": \"\"}}, \"*\")"
      ],
      "text/plain": [
       "<IPython.core.display.Javascript object>"
      ]
     },
     "metadata": {},
     "output_type": "display_data"
    },
    {
     "data": {
      "text/markdown": [
       "<span style=\"color:#33cc33\">Correct</span>"
      ],
      "text/plain": [
       "Correct"
      ]
     },
     "metadata": {},
     "output_type": "display_data"
    }
   ],
   "source": [
    "# TODO: Complete the function\n",
    "def get_expected_cost(beds, baths, has_basement):\n",
    "    value = 80000 + 30000 * beds + 10000 * baths + 40000 * has_basement\n",
    "    return value\n",
    "\n",
    "# Check your answer \n",
    "q3.check()"
   ]
  },
  {
   "cell_type": "code",
   "execution_count": 8,
   "id": "524a2083",
   "metadata": {
    "execution": {
     "iopub.execute_input": "2025-04-18T06:50:22.119288Z",
     "iopub.status.busy": "2025-04-18T06:50:22.118745Z",
     "iopub.status.idle": "2025-04-18T06:50:22.125295Z",
     "shell.execute_reply": "2025-04-18T06:50:22.124637Z"
    },
    "papermill": {
     "duration": 0.013476,
     "end_time": "2025-04-18T06:50:22.126549",
     "exception": false,
     "start_time": "2025-04-18T06:50:22.113073",
     "status": "completed"
    },
    "tags": []
   },
   "outputs": [
    {
     "data": {
      "application/javascript": [
       "parent.postMessage({\"jupyterEvent\": \"custom.exercise_interaction\", \"data\": {\"interactionType\": 3, \"questionType\": 2, \"questionId\": \"3_EstimateHouseValueBool\", \"learnToolsVersion\": \"0.3.5\", \"valueTowardsCompletion\": 0.0, \"failureMessage\": \"\", \"exceptionClass\": \"\", \"trace\": \"\", \"outcomeType\": 4}}, \"*\")"
      ],
      "text/plain": [
       "<IPython.core.display.Javascript object>"
      ]
     },
     "metadata": {},
     "output_type": "display_data"
    },
    {
     "data": {
      "text/markdown": [
       "<span style=\"color:#33cc99\">Solution:</span> \n",
       "```python\n",
       "def get_expected_cost(beds, baths, has_basement):\n",
       "    value = 80000 + 30000 * beds + 10000 * baths + 40000 * has_basement\n",
       "    return value\n",
       "\n",
       "```"
      ],
      "text/plain": [
       "Solution: \n",
       "```python\n",
       "def get_expected_cost(beds, baths, has_basement):\n",
       "    value = 80000 + 30000 * beds + 10000 * baths + 40000 * has_basement\n",
       "    return value\n",
       "\n",
       "```"
      ]
     },
     "metadata": {},
     "output_type": "display_data"
    }
   ],
   "source": [
    "# Uncomment to see a hint\n",
    "#q3.hint()\n",
    "\n",
    "# Uncomment to view the solution\n",
    "q3.solution()"
   ]
  },
  {
   "cell_type": "markdown",
   "id": "867e1ac3",
   "metadata": {
    "papermill": {
     "duration": 0.004934,
     "end_time": "2025-04-18T06:50:22.136740",
     "exception": false,
     "start_time": "2025-04-18T06:50:22.131806",
     "status": "completed"
    },
    "tags": []
   },
   "source": [
    "# Question 4\n",
    "\n",
    "We'll continue our study of boolean arithmetic.  For this question, your task is to provide a description of what happpens when you add booleans. \n",
    "\n",
    "Use the next code cell for your investigation.  Feel free to add or remove any lines of code - use it as your workspace!"
   ]
  },
  {
   "cell_type": "code",
   "execution_count": 9,
   "id": "bef8495c",
   "metadata": {
    "execution": {
     "iopub.execute_input": "2025-04-18T06:50:22.148305Z",
     "iopub.status.busy": "2025-04-18T06:50:22.147756Z",
     "iopub.status.idle": "2025-04-18T06:50:22.153002Z",
     "shell.execute_reply": "2025-04-18T06:50:22.151851Z"
    },
    "papermill": {
     "duration": 0.012706,
     "end_time": "2025-04-18T06:50:22.154500",
     "exception": false,
     "start_time": "2025-04-18T06:50:22.141794",
     "status": "completed"
    },
    "tags": []
   },
   "outputs": [
    {
     "name": "stdout",
     "output_type": "stream",
     "text": [
      "0\n",
      "1\n",
      "1\n",
      "2\n",
      "3\n"
     ]
    }
   ],
   "source": [
    "print(False + False)\n",
    "print(True + False)\n",
    "print(False + True)\n",
    "print(True + True)\n",
    "print(False + True + True + True)"
   ]
  },
  {
   "cell_type": "markdown",
   "id": "28737c75",
   "metadata": {
    "papermill": {
     "duration": 0.004988,
     "end_time": "2025-04-18T06:50:22.164948",
     "exception": false,
     "start_time": "2025-04-18T06:50:22.159960",
     "status": "completed"
    },
    "tags": []
   },
   "source": [
    "Once you have an answer, run the code cell below to see the solution.  Viewing the solution will give you credit for answering the problem."
   ]
  },
  {
   "cell_type": "code",
   "execution_count": 10,
   "id": "6aa1ff93",
   "metadata": {
    "execution": {
     "iopub.execute_input": "2025-04-18T06:50:22.176458Z",
     "iopub.status.busy": "2025-04-18T06:50:22.176159Z",
     "iopub.status.idle": "2025-04-18T06:50:22.183115Z",
     "shell.execute_reply": "2025-04-18T06:50:22.182250Z"
    },
    "papermill": {
     "duration": 0.014463,
     "end_time": "2025-04-18T06:50:22.184454",
     "exception": false,
     "start_time": "2025-04-18T06:50:22.169991",
     "status": "completed"
    },
    "tags": []
   },
   "outputs": [
    {
     "data": {
      "application/javascript": [
       "parent.postMessage({\"jupyterEvent\": \"custom.exercise_interaction\", \"data\": {\"outcomeType\": 1, \"valueTowardsCompletion\": 0.2, \"interactionType\": 1, \"questionType\": 4, \"questionId\": \"4_AddingBooleans\", \"learnToolsVersion\": \"0.3.5\", \"failureMessage\": \"\", \"exceptionClass\": \"\", \"trace\": \"\"}}, \"*\")"
      ],
      "text/plain": [
       "<IPython.core.display.Javascript object>"
      ]
     },
     "metadata": {},
     "output_type": "display_data"
    },
    {
     "data": {
      "text/markdown": [
       "<span style=\"color:#33cc33\">Correct:</span> \n",
       "\n",
       "When you add booleans, adding `False` is equivalent to adding 0, and adding `True` is equivalent to adding 1."
      ],
      "text/plain": [
       "Correct: \n",
       "\n",
       "When you add booleans, adding `False` is equivalent to adding 0, and adding `True` is equivalent to adding 1."
      ]
     },
     "metadata": {},
     "output_type": "display_data"
    }
   ],
   "source": [
    "# Check your answer (Run this code cell to receive credit!)\n",
    "q4.check()"
   ]
  },
  {
   "cell_type": "markdown",
   "id": "d6d9faf1",
   "metadata": {
    "papermill": {
     "duration": 0.005201,
     "end_time": "2025-04-18T06:50:22.195233",
     "exception": false,
     "start_time": "2025-04-18T06:50:22.190032",
     "status": "completed"
    },
    "tags": []
   },
   "source": [
    "# 🌶️ Question 5\n",
    "\n",
    "You own an online shop where you sell rings with custom engravings.  You offer both gold plated and solid gold rings.\n",
    "- Gold plated rings have a base cost of \\\\$50, and you charge \\\\$7 per engraved unit.  \n",
    "- Solid gold rings have a base cost of \\\\$100, and you charge \\\\$10 per engraved unit.\n",
    "- Spaces and punctuation are counted as engraved units.\n",
    "\n",
    "Write a function `cost_of_project()` that takes two arguments:\n",
    "- `engraving` - a Python string with the text of the engraving\n",
    "- `solid_gold` - a Boolean that indicates whether the ring is solid gold\n",
    "\n",
    "It should return the cost of the project.  This question should be fairly challenging, and you may need a hint."
   ]
  },
  {
   "cell_type": "code",
   "execution_count": 11,
   "id": "4c5fc9aa",
   "metadata": {
    "execution": {
     "iopub.execute_input": "2025-04-18T06:50:22.207413Z",
     "iopub.status.busy": "2025-04-18T06:50:22.207158Z",
     "iopub.status.idle": "2025-04-18T06:50:22.214454Z",
     "shell.execute_reply": "2025-04-18T06:50:22.213737Z"
    },
    "papermill": {
     "duration": 0.014956,
     "end_time": "2025-04-18T06:50:22.215840",
     "exception": false,
     "start_time": "2025-04-18T06:50:22.200884",
     "status": "completed"
    },
    "tags": []
   },
   "outputs": [
    {
     "data": {
      "application/javascript": [
       "parent.postMessage({\"jupyterEvent\": \"custom.exercise_interaction\", \"data\": {\"outcomeType\": 1, \"valueTowardsCompletion\": 0.2, \"interactionType\": 1, \"questionType\": 2, \"questionId\": \"5_CustomEngravings\", \"learnToolsVersion\": \"0.3.5\", \"failureMessage\": \"\", \"exceptionClass\": \"\", \"trace\": \"\"}}, \"*\")"
      ],
      "text/plain": [
       "<IPython.core.display.Javascript object>"
      ]
     },
     "metadata": {},
     "output_type": "display_data"
    },
    {
     "data": {
      "text/markdown": [
       "<span style=\"color:#33cc33\">Correct</span>"
      ],
      "text/plain": [
       "Correct"
      ]
     },
     "metadata": {},
     "output_type": "display_data"
    }
   ],
   "source": [
    "def cost_of_project(engraving, solid_gold):\n",
    "    cost = solid_gold * (100 + 10 * len(engraving)) + (not solid_gold) * (50 + 7 * len(engraving))\n",
    "    return cost\n",
    "\n",
    "# Check your answer\n",
    "q5.check()"
   ]
  },
  {
   "cell_type": "code",
   "execution_count": 12,
   "id": "be953a9b",
   "metadata": {
    "execution": {
     "iopub.execute_input": "2025-04-18T06:50:22.228326Z",
     "iopub.status.busy": "2025-04-18T06:50:22.228047Z",
     "iopub.status.idle": "2025-04-18T06:50:22.234621Z",
     "shell.execute_reply": "2025-04-18T06:50:22.233666Z"
    },
    "papermill": {
     "duration": 0.014458,
     "end_time": "2025-04-18T06:50:22.235972",
     "exception": false,
     "start_time": "2025-04-18T06:50:22.221514",
     "status": "completed"
    },
    "tags": []
   },
   "outputs": [
    {
     "data": {
      "application/javascript": [
       "parent.postMessage({\"jupyterEvent\": \"custom.exercise_interaction\", \"data\": {\"interactionType\": 3, \"questionType\": 2, \"questionId\": \"5_CustomEngravings\", \"learnToolsVersion\": \"0.3.5\", \"valueTowardsCompletion\": 0.0, \"failureMessage\": \"\", \"exceptionClass\": \"\", \"trace\": \"\", \"outcomeType\": 4}}, \"*\")"
      ],
      "text/plain": [
       "<IPython.core.display.Javascript object>"
      ]
     },
     "metadata": {},
     "output_type": "display_data"
    },
    {
     "data": {
      "text/markdown": [
       "<span style=\"color:#33cc99\">Solution:</span> \n",
       "```python\n",
       "def cost_of_project(engraving, solid_gold):\n",
       "    cost = solid_gold * (100 + 10 * len(engraving)) + (not solid_gold) * (50 + 7 * len(engraving))\n",
       "    return cost\n",
       "\n",
       "```"
      ],
      "text/plain": [
       "Solution: \n",
       "```python\n",
       "def cost_of_project(engraving, solid_gold):\n",
       "    cost = solid_gold * (100 + 10 * len(engraving)) + (not solid_gold) * (50 + 7 * len(engraving))\n",
       "    return cost\n",
       "\n",
       "```"
      ]
     },
     "metadata": {},
     "output_type": "display_data"
    }
   ],
   "source": [
    "# Uncomment to see a hint\n",
    "#q5.hint()\n",
    "\n",
    "# Uncomment to view the solution\n",
    "q5.solution()"
   ]
  },
  {
   "cell_type": "markdown",
   "id": "c1bb71e1",
   "metadata": {
    "papermill": {
     "duration": 0.005609,
     "end_time": "2025-04-18T06:50:22.247591",
     "exception": false,
     "start_time": "2025-04-18T06:50:22.241982",
     "status": "completed"
    },
    "tags": []
   },
   "source": [
    "Run the next code cell to calculate the cost of engraving `Charlie+Denver` on a solid gold ring."
   ]
  },
  {
   "cell_type": "code",
   "execution_count": 13,
   "id": "d62609e0",
   "metadata": {
    "execution": {
     "iopub.execute_input": "2025-04-18T06:50:22.261028Z",
     "iopub.status.busy": "2025-04-18T06:50:22.260084Z",
     "iopub.status.idle": "2025-04-18T06:50:22.264943Z",
     "shell.execute_reply": "2025-04-18T06:50:22.264042Z"
    },
    "papermill": {
     "duration": 0.012813,
     "end_time": "2025-04-18T06:50:22.266272",
     "exception": false,
     "start_time": "2025-04-18T06:50:22.253459",
     "status": "completed"
    },
    "tags": []
   },
   "outputs": [
    {
     "name": "stdout",
     "output_type": "stream",
     "text": [
      "240\n"
     ]
    }
   ],
   "source": [
    "project_one = cost_of_project(\"Charlie+Denver\", True)\n",
    "print(project_one)"
   ]
  },
  {
   "cell_type": "markdown",
   "id": "ce9822c4",
   "metadata": {
    "papermill": {
     "duration": 0.005998,
     "end_time": "2025-04-18T06:50:22.278247",
     "exception": false,
     "start_time": "2025-04-18T06:50:22.272249",
     "status": "completed"
    },
    "tags": []
   },
   "source": [
    "Use the next code cell to calculate the cost of engraving `08/10/2000` on a gold plated ring."
   ]
  },
  {
   "cell_type": "code",
   "execution_count": 14,
   "id": "8becbfd5",
   "metadata": {
    "execution": {
     "iopub.execute_input": "2025-04-18T06:50:22.291010Z",
     "iopub.status.busy": "2025-04-18T06:50:22.290725Z",
     "iopub.status.idle": "2025-04-18T06:50:22.295762Z",
     "shell.execute_reply": "2025-04-18T06:50:22.294802Z"
    },
    "papermill": {
     "duration": 0.013223,
     "end_time": "2025-04-18T06:50:22.297271",
     "exception": false,
     "start_time": "2025-04-18T06:50:22.284048",
     "status": "completed"
    },
    "tags": []
   },
   "outputs": [
    {
     "name": "stdout",
     "output_type": "stream",
     "text": [
      "120\n"
     ]
    }
   ],
   "source": [
    "project_two = cost_of_project(\"08/10/2000\", False)\n",
    "print(project_two)"
   ]
  },
  {
   "cell_type": "markdown",
   "id": "40b5f2f9",
   "metadata": {
    "papermill": {
     "duration": 0.005631,
     "end_time": "2025-04-18T06:50:22.309279",
     "exception": false,
     "start_time": "2025-04-18T06:50:22.303648",
     "status": "completed"
    },
    "tags": []
   },
   "source": [
    "# Keep going\n",
    "\n",
    "Continue to the next lesson to **[learn about conditions and conditional statements](https://www.kaggle.com/alexisbcook/conditions-and-conditional-statements)**."
   ]
  },
  {
   "cell_type": "markdown",
   "id": "e224975d",
   "metadata": {
    "papermill": {
     "duration": 0.005687,
     "end_time": "2025-04-18T06:50:22.320686",
     "exception": false,
     "start_time": "2025-04-18T06:50:22.314999",
     "status": "completed"
    },
    "tags": []
   },
   "source": [
    "---\n",
    "\n",
    "\n",
    "\n",
    "\n",
    "*Have questions or comments? Visit the [course discussion forum](https://www.kaggle.com/learn/intro-to-programming/discussion) to chat with other learners.*"
   ]
  }
 ],
 "metadata": {
  "kaggle": {
   "accelerator": "none",
   "dataSources": [],
   "isGpuEnabled": false,
   "isInternetEnabled": false,
   "language": "python",
   "sourceType": "notebook"
  },
  "kernelspec": {
   "display_name": "Python 3",
   "language": "python",
   "name": "python3"
  },
  "language_info": {
   "codemirror_mode": {
    "name": "ipython",
    "version": 3
   },
   "file_extension": ".py",
   "mimetype": "text/x-python",
   "name": "python",
   "nbconvert_exporter": "python",
   "pygments_lexer": "ipython3",
   "version": "3.11.11"
  },
  "papermill": {
   "default_parameters": {},
   "duration": 7.324241,
   "end_time": "2025-04-18T06:50:22.845657",
   "environment_variables": {},
   "exception": null,
   "input_path": "__notebook__.ipynb",
   "output_path": "__notebook__.ipynb",
   "parameters": {},
   "start_time": "2025-04-18T06:50:15.521416",
   "version": "2.3.3"
  }
 },
 "nbformat": 4,
 "nbformat_minor": 5
}
