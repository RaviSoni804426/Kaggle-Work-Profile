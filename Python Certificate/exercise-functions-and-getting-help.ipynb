{
 "cells": [
  {
   "cell_type": "markdown",
   "id": "17336561",
   "metadata": {
    "papermill": {
     "duration": 0.003823,
     "end_time": "2025-04-19T02:11:58.013643",
     "exception": false,
     "start_time": "2025-04-19T02:11:58.009820",
     "status": "completed"
    },
    "tags": []
   },
   "source": [
    "**This notebook is an exercise in the [Python](https://www.kaggle.com/learn/python) course.  You can reference the tutorial at [this link](https://www.kaggle.com/colinmorris/functions-and-getting-help).**\n",
    "\n",
    "---\n"
   ]
  },
  {
   "cell_type": "markdown",
   "id": "5e77c136",
   "metadata": {
    "papermill": {
     "duration": 0.002948,
     "end_time": "2025-04-19T02:11:58.019937",
     "exception": false,
     "start_time": "2025-04-19T02:11:58.016989",
     "status": "completed"
    },
    "tags": []
   },
   "source": [
    "Functions are powerful. Try writing some yourself.\n",
    "\n",
    "As before, don't forget to run the setup code below before jumping into question 1."
   ]
  },
  {
   "cell_type": "code",
   "execution_count": 1,
   "id": "8dd0fd29",
   "metadata": {
    "_kg_hide-input": true,
    "_kg_hide-output": true,
    "execution": {
     "iopub.execute_input": "2025-04-19T02:11:58.027552Z",
     "iopub.status.busy": "2025-04-19T02:11:58.027159Z",
     "iopub.status.idle": "2025-04-19T02:11:59.851757Z",
     "shell.execute_reply": "2025-04-19T02:11:59.850739Z"
    },
    "papermill": {
     "duration": 1.83013,
     "end_time": "2025-04-19T02:11:59.853205",
     "exception": false,
     "start_time": "2025-04-19T02:11:58.023075",
     "status": "completed"
    },
    "tags": []
   },
   "outputs": [
    {
     "name": "stdout",
     "output_type": "stream",
     "text": [
      "Setup complete.\n"
     ]
    }
   ],
   "source": [
    "# SETUP. You don't need to worry for now about what this code does or how it works.\n",
    "from learntools.core import binder; binder.bind(globals())\n",
    "from learntools.python.ex2 import *\n",
    "print('Setup complete.')"
   ]
  },
  {
   "cell_type": "markdown",
   "id": "2af47aae",
   "metadata": {
    "papermill": {
     "duration": 0.00306,
     "end_time": "2025-04-19T02:11:59.859814",
     "exception": false,
     "start_time": "2025-04-19T02:11:59.856754",
     "status": "completed"
    },
    "tags": []
   },
   "source": [
    "# 1.\n",
    "\n",
    "Complete the body of the following function according to its docstring.\n",
    "\n",
    "HINT: Python has a built-in function `round`."
   ]
  },
  {
   "cell_type": "code",
   "execution_count": 2,
   "id": "d0b7b4d5",
   "metadata": {
    "execution": {
     "iopub.execute_input": "2025-04-19T02:11:59.867848Z",
     "iopub.status.busy": "2025-04-19T02:11:59.867133Z",
     "iopub.status.idle": "2025-04-19T02:11:59.875533Z",
     "shell.execute_reply": "2025-04-19T02:11:59.874746Z"
    },
    "papermill": {
     "duration": 0.013757,
     "end_time": "2025-04-19T02:11:59.876872",
     "exception": false,
     "start_time": "2025-04-19T02:11:59.863115",
     "status": "completed"
    },
    "tags": []
   },
   "outputs": [
    {
     "data": {
      "application/javascript": [
       "parent.postMessage({\"jupyterEvent\": \"custom.exercise_interaction\", \"data\": {\"outcomeType\": 1, \"valueTowardsCompletion\": 0.16666666666666666, \"interactionType\": 1, \"questionType\": 2, \"questionId\": \"1_RoundFunctionProblem\", \"learnToolsVersion\": \"0.3.5\", \"failureMessage\": \"\", \"exceptionClass\": \"\", \"trace\": \"\"}}, \"*\")"
      ],
      "text/plain": [
       "<IPython.core.display.Javascript object>"
      ]
     },
     "metadata": {},
     "output_type": "display_data"
    },
    {
     "data": {
      "text/markdown": [
       "<span style=\"color:#33cc33\">Correct</span>"
      ],
      "text/plain": [
       "Correct"
      ]
     },
     "metadata": {},
     "output_type": "display_data"
    }
   ],
   "source": [
    "def round_to_two_places(num):\n",
    "    \"\"\"Return the given number rounded to two decimal places. \n",
    "    \n",
    "    >>> round_to_two_places(3.14159)\n",
    "    3.14\n",
    "    \"\"\"\n",
    "    return round(num,2)\n",
    "    # Replace this body with your own code.\n",
    "    # (\"pass\" is a keyword that does literally nothing. We used it as a placeholder\n",
    "    # because after we begin a code block, Python requires at least one line of code)\n",
    "    pass\n",
    "\n",
    "# Check your answer\n",
    "q1.check()"
   ]
  },
  {
   "cell_type": "code",
   "execution_count": 3,
   "id": "b23afd84",
   "metadata": {
    "execution": {
     "iopub.execute_input": "2025-04-19T02:11:59.885145Z",
     "iopub.status.busy": "2025-04-19T02:11:59.884886Z",
     "iopub.status.idle": "2025-04-19T02:11:59.891526Z",
     "shell.execute_reply": "2025-04-19T02:11:59.890843Z"
    },
    "papermill": {
     "duration": 0.012324,
     "end_time": "2025-04-19T02:11:59.892895",
     "exception": false,
     "start_time": "2025-04-19T02:11:59.880571",
     "status": "completed"
    },
    "tags": []
   },
   "outputs": [
    {
     "data": {
      "application/javascript": [
       "parent.postMessage({\"jupyterEvent\": \"custom.exercise_interaction\", \"data\": {\"interactionType\": 3, \"questionType\": 2, \"questionId\": \"1_RoundFunctionProblem\", \"learnToolsVersion\": \"0.3.5\", \"valueTowardsCompletion\": 0.0, \"failureMessage\": \"\", \"exceptionClass\": \"\", \"trace\": \"\", \"outcomeType\": 4}}, \"*\")"
      ],
      "text/plain": [
       "<IPython.core.display.Javascript object>"
      ]
     },
     "metadata": {},
     "output_type": "display_data"
    },
    {
     "data": {
      "text/markdown": [
       "<span style=\"color:#33cc99\">Solution:</span> \n",
       "```python\n",
       "return round(num, 2)\n",
       "```"
      ],
      "text/plain": [
       "Solution: \n",
       "```python\n",
       "return round(num, 2)\n",
       "```"
      ]
     },
     "metadata": {},
     "output_type": "display_data"
    }
   ],
   "source": [
    "# Uncomment the following for a hint\n",
    "#q1.hint()\n",
    "# Or uncomment the following to peek at the solution\n",
    "q1.solution()"
   ]
  },
  {
   "cell_type": "markdown",
   "id": "b955091b",
   "metadata": {
    "papermill": {
     "duration": 0.003343,
     "end_time": "2025-04-19T02:11:59.900096",
     "exception": false,
     "start_time": "2025-04-19T02:11:59.896753",
     "status": "completed"
    },
    "tags": []
   },
   "source": [
    "# 2.\n",
    "The help for `round` says that `ndigits` (the second argument) may be negative.\n",
    "What do you think will happen when it is? Try some examples in the following cell."
   ]
  },
  {
   "cell_type": "code",
   "execution_count": 4,
   "id": "03c7b58a",
   "metadata": {
    "execution": {
     "iopub.execute_input": "2025-04-19T02:11:59.910151Z",
     "iopub.status.busy": "2025-04-19T02:11:59.909040Z",
     "iopub.status.idle": "2025-04-19T02:11:59.913382Z",
     "shell.execute_reply": "2025-04-19T02:11:59.912614Z"
    },
    "papermill": {
     "duration": 0.010674,
     "end_time": "2025-04-19T02:11:59.914792",
     "exception": false,
     "start_time": "2025-04-19T02:11:59.904118",
     "status": "completed"
    },
    "tags": []
   },
   "outputs": [],
   "source": [
    "# Put your test code here"
   ]
  },
  {
   "cell_type": "markdown",
   "id": "23a5dbd1",
   "metadata": {
    "papermill": {
     "duration": 0.003779,
     "end_time": "2025-04-19T02:11:59.922416",
     "exception": false,
     "start_time": "2025-04-19T02:11:59.918637",
     "status": "completed"
    },
    "tags": []
   },
   "source": [
    "Can you think of a case where this would be useful?  Once you're ready, run the code cell below to see the answer and to receive credit for completing the problem."
   ]
  },
  {
   "cell_type": "code",
   "execution_count": 5,
   "id": "11e756e1",
   "metadata": {
    "execution": {
     "iopub.execute_input": "2025-04-19T02:11:59.930646Z",
     "iopub.status.busy": "2025-04-19T02:11:59.930352Z",
     "iopub.status.idle": "2025-04-19T02:11:59.936795Z",
     "shell.execute_reply": "2025-04-19T02:11:59.936134Z"
    },
    "papermill": {
     "duration": 0.01198,
     "end_time": "2025-04-19T02:11:59.938010",
     "exception": false,
     "start_time": "2025-04-19T02:11:59.926030",
     "status": "completed"
    },
    "tags": []
   },
   "outputs": [
    {
     "data": {
      "application/javascript": [
       "parent.postMessage({\"jupyterEvent\": \"custom.exercise_interaction\", \"data\": {\"interactionType\": 3, \"questionType\": 4, \"questionId\": \"2_RoundNdigitsProblem\", \"learnToolsVersion\": \"0.3.5\", \"valueTowardsCompletion\": 0.0, \"failureMessage\": \"\", \"exceptionClass\": \"\", \"trace\": \"\", \"outcomeType\": 4}}, \"*\")"
      ],
      "text/plain": [
       "<IPython.core.display.Javascript object>"
      ]
     },
     "metadata": {},
     "output_type": "display_data"
    },
    {
     "data": {
      "text/markdown": [
       "<span style=\"color:#33cc99\">Solution:</span> As you've seen, `ndigits=-1` rounds to the nearest 10, `ndigits=-2` rounds to the nearest 100 and so on. Where might this be useful? Suppose we're dealing with large numbers:\n",
       "\n",
       "> The area of Finland is 338,424 km²  \n",
       "> The area of Greenland is 2,166,086 km²\n",
       "\n",
       "We probably don't care whether it's really 338,424, or 338,425, or 338,177. All those digits of accuracy are just distracting. We can chop them off by calling `round()` with `ndigits=-3`:\n",
       "\n",
       "> The area of Finland is 338,000 km²  \n",
       "> The area of Greenland is 2,166,000 km²\n",
       "\n",
       "(We'll talk about how we would get the commas later when we talk about string formatting :))\n"
      ],
      "text/plain": [
       "Solution: As you've seen, `ndigits=-1` rounds to the nearest 10, `ndigits=-2` rounds to the nearest 100 and so on. Where might this be useful? Suppose we're dealing with large numbers:\n",
       "\n",
       "> The area of Finland is 338,424 km²  \n",
       "> The area of Greenland is 2,166,086 km²\n",
       "\n",
       "We probably don't care whether it's really 338,424, or 338,425, or 338,177. All those digits of accuracy are just distracting. We can chop them off by calling `round()` with `ndigits=-3`:\n",
       "\n",
       "> The area of Finland is 338,000 km²  \n",
       "> The area of Greenland is 2,166,000 km²\n",
       "\n",
       "(We'll talk about how we would get the commas later when we talk about string formatting :))"
      ]
     },
     "metadata": {},
     "output_type": "display_data"
    }
   ],
   "source": [
    "# Check your answer (Run this code cell to receive credit!)\n",
    "q2.solution()"
   ]
  },
  {
   "cell_type": "markdown",
   "id": "9a22514e",
   "metadata": {
    "papermill": {
     "duration": 0.003706,
     "end_time": "2025-04-19T02:11:59.945724",
     "exception": false,
     "start_time": "2025-04-19T02:11:59.942018",
     "status": "completed"
    },
    "tags": []
   },
   "source": [
    "# 3.\n",
    "\n",
    "In the previous exercise, the candy-sharing friends Alice, Bob and Carol tried to split candies evenly. For the sake of their friendship, any candies left over would be smashed. For example, if they collectively bring home 91 candies, they'll take 30 each and smash 1.\n",
    "\n",
    "Below is a simple function that will calculate the number of candies to smash for *any* number of total candies.\n",
    "\n",
    "Modify it so that it optionally takes a second argument representing the number of friends the candies are being split between. If no second argument is provided, it should assume 3 friends, as before.\n",
    "\n",
    "Update the docstring to reflect this new behaviour."
   ]
  },
  {
   "cell_type": "code",
   "execution_count": 6,
   "id": "78e3e09d",
   "metadata": {
    "execution": {
     "iopub.execute_input": "2025-04-19T02:11:59.954776Z",
     "iopub.status.busy": "2025-04-19T02:11:59.954465Z",
     "iopub.status.idle": "2025-04-19T02:11:59.961626Z",
     "shell.execute_reply": "2025-04-19T02:11:59.960879Z"
    },
    "papermill": {
     "duration": 0.013068,
     "end_time": "2025-04-19T02:11:59.962895",
     "exception": false,
     "start_time": "2025-04-19T02:11:59.949827",
     "status": "completed"
    },
    "tags": []
   },
   "outputs": [
    {
     "data": {
      "application/javascript": [
       "parent.postMessage({\"jupyterEvent\": \"custom.exercise_interaction\", \"data\": {\"outcomeType\": 1, \"valueTowardsCompletion\": 0.16666666666666666, \"interactionType\": 1, \"questionType\": 2, \"questionId\": \"3_CandySmashingFunctionProblem\", \"learnToolsVersion\": \"0.3.5\", \"failureMessage\": \"\", \"exceptionClass\": \"\", \"trace\": \"\"}}, \"*\")"
      ],
      "text/plain": [
       "<IPython.core.display.Javascript object>"
      ]
     },
     "metadata": {},
     "output_type": "display_data"
    },
    {
     "data": {
      "text/markdown": [
       "<span style=\"color:#33cc33\">Correct</span>"
      ],
      "text/plain": [
       "Correct"
      ]
     },
     "metadata": {},
     "output_type": "display_data"
    }
   ],
   "source": [
    "def to_smash(total_candies,n_friends=3):\n",
    "    \"\"\"Return the number of leftover candies that must be smashed after distributing\n",
    "    the given number of candies evenly between 3 friends.\n",
    "    \n",
    "    >>> to_smash(91)\n",
    "    1\n",
    "    \"\"\"\n",
    "    return total_candies % n_friends\n",
    "\n",
    "# Check your answer\n",
    "q3.check()"
   ]
  },
  {
   "cell_type": "code",
   "execution_count": 7,
   "id": "84260c5c",
   "metadata": {
    "execution": {
     "iopub.execute_input": "2025-04-19T02:11:59.972358Z",
     "iopub.status.busy": "2025-04-19T02:11:59.972098Z",
     "iopub.status.idle": "2025-04-19T02:11:59.975950Z",
     "shell.execute_reply": "2025-04-19T02:11:59.975234Z"
    },
    "papermill": {
     "duration": 0.010225,
     "end_time": "2025-04-19T02:11:59.977308",
     "exception": false,
     "start_time": "2025-04-19T02:11:59.967083",
     "status": "completed"
    },
    "tags": []
   },
   "outputs": [],
   "source": [
    "#q3.hint()"
   ]
  },
  {
   "cell_type": "code",
   "execution_count": 8,
   "id": "c48ef316",
   "metadata": {
    "execution": {
     "iopub.execute_input": "2025-04-19T02:11:59.987167Z",
     "iopub.status.busy": "2025-04-19T02:11:59.986259Z",
     "iopub.status.idle": "2025-04-19T02:11:59.993144Z",
     "shell.execute_reply": "2025-04-19T02:11:59.992495Z"
    },
    "papermill": {
     "duration": 0.01286,
     "end_time": "2025-04-19T02:11:59.994316",
     "exception": false,
     "start_time": "2025-04-19T02:11:59.981456",
     "status": "completed"
    },
    "tags": []
   },
   "outputs": [
    {
     "data": {
      "application/javascript": [
       "parent.postMessage({\"jupyterEvent\": \"custom.exercise_interaction\", \"data\": {\"interactionType\": 3, \"questionType\": 2, \"questionId\": \"3_CandySmashingFunctionProblem\", \"learnToolsVersion\": \"0.3.5\", \"valueTowardsCompletion\": 0.0, \"failureMessage\": \"\", \"exceptionClass\": \"\", \"trace\": \"\", \"outcomeType\": 4}}, \"*\")"
      ],
      "text/plain": [
       "<IPython.core.display.Javascript object>"
      ]
     },
     "metadata": {},
     "output_type": "display_data"
    },
    {
     "data": {
      "text/markdown": [
       "<span style=\"color:#33cc99\">Solution:</span> \n",
       "```python\n",
       "def to_smash(total_candies, n_friends=3):\n",
       "    return total_candies % n_friends\n",
       "```"
      ],
      "text/plain": [
       "Solution: \n",
       "```python\n",
       "def to_smash(total_candies, n_friends=3):\n",
       "    return total_candies % n_friends\n",
       "```"
      ]
     },
     "metadata": {},
     "output_type": "display_data"
    }
   ],
   "source": [
    "q3.solution()"
   ]
  },
  {
   "cell_type": "markdown",
   "id": "a5a365b4",
   "metadata": {
    "papermill": {
     "duration": 0.003993,
     "end_time": "2025-04-19T02:12:00.002609",
     "exception": false,
     "start_time": "2025-04-19T02:11:59.998616",
     "status": "completed"
    },
    "tags": []
   },
   "source": [
    "# 4. (Optional)\n",
    "\n",
    "It may not be fun, but reading and understanding error messages will be an important part of your Python career.\n",
    "\n",
    "Each code cell below contains some commented buggy code. For each cell...\n",
    "\n",
    "1. Read the code and predict what you think will happen when it's run.\n",
    "2. Then uncomment the code and run it to see what happens. (**Tip**: In the kernel editor, you can highlight several lines and press `ctrl`+`/` to toggle commenting.)\n",
    "3. Fix the code (so that it accomplishes its intended purpose without throwing an exception)\n",
    "\n",
    "<!-- TODO: should this be autochecked? Delta is probably pretty small. -->"
   ]
  },
  {
   "cell_type": "code",
   "execution_count": 9,
   "id": "4247dbf0",
   "metadata": {
    "execution": {
     "iopub.execute_input": "2025-04-19T02:12:00.012075Z",
     "iopub.status.busy": "2025-04-19T02:12:00.011797Z",
     "iopub.status.idle": "2025-04-19T02:12:00.015487Z",
     "shell.execute_reply": "2025-04-19T02:12:00.014810Z"
    },
    "papermill": {
     "duration": 0.01003,
     "end_time": "2025-04-19T02:12:00.016759",
     "exception": false,
     "start_time": "2025-04-19T02:12:00.006729",
     "status": "completed"
    },
    "tags": []
   },
   "outputs": [],
   "source": [
    "# ruound_to_two_places(9.9999)"
   ]
  },
  {
   "cell_type": "code",
   "execution_count": 10,
   "id": "8422fab6",
   "metadata": {
    "execution": {
     "iopub.execute_input": "2025-04-19T02:12:00.026934Z",
     "iopub.status.busy": "2025-04-19T02:12:00.026651Z",
     "iopub.status.idle": "2025-04-19T02:12:00.030375Z",
     "shell.execute_reply": "2025-04-19T02:12:00.029649Z"
    },
    "papermill": {
     "duration": 0.010337,
     "end_time": "2025-04-19T02:12:00.031863",
     "exception": false,
     "start_time": "2025-04-19T02:12:00.021526",
     "status": "completed"
    },
    "tags": []
   },
   "outputs": [],
   "source": [
    "# x = -10\n",
    "# y = 5\n",
    "# # Which of the two variables above has the smallest absolute value?\n",
    "# smallest_abs = min(abs(x, y))"
   ]
  },
  {
   "cell_type": "code",
   "execution_count": 11,
   "id": "e9d38bc2",
   "metadata": {
    "execution": {
     "iopub.execute_input": "2025-04-19T02:12:00.042100Z",
     "iopub.status.busy": "2025-04-19T02:12:00.041402Z",
     "iopub.status.idle": "2025-04-19T02:12:00.045246Z",
     "shell.execute_reply": "2025-04-19T02:12:00.044419Z"
    },
    "papermill": {
     "duration": 0.01043,
     "end_time": "2025-04-19T02:12:00.046672",
     "exception": false,
     "start_time": "2025-04-19T02:12:00.036242",
     "status": "completed"
    },
    "tags": []
   },
   "outputs": [],
   "source": [
    "# def f(x):\n",
    "#     y = abs(x)\n",
    "# return y\n",
    "\n",
    "# print(f(5))"
   ]
  },
  {
   "cell_type": "markdown",
   "id": "810736d4",
   "metadata": {
    "papermill": {
     "duration": 0.004088,
     "end_time": "2025-04-19T02:12:00.055358",
     "exception": false,
     "start_time": "2025-04-19T02:12:00.051270",
     "status": "completed"
    },
    "tags": []
   },
   "source": [
    "# Keep Going\n",
    "\n",
    "Nice job with the code. Next up, you'll learn about *conditionals*, which you'll need to **[write interesting programs](https://www.kaggle.com/colinmorris/booleans-and-conditionals)**. "
   ]
  },
  {
   "cell_type": "markdown",
   "id": "f36192a1",
   "metadata": {
    "papermill": {
     "duration": 0.004076,
     "end_time": "2025-04-19T02:12:00.064369",
     "exception": false,
     "start_time": "2025-04-19T02:12:00.060293",
     "status": "completed"
    },
    "tags": []
   },
   "source": [
    "---\n",
    "\n",
    "\n",
    "\n",
    "\n",
    "*Have questions or comments? Visit the [course discussion forum](https://www.kaggle.com/learn/python/discussion) to chat with other learners.*"
   ]
  }
 ],
 "metadata": {
  "kaggle": {
   "accelerator": "none",
   "dataSources": [],
   "isGpuEnabled": false,
   "isInternetEnabled": false,
   "language": "python",
   "sourceType": "notebook"
  },
  "kernelspec": {
   "display_name": "Python 3",
   "language": "python",
   "name": "python3"
  },
  "language_info": {
   "codemirror_mode": {
    "name": "ipython",
    "version": 3
   },
   "file_extension": ".py",
   "mimetype": "text/x-python",
   "name": "python",
   "nbconvert_exporter": "python",
   "pygments_lexer": "ipython3",
   "version": "3.11.11"
  },
  "learntools_metadata": {
   "lesson_index": 1,
   "type": "exercise"
  },
  "papermill": {
   "default_parameters": {},
   "duration": 7.171585,
   "end_time": "2025-04-19T02:12:00.588512",
   "environment_variables": {},
   "exception": null,
   "input_path": "__notebook__.ipynb",
   "output_path": "__notebook__.ipynb",
   "parameters": {},
   "start_time": "2025-04-19T02:11:53.416927",
   "version": "2.6.0"
  }
 },
 "nbformat": 4,
 "nbformat_minor": 5
}
