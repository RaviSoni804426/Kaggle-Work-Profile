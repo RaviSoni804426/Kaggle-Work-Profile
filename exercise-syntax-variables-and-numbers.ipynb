{
 "cells": [
  {
   "cell_type": "markdown",
   "id": "7cae7b77",
   "metadata": {
    "papermill": {
     "duration": 0.005766,
     "end_time": "2025-04-18T09:24:12.784395",
     "exception": false,
     "start_time": "2025-04-18T09:24:12.778629",
     "status": "completed"
    },
    "tags": []
   },
   "source": [
    "**This notebook is an exercise in the [Python](https://www.kaggle.com/learn/python) course.  You can reference the tutorial at [this link](https://www.kaggle.com/colinmorris/hello-python).**\n",
    "\n",
    "---\n"
   ]
  },
  {
   "cell_type": "markdown",
   "id": "c7a5f06f",
   "metadata": {
    "papermill": {
     "duration": 0.00416,
     "end_time": "2025-04-18T09:24:12.793108",
     "exception": false,
     "start_time": "2025-04-18T09:24:12.788948",
     "status": "completed"
    },
    "tags": []
   },
   "source": [
    "Welcome to your first set of Python coding problems.  If this is your first time using Kaggle Notebooks, welcome! \n",
    "\n",
    "Notebooks are composed of blocks (called \"cells\") of text and code. Each of these is editable, though you'll mainly be editing the code cells to answer some questions.\n",
    "\n",
    "To get started, try running the code cell below (by pressing the ► button, or clicking on the cell and pressing ctrl+enter on your keyboard)."
   ]
  },
  {
   "cell_type": "code",
   "execution_count": 1,
   "id": "1de4fb15",
   "metadata": {
    "execution": {
     "iopub.execute_input": "2025-04-18T09:24:12.803095Z",
     "iopub.status.busy": "2025-04-18T09:24:12.802683Z",
     "iopub.status.idle": "2025-04-18T09:24:12.811104Z",
     "shell.execute_reply": "2025-04-18T09:24:12.810115Z"
    },
    "papermill": {
     "duration": 0.015138,
     "end_time": "2025-04-18T09:24:12.812512",
     "exception": false,
     "start_time": "2025-04-18T09:24:12.797374",
     "status": "completed"
    },
    "tags": []
   },
   "outputs": [
    {
     "name": "stdout",
     "output_type": "stream",
     "text": [
      "You've successfully run some Python code\n",
      "Congratulations!\n"
     ]
    }
   ],
   "source": [
    "print(\"You've successfully run some Python code\")\n",
    "print(\"Congratulations!\")"
   ]
  },
  {
   "cell_type": "markdown",
   "id": "3bf4a250",
   "metadata": {
    "papermill": {
     "duration": 0.004129,
     "end_time": "2025-04-18T09:24:12.821365",
     "exception": false,
     "start_time": "2025-04-18T09:24:12.817236",
     "status": "completed"
    },
    "tags": []
   },
   "source": [
    "Try adding another line of code in the cell above and re-running it. \n",
    "\n",
    "Now let's get a little fancier:  Add a new code cell by clicking on an existing code cell, hitting the escape key, and then hitting the `a` or `b` key.  The `a` key will add a cell above the current cell, and `b` adds a cell below.\n",
    "\n",
    "Great! Now you know how to use Notebooks.\n",
    "\n",
    "Each hands-on exercise starts by setting up our feedback and code checking mechanism. Run the code cell below to do that. Then you'll be ready to move on to question 0."
   ]
  },
  {
   "cell_type": "code",
   "execution_count": 2,
   "id": "240a19c6",
   "metadata": {
    "_kg_hide-input": true,
    "_kg_hide-output": true,
    "execution": {
     "iopub.execute_input": "2025-04-18T09:24:12.831540Z",
     "iopub.status.busy": "2025-04-18T09:24:12.830998Z",
     "iopub.status.idle": "2025-04-18T09:24:14.670266Z",
     "shell.execute_reply": "2025-04-18T09:24:14.669292Z"
    },
    "papermill": {
     "duration": 1.845865,
     "end_time": "2025-04-18T09:24:14.671666",
     "exception": false,
     "start_time": "2025-04-18T09:24:12.825801",
     "status": "completed"
    },
    "tags": []
   },
   "outputs": [
    {
     "name": "stdout",
     "output_type": "stream",
     "text": [
      "Setup complete! You're ready to start question 0.\n"
     ]
    }
   ],
   "source": [
    "from learntools.core import binder; binder.bind(globals())\n",
    "from learntools.python.ex1 import *\n",
    "print(\"Setup complete! You're ready to start question 0.\")"
   ]
  },
  {
   "cell_type": "markdown",
   "id": "b2f2219d",
   "metadata": {
    "papermill": {
     "duration": 0.004362,
     "end_time": "2025-04-18T09:24:14.680659",
     "exception": false,
     "start_time": "2025-04-18T09:24:14.676297",
     "status": "completed"
    },
    "tags": []
   },
   "source": [
    "# 0.\n",
    "\n",
    "*This is a silly question intended as an introduction to the format we use for hands-on exercises throughout all Kaggle courses.*\n",
    "\n",
    "**What is your favorite color? **\n",
    "\n",
    "To complete this question, create a variable called `color` in the cell below with an appropriate value. The function call `q0.check()` (which we've already provided in the cell below) will check your answer."
   ]
  },
  {
   "cell_type": "code",
   "execution_count": 3,
   "id": "7e693ec4",
   "metadata": {
    "execution": {
     "iopub.execute_input": "2025-04-18T09:24:14.690737Z",
     "iopub.status.busy": "2025-04-18T09:24:14.690341Z",
     "iopub.status.idle": "2025-04-18T09:24:14.697652Z",
     "shell.execute_reply": "2025-04-18T09:24:14.696869Z"
    },
    "papermill": {
     "duration": 0.013867,
     "end_time": "2025-04-18T09:24:14.698889",
     "exception": false,
     "start_time": "2025-04-18T09:24:14.685022",
     "status": "completed"
    },
    "tags": []
   },
   "outputs": [
    {
     "data": {
      "application/javascript": [
       "parent.postMessage({\"jupyterEvent\": \"custom.exercise_interaction\", \"data\": {\"outcomeType\": 1, \"valueTowardsCompletion\": 0.25, \"interactionType\": 1, \"questionType\": 2, \"questionId\": \"0_ExerciseFormatTutorial\", \"learnToolsVersion\": \"0.3.5\", \"failureMessage\": \"\", \"exceptionClass\": \"\", \"trace\": \"\"}}, \"*\")"
      ],
      "text/plain": [
       "<IPython.core.display.Javascript object>"
      ]
     },
     "metadata": {},
     "output_type": "display_data"
    },
    {
     "data": {
      "text/markdown": [
       "<span style=\"color:#33cc33\">Correct:</span> What?! You got it right without needing a hint or anything? Drats. Well hey, you should still continue to the next step to get some practice asking for a hint and checking solutions. (Even though you obviously don't need any help here.)"
      ],
      "text/plain": [
       "Correct: What?! You got it right without needing a hint or anything? Drats. Well hey, you should still continue to the next step to get some practice asking for a hint and checking solutions. (Even though you obviously don't need any help here.)"
      ]
     },
     "metadata": {},
     "output_type": "display_data"
    }
   ],
   "source": [
    "# create a variable called color with an appropriate value on the line below\n",
    "# (Remember, strings in Python must be enclosed in 'single' or \"double\" quotes)\n",
    "color = 'blue'\n",
    "# Check your answer\n",
    "q0.check()"
   ]
  },
  {
   "cell_type": "markdown",
   "id": "db095aad",
   "metadata": {
    "papermill": {
     "duration": 0.004344,
     "end_time": "2025-04-18T09:24:14.708008",
     "exception": false,
     "start_time": "2025-04-18T09:24:14.703664",
     "status": "completed"
    },
    "tags": []
   },
   "source": [
    "Didn't get the right answer? How do you not even know your own favorite color?!\n",
    "\n",
    "Delete the `#` in the line below to make one of the lines run. You can choose between getting a hint or the full answer by choosing which line to remove the `#` from. \n",
    "\n",
    "Removing the `#` is called uncommenting, because it changes that line from a \"comment\" which Python doesn't run to code, which Python does run."
   ]
  },
  {
   "cell_type": "code",
   "execution_count": 4,
   "id": "b1b61fde",
   "metadata": {
    "execution": {
     "iopub.execute_input": "2025-04-18T09:24:14.718236Z",
     "iopub.status.busy": "2025-04-18T09:24:14.717908Z",
     "iopub.status.idle": "2025-04-18T09:24:14.724502Z",
     "shell.execute_reply": "2025-04-18T09:24:14.723719Z"
    },
    "papermill": {
     "duration": 0.013303,
     "end_time": "2025-04-18T09:24:14.725792",
     "exception": false,
     "start_time": "2025-04-18T09:24:14.712489",
     "status": "completed"
    },
    "tags": []
   },
   "outputs": [
    {
     "data": {
      "application/javascript": [
       "parent.postMessage({\"jupyterEvent\": \"custom.exercise_interaction\", \"data\": {\"interactionType\": 3, \"questionType\": 2, \"questionId\": \"0_ExerciseFormatTutorial\", \"learnToolsVersion\": \"0.3.5\", \"valueTowardsCompletion\": 0.0, \"failureMessage\": \"\", \"exceptionClass\": \"\", \"trace\": \"\", \"outcomeType\": 4}}, \"*\")"
      ],
      "text/plain": [
       "<IPython.core.display.Javascript object>"
      ]
     },
     "metadata": {},
     "output_type": "display_data"
    },
    {
     "data": {
      "text/markdown": [
       "<span style=\"color:#33cc99\">Solution:</span> \n",
       "```python\n",
       "color = \"blue\"\n",
       "```"
      ],
      "text/plain": [
       "Solution: \n",
       "```python\n",
       "color = \"blue\"\n",
       "```"
      ]
     },
     "metadata": {},
     "output_type": "display_data"
    }
   ],
   "source": [
    "#q0.hint()\n",
    "q0.solution()"
   ]
  },
  {
   "cell_type": "markdown",
   "id": "45c96a80",
   "metadata": {
    "papermill": {
     "duration": 0.004571,
     "end_time": "2025-04-18T09:24:14.735836",
     "exception": false,
     "start_time": "2025-04-18T09:24:14.731265",
     "status": "completed"
    },
    "tags": []
   },
   "source": [
    "The upcoming questions work the same way. The only thing that will change are the question numbers. For the next question, you'll call `q1.check()`, `q1.hint()`, `q1.solution()`, for question 2, you'll call `q2.check()`, and so on."
   ]
  },
  {
   "cell_type": "markdown",
   "id": "6559ff54",
   "metadata": {
    "papermill": {
     "duration": 0.004417,
     "end_time": "2025-04-18T09:24:14.744976",
     "exception": false,
     "start_time": "2025-04-18T09:24:14.740559",
     "status": "completed"
    },
    "tags": []
   },
   "source": [
    "<hr/>\n",
    "\n",
    "# 1.\n",
    "\n",
    "Complete the code below. In case it's helpful, here is the table of available arithmetic operations:\n",
    "\n",
    "\n",
    "\n",
    "| Operator     | Name           | Description                                            |\n",
    "|--------------|----------------|--------------------------------------------------------|\n",
    "| ``a + b``    | Addition       | Sum of ``a`` and ``b``                                 |\n",
    "| ``a - b``    | Subtraction    | Difference of ``a`` and ``b``                          |\n",
    "| ``a * b``    | Multiplication | Product of ``a`` and ``b``                             |\n",
    "| ``a / b``    | True division  | Quotient of ``a`` and ``b``                            |\n",
    "| ``a // b``   | Floor division | Quotient of ``a`` and ``b``, removing fractional parts |\n",
    "| ``a % b``    | Modulus        | Integer remainder after division of ``a`` by ``b``     |\n",
    "| ``a ** b``   | Exponentiation | ``a`` raised to the power of ``b``                     |\n",
    "| ``-a``       | Negation       | The negative of ``a``                                  |\n",
    "\n",
    "<span style=\"display:none\"></span>\n"
   ]
  },
  {
   "cell_type": "code",
   "execution_count": 5,
   "id": "fd0d93ef",
   "metadata": {
    "execution": {
     "iopub.execute_input": "2025-04-18T09:24:14.755684Z",
     "iopub.status.busy": "2025-04-18T09:24:14.755087Z",
     "iopub.status.idle": "2025-04-18T09:24:14.761815Z",
     "shell.execute_reply": "2025-04-18T09:24:14.761193Z"
    },
    "papermill": {
     "duration": 0.013461,
     "end_time": "2025-04-18T09:24:14.763004",
     "exception": false,
     "start_time": "2025-04-18T09:24:14.749543",
     "status": "completed"
    },
    "tags": []
   },
   "outputs": [
    {
     "data": {
      "application/javascript": [
       "parent.postMessage({\"jupyterEvent\": \"custom.exercise_interaction\", \"data\": {\"outcomeType\": 1, \"valueTowardsCompletion\": 0.25, \"interactionType\": 1, \"questionType\": 1, \"questionId\": \"1_CircleArea\", \"learnToolsVersion\": \"0.3.5\", \"failureMessage\": \"\", \"exceptionClass\": \"\", \"trace\": \"\"}}, \"*\")"
      ],
      "text/plain": [
       "<IPython.core.display.Javascript object>"
      ]
     },
     "metadata": {},
     "output_type": "display_data"
    },
    {
     "data": {
      "text/markdown": [
       "<span style=\"color:#33cc33\">Correct</span>"
      ],
      "text/plain": [
       "Correct"
      ]
     },
     "metadata": {},
     "output_type": "display_data"
    }
   ],
   "source": [
    "pi = 3.14159 # approximate\n",
    "diameter = 3\n",
    "\n",
    "# Create a variable called 'radius' equal to half the diameter\n",
    "radius=diameter/2\n",
    "\n",
    "# Create a variable called 'area', using the formula for the area of a circle: pi times the radius squared\n",
    "area=pi * radius ** 2\n",
    "\n",
    "# Check your answer\n",
    "q1.check()"
   ]
  },
  {
   "cell_type": "code",
   "execution_count": 6,
   "id": "96939628",
   "metadata": {
    "execution": {
     "iopub.execute_input": "2025-04-18T09:24:14.774530Z",
     "iopub.status.busy": "2025-04-18T09:24:14.773875Z",
     "iopub.status.idle": "2025-04-18T09:24:14.779898Z",
     "shell.execute_reply": "2025-04-18T09:24:14.779221Z"
    },
    "papermill": {
     "duration": 0.012737,
     "end_time": "2025-04-18T09:24:14.781057",
     "exception": false,
     "start_time": "2025-04-18T09:24:14.768320",
     "status": "completed"
    },
    "tags": []
   },
   "outputs": [
    {
     "data": {
      "application/javascript": [
       "parent.postMessage({\"jupyterEvent\": \"custom.exercise_interaction\", \"data\": {\"interactionType\": 3, \"questionType\": 1, \"questionId\": \"1_CircleArea\", \"learnToolsVersion\": \"0.3.5\", \"valueTowardsCompletion\": 0.0, \"failureMessage\": \"\", \"exceptionClass\": \"\", \"trace\": \"\", \"outcomeType\": 4}}, \"*\")"
      ],
      "text/plain": [
       "<IPython.core.display.Javascript object>"
      ]
     },
     "metadata": {},
     "output_type": "display_data"
    },
    {
     "data": {
      "text/markdown": [
       "<span style=\"color:#33cc99\">Solution:</span> \n",
       "```python\n",
       "radius = diameter / 2\n",
       "area = pi * radius ** 2\n",
       "```"
      ],
      "text/plain": [
       "Solution: \n",
       "```python\n",
       "radius = diameter / 2\n",
       "area = pi * radius ** 2\n",
       "```"
      ]
     },
     "metadata": {},
     "output_type": "display_data"
    }
   ],
   "source": [
    "# Uncomment and run the lines below if you need help.\n",
    "#q1.hint()\n",
    "q1.solution()"
   ]
  },
  {
   "cell_type": "markdown",
   "id": "f153d419",
   "metadata": {
    "papermill": {
     "duration": 0.004981,
     "end_time": "2025-04-18T09:24:14.791179",
     "exception": false,
     "start_time": "2025-04-18T09:24:14.786198",
     "status": "completed"
    },
    "tags": []
   },
   "source": [
    "<hr/>\n",
    "\n",
    "# 2.\n",
    "\n",
    "Add code to the following cell to swap variables `a` and `b` (so that `a` refers to the object previously referred to by `b` and vice versa)."
   ]
  },
  {
   "cell_type": "code",
   "execution_count": 7,
   "id": "12f5e221",
   "metadata": {
    "execution": {
     "iopub.execute_input": "2025-04-18T09:24:14.802843Z",
     "iopub.status.busy": "2025-04-18T09:24:14.802245Z",
     "iopub.status.idle": "2025-04-18T09:24:14.809480Z",
     "shell.execute_reply": "2025-04-18T09:24:14.808718Z"
    },
    "papermill": {
     "duration": 0.01454,
     "end_time": "2025-04-18T09:24:14.810740",
     "exception": false,
     "start_time": "2025-04-18T09:24:14.796200",
     "status": "completed"
    },
    "tags": []
   },
   "outputs": [
    {
     "data": {
      "application/javascript": [
       "parent.postMessage({\"jupyterEvent\": \"custom.exercise_interaction\", \"data\": {\"outcomeType\": 1, \"valueTowardsCompletion\": 0.25, \"interactionType\": 1, \"questionType\": 2, \"questionId\": \"2_VariableSwap\", \"learnToolsVersion\": \"0.3.5\", \"failureMessage\": \"\", \"exceptionClass\": \"\", \"trace\": \"\"}}, \"*\")"
      ],
      "text/plain": [
       "<IPython.core.display.Javascript object>"
      ]
     },
     "metadata": {},
     "output_type": "display_data"
    },
    {
     "data": {
      "text/markdown": [
       "<span style=\"color:#33cc33\">Correct:</span> \n",
       "\n",
       "The most straightforward solution is to use a third variable to temporarily store one of the old values. e.g.:\n",
       "\n",
       "    tmp = a\n",
       "    a = b\n",
       "    b = tmp\n",
       "\n",
       "If you've read lots of Python code, you might have seen the following trick to swap two variables in one line:\n",
       "\n",
       "    a, b = b, a\n",
       "\n",
       "We'll demystify this bit of Python magic later when we talk about *tuples*."
      ],
      "text/plain": [
       "Correct: \n",
       "\n",
       "The most straightforward solution is to use a third variable to temporarily store one of the old values. e.g.:\n",
       "\n",
       "    tmp = a\n",
       "    a = b\n",
       "    b = tmp\n",
       "\n",
       "If you've read lots of Python code, you might have seen the following trick to swap two variables in one line:\n",
       "\n",
       "    a, b = b, a\n",
       "\n",
       "We'll demystify this bit of Python magic later when we talk about *tuples*."
      ]
     },
     "metadata": {},
     "output_type": "display_data"
    }
   ],
   "source": [
    "########### Setup code - don't touch this part ######################\n",
    "# If you're curious, these are examples of lists. We'll talk about \n",
    "# them in depth a few lessons from now. For now, just know that they're\n",
    "# yet another type of Python object, like int or float.\n",
    "a = [1, 2, 3]\n",
    "b = [3, 2, 1]\n",
    "q2.store_original_ids()\n",
    "######################################################################\n",
    "\n",
    "# Your code goes here. Swap the values to which a and b refer.\n",
    "# If you get stuck, you can always uncomment one or both of the lines in\n",
    "# the next cell for a hint, or to peek at the solution.\n",
    "tmp = a\n",
    "a = b\n",
    "b = tmp\n",
    "\n",
    "######################################################################\n",
    "\n",
    "# Check your answer\n",
    "q2.check()"
   ]
  },
  {
   "cell_type": "code",
   "execution_count": 8,
   "id": "d7c7bd34",
   "metadata": {
    "execution": {
     "iopub.execute_input": "2025-04-18T09:24:14.823196Z",
     "iopub.status.busy": "2025-04-18T09:24:14.822891Z",
     "iopub.status.idle": "2025-04-18T09:24:14.826719Z",
     "shell.execute_reply": "2025-04-18T09:24:14.825933Z"
    },
    "papermill": {
     "duration": 0.011559,
     "end_time": "2025-04-18T09:24:14.828021",
     "exception": false,
     "start_time": "2025-04-18T09:24:14.816462",
     "status": "completed"
    },
    "tags": []
   },
   "outputs": [],
   "source": [
    "#q2.hint()"
   ]
  },
  {
   "cell_type": "code",
   "execution_count": 9,
   "id": "21778f76",
   "metadata": {
    "execution": {
     "iopub.execute_input": "2025-04-18T09:24:14.840316Z",
     "iopub.status.busy": "2025-04-18T09:24:14.840012Z",
     "iopub.status.idle": "2025-04-18T09:24:14.846759Z",
     "shell.execute_reply": "2025-04-18T09:24:14.845931Z"
    },
    "papermill": {
     "duration": 0.014596,
     "end_time": "2025-04-18T09:24:14.848225",
     "exception": false,
     "start_time": "2025-04-18T09:24:14.833629",
     "status": "completed"
    },
    "tags": []
   },
   "outputs": [
    {
     "data": {
      "application/javascript": [
       "parent.postMessage({\"jupyterEvent\": \"custom.exercise_interaction\", \"data\": {\"interactionType\": 3, \"questionType\": 2, \"questionId\": \"2_VariableSwap\", \"learnToolsVersion\": \"0.3.5\", \"valueTowardsCompletion\": 0.0, \"failureMessage\": \"\", \"exceptionClass\": \"\", \"trace\": \"\", \"outcomeType\": 4}}, \"*\")"
      ],
      "text/plain": [
       "<IPython.core.display.Javascript object>"
      ]
     },
     "metadata": {},
     "output_type": "display_data"
    },
    {
     "data": {
      "text/markdown": [
       "<span style=\"color:#33cc99\">Solution:</span> The most straightforward solution is to use a third variable to temporarily store one of the old values. e.g.:\n",
       "\n",
       "    tmp = a\n",
       "    a = b\n",
       "    b = tmp\n",
       "\n",
       "If you've read lots of Python code, you might have seen the following trick to swap two variables in one line:\n",
       "\n",
       "    a, b = b, a\n",
       "\n",
       "We'll demystify this bit of Python magic later when we talk about *tuples*."
      ],
      "text/plain": [
       "Solution: The most straightforward solution is to use a third variable to temporarily store one of the old values. e.g.:\n",
       "\n",
       "    tmp = a\n",
       "    a = b\n",
       "    b = tmp\n",
       "\n",
       "If you've read lots of Python code, you might have seen the following trick to swap two variables in one line:\n",
       "\n",
       "    a, b = b, a\n",
       "\n",
       "We'll demystify this bit of Python magic later when we talk about *tuples*."
      ]
     },
     "metadata": {},
     "output_type": "display_data"
    }
   ],
   "source": [
    "q2.solution()"
   ]
  },
  {
   "cell_type": "markdown",
   "id": "81e8bd17",
   "metadata": {
    "papermill": {
     "duration": 0.005447,
     "end_time": "2025-04-18T09:24:14.859292",
     "exception": false,
     "start_time": "2025-04-18T09:24:14.853845",
     "status": "completed"
    },
    "tags": []
   },
   "source": [
    "<hr/>\n",
    "\n",
    "# 3a.\n",
    "\n",
    "Add parentheses to the following expression so that it evaluates to 1."
   ]
  },
  {
   "cell_type": "code",
   "execution_count": 10,
   "id": "1fd83825",
   "metadata": {
    "execution": {
     "iopub.execute_input": "2025-04-18T09:24:14.871887Z",
     "iopub.status.busy": "2025-04-18T09:24:14.871502Z",
     "iopub.status.idle": "2025-04-18T09:24:14.876160Z",
     "shell.execute_reply": "2025-04-18T09:24:14.875503Z"
    },
    "papermill": {
     "duration": 0.012652,
     "end_time": "2025-04-18T09:24:14.877571",
     "exception": false,
     "start_time": "2025-04-18T09:24:14.864919",
     "status": "completed"
    },
    "tags": []
   },
   "outputs": [
    {
     "data": {
      "text/plain": [
       "4"
      ]
     },
     "execution_count": 10,
     "metadata": {},
     "output_type": "execute_result"
    }
   ],
   "source": [
    "5 - 3 // 2"
   ]
  },
  {
   "cell_type": "code",
   "execution_count": 11,
   "id": "4a799641",
   "metadata": {
    "execution": {
     "iopub.execute_input": "2025-04-18T09:24:14.890218Z",
     "iopub.status.busy": "2025-04-18T09:24:14.889689Z",
     "iopub.status.idle": "2025-04-18T09:24:14.893016Z",
     "shell.execute_reply": "2025-04-18T09:24:14.892437Z"
    },
    "papermill": {
     "duration": 0.011041,
     "end_time": "2025-04-18T09:24:14.894302",
     "exception": false,
     "start_time": "2025-04-18T09:24:14.883261",
     "status": "completed"
    },
    "tags": []
   },
   "outputs": [],
   "source": [
    "#q3.a.hint()"
   ]
  },
  {
   "cell_type": "code",
   "execution_count": 12,
   "id": "1d83c4e7",
   "metadata": {
    "execution": {
     "iopub.execute_input": "2025-04-18T09:24:14.906225Z",
     "iopub.status.busy": "2025-04-18T09:24:14.905953Z",
     "iopub.status.idle": "2025-04-18T09:24:14.912531Z",
     "shell.execute_reply": "2025-04-18T09:24:14.911713Z"
    },
    "papermill": {
     "duration": 0.014012,
     "end_time": "2025-04-18T09:24:14.913823",
     "exception": false,
     "start_time": "2025-04-18T09:24:14.899811",
     "status": "completed"
    },
    "tags": []
   },
   "outputs": [
    {
     "data": {
      "application/javascript": [
       "parent.postMessage({\"jupyterEvent\": \"custom.exercise_interaction\", \"data\": {\"interactionType\": 3, \"questionType\": 4, \"questionId\": \"3.1_ArithmeticParensEasy\", \"learnToolsVersion\": \"0.3.5\", \"valueTowardsCompletion\": 0.0, \"failureMessage\": \"\", \"exceptionClass\": \"\", \"trace\": \"\", \"outcomeType\": 4}}, \"*\")"
      ],
      "text/plain": [
       "<IPython.core.display.Javascript object>"
      ]
     },
     "metadata": {},
     "output_type": "display_data"
    },
    {
     "data": {
      "text/markdown": [
       "<span style=\"color:#33cc99\">Solution:</span> \n",
       "```python\n",
       "(5 - 3) // 2\n",
       "```"
      ],
      "text/plain": [
       "Solution: \n",
       "```python\n",
       "(5 - 3) // 2\n",
       "```"
      ]
     },
     "metadata": {},
     "output_type": "display_data"
    }
   ],
   "source": [
    "# Check your answer (Run this code cell to receive credit!)\n",
    "q3.a.solution()"
   ]
  },
  {
   "cell_type": "markdown",
   "id": "3dbab17c",
   "metadata": {
    "papermill": {
     "duration": 0.005571,
     "end_time": "2025-04-18T09:24:14.925445",
     "exception": false,
     "start_time": "2025-04-18T09:24:14.919874",
     "status": "completed"
    },
    "tags": []
   },
   "source": [
    "# 3b.  <span title=\"A bit spicy\" style=\"color: darkgreen \">🌶️</span>\n",
    "\n",
    "<small>Questions, like this one, marked a spicy pepper are a bit harder.</small>\n",
    "\n",
    "Add parentheses to the following expression so that it evaluates to 0."
   ]
  },
  {
   "cell_type": "code",
   "execution_count": 13,
   "id": "e7afe09c",
   "metadata": {
    "execution": {
     "iopub.execute_input": "2025-04-18T09:24:14.938003Z",
     "iopub.status.busy": "2025-04-18T09:24:14.937721Z",
     "iopub.status.idle": "2025-04-18T09:24:14.943506Z",
     "shell.execute_reply": "2025-04-18T09:24:14.942720Z"
    },
    "papermill": {
     "duration": 0.013745,
     "end_time": "2025-04-18T09:24:14.944835",
     "exception": false,
     "start_time": "2025-04-18T09:24:14.931090",
     "status": "completed"
    },
    "tags": []
   },
   "outputs": [
    {
     "data": {
      "text/plain": [
       "2"
      ]
     },
     "execution_count": 13,
     "metadata": {},
     "output_type": "execute_result"
    }
   ],
   "source": [
    "8 - 3 * 2 - 1 + 1"
   ]
  },
  {
   "cell_type": "code",
   "execution_count": 14,
   "id": "8690aeaf",
   "metadata": {
    "execution": {
     "iopub.execute_input": "2025-04-18T09:24:14.957751Z",
     "iopub.status.busy": "2025-04-18T09:24:14.957476Z",
     "iopub.status.idle": "2025-04-18T09:24:14.960981Z",
     "shell.execute_reply": "2025-04-18T09:24:14.960213Z"
    },
    "papermill": {
     "duration": 0.011443,
     "end_time": "2025-04-18T09:24:14.962269",
     "exception": false,
     "start_time": "2025-04-18T09:24:14.950826",
     "status": "completed"
    },
    "tags": []
   },
   "outputs": [],
   "source": [
    "#q3.b.hint()"
   ]
  },
  {
   "cell_type": "code",
   "execution_count": 15,
   "id": "7f6557c2",
   "metadata": {
    "execution": {
     "iopub.execute_input": "2025-04-18T09:24:14.975409Z",
     "iopub.status.busy": "2025-04-18T09:24:14.975135Z",
     "iopub.status.idle": "2025-04-18T09:24:14.981099Z",
     "shell.execute_reply": "2025-04-18T09:24:14.980475Z"
    },
    "papermill": {
     "duration": 0.014082,
     "end_time": "2025-04-18T09:24:14.982327",
     "exception": false,
     "start_time": "2025-04-18T09:24:14.968245",
     "status": "completed"
    },
    "tags": []
   },
   "outputs": [
    {
     "data": {
      "application/javascript": [
       "parent.postMessage({\"jupyterEvent\": \"custom.exercise_interaction\", \"data\": {\"interactionType\": 3, \"questionType\": 4, \"questionId\": \"3.2_ArithmeticParensHard\", \"learnToolsVersion\": \"0.3.5\", \"valueTowardsCompletion\": 0.0, \"failureMessage\": \"\", \"exceptionClass\": \"\", \"trace\": \"\", \"outcomeType\": 4}}, \"*\")"
      ],
      "text/plain": [
       "<IPython.core.display.Javascript object>"
      ]
     },
     "metadata": {},
     "output_type": "display_data"
    },
    {
     "data": {
      "text/markdown": [
       "<span style=\"color:#33cc99\">Solution:</span> `(8 - 3) * (2 - (1 + 1))` is one solution. There may be others."
      ],
      "text/plain": [
       "Solution: `(8 - 3) * (2 - (1 + 1))` is one solution. There may be others."
      ]
     },
     "metadata": {},
     "output_type": "display_data"
    }
   ],
   "source": [
    "# Check your answer (Run this code cell to receive credit!)\n",
    "q3.b.solution()"
   ]
  },
  {
   "cell_type": "markdown",
   "id": "50c27335",
   "metadata": {
    "papermill": {
     "duration": 0.005897,
     "end_time": "2025-04-18T09:24:14.995049",
     "exception": false,
     "start_time": "2025-04-18T09:24:14.989152",
     "status": "completed"
    },
    "tags": []
   },
   "source": [
    "<hr/>\n",
    "\n",
    "# 4. \n",
    "Alice, Bob and Carol have agreed to pool their Halloween candy and split it evenly among themselves.\n",
    "For the sake of their friendship, any candies left over will be smashed. For example, if they collectively\n",
    "bring home 91 candies, they'll take 30 each and smash 1.\n",
    "\n",
    "Write an arithmetic expression below to calculate how many candies they must smash for a given haul."
   ]
  },
  {
   "cell_type": "code",
   "execution_count": 16,
   "id": "7fc2e18a",
   "metadata": {
    "execution": {
     "iopub.execute_input": "2025-04-18T09:24:15.008646Z",
     "iopub.status.busy": "2025-04-18T09:24:15.008141Z",
     "iopub.status.idle": "2025-04-18T09:24:15.015142Z",
     "shell.execute_reply": "2025-04-18T09:24:15.014375Z"
    },
    "papermill": {
     "duration": 0.015209,
     "end_time": "2025-04-18T09:24:15.016407",
     "exception": false,
     "start_time": "2025-04-18T09:24:15.001198",
     "status": "completed"
    },
    "tags": []
   },
   "outputs": [
    {
     "data": {
      "application/javascript": [
       "parent.postMessage({\"jupyterEvent\": \"custom.exercise_interaction\", \"data\": {\"outcomeType\": 1, \"valueTowardsCompletion\": 0.25, \"interactionType\": 1, \"questionType\": 1, \"questionId\": \"4_CandySplitting\", \"learnToolsVersion\": \"0.3.5\", \"failureMessage\": \"\", \"exceptionClass\": \"\", \"trace\": \"\"}}, \"*\")"
      ],
      "text/plain": [
       "<IPython.core.display.Javascript object>"
      ]
     },
     "metadata": {},
     "output_type": "display_data"
    },
    {
     "data": {
      "text/markdown": [
       "<span style=\"color:#33cc33\">Correct</span>"
      ],
      "text/plain": [
       "Correct"
      ]
     },
     "metadata": {},
     "output_type": "display_data"
    }
   ],
   "source": [
    "# Variables representing the number of candies collected by alice, bob, and carol\n",
    "alice_candies = 121\n",
    "bob_candies = 77\n",
    "carol_candies = 109\n",
    "\n",
    "# Your code goes here! Replace the right-hand side of this assignment with an expression\n",
    "# involving alice_candies, bob_candies, and carol_candies\n",
    "to_smash = (alice_candies + bob_candies + carol_candies) % 3\n",
    "\n",
    "\n",
    "# Check your answer\n",
    "q4.check()"
   ]
  },
  {
   "cell_type": "code",
   "execution_count": 17,
   "id": "33fca817",
   "metadata": {
    "execution": {
     "iopub.execute_input": "2025-04-18T09:24:15.030038Z",
     "iopub.status.busy": "2025-04-18T09:24:15.029750Z",
     "iopub.status.idle": "2025-04-18T09:24:15.035833Z",
     "shell.execute_reply": "2025-04-18T09:24:15.035142Z"
    },
    "papermill": {
     "duration": 0.014349,
     "end_time": "2025-04-18T09:24:15.037183",
     "exception": false,
     "start_time": "2025-04-18T09:24:15.022834",
     "status": "completed"
    },
    "tags": []
   },
   "outputs": [
    {
     "data": {
      "application/javascript": [
       "parent.postMessage({\"jupyterEvent\": \"custom.exercise_interaction\", \"data\": {\"interactionType\": 3, \"questionType\": 1, \"questionId\": \"4_CandySplitting\", \"learnToolsVersion\": \"0.3.5\", \"valueTowardsCompletion\": 0.0, \"failureMessage\": \"\", \"exceptionClass\": \"\", \"trace\": \"\", \"outcomeType\": 4}}, \"*\")"
      ],
      "text/plain": [
       "<IPython.core.display.Javascript object>"
      ]
     },
     "metadata": {},
     "output_type": "display_data"
    },
    {
     "data": {
      "text/markdown": [
       "<span style=\"color:#33cc99\">Solution:</span> \n",
       "```python\n",
       "(alice_candies + bob_candies + carol_candies) % 3\n",
       "```"
      ],
      "text/plain": [
       "Solution: \n",
       "```python\n",
       "(alice_candies + bob_candies + carol_candies) % 3\n",
       "```"
      ]
     },
     "metadata": {},
     "output_type": "display_data"
    }
   ],
   "source": [
    "#q4.hint()\n",
    "q4.solution()"
   ]
  },
  {
   "cell_type": "markdown",
   "id": "0d4f8646",
   "metadata": {
    "papermill": {
     "duration": 0.006129,
     "end_time": "2025-04-18T09:24:15.049854",
     "exception": false,
     "start_time": "2025-04-18T09:24:15.043725",
     "status": "completed"
    },
    "tags": []
   },
   "source": [
    "# Keep Going\n",
    "\n",
    "Next up, you'll **[learn to write new functions and understand functions others write](https://www.kaggle.com/colinmorris/functions-and-getting-help)**. This will make you at least 10 times more productive as a Python programmer. "
   ]
  },
  {
   "cell_type": "markdown",
   "id": "e49fdf8d",
   "metadata": {
    "papermill": {
     "duration": 0.006066,
     "end_time": "2025-04-18T09:24:15.062309",
     "exception": false,
     "start_time": "2025-04-18T09:24:15.056243",
     "status": "completed"
    },
    "tags": []
   },
   "source": [
    "---\n",
    "\n",
    "\n",
    "\n",
    "\n",
    "*Have questions or comments? Visit the [course discussion forum](https://www.kaggle.com/learn/python/discussion) to chat with other learners.*"
   ]
  }
 ],
 "metadata": {
  "kaggle": {
   "accelerator": "none",
   "dataSources": [],
   "isGpuEnabled": false,
   "isInternetEnabled": false,
   "language": "python",
   "sourceType": "notebook"
  },
  "kernelspec": {
   "display_name": "Python 3",
   "language": "python",
   "name": "python3"
  },
  "language_info": {
   "codemirror_mode": {
    "name": "ipython",
    "version": 3
   },
   "file_extension": ".py",
   "mimetype": "text/x-python",
   "name": "python",
   "nbconvert_exporter": "python",
   "pygments_lexer": "ipython3",
   "version": "3.11.11"
  },
  "learntools_metadata": {
   "lesson_index": 0,
   "type": "exercise"
  },
  "papermill": {
   "default_parameters": {},
   "duration": 7.508252,
   "end_time": "2025-04-18T09:24:15.486550",
   "environment_variables": {},
   "exception": null,
   "input_path": "__notebook__.ipynb",
   "output_path": "__notebook__.ipynb",
   "parameters": {},
   "start_time": "2025-04-18T09:24:07.978298",
   "version": "2.6.0"
  }
 },
 "nbformat": 4,
 "nbformat_minor": 5
}
